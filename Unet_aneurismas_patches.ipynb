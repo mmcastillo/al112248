{
  "cells": [
    {
      "cell_type": "markdown",
      "metadata": {
        "id": "view-in-github",
        "colab_type": "text"
      },
      "source": [
        "<a href=\"https://colab.research.google.com/github/mmcastillo/al112248/blob/main/Unet_aneurismas_patches.ipynb\" target=\"_parent\"><img src=\"https://colab.research.google.com/assets/colab-badge.svg\" alt=\"Open In Colab\"/></a>"
      ]
    },
    {
      "cell_type": "code",
      "source": [
        "pip install patchify"
      ],
      "metadata": {
        "colab": {
          "base_uri": "https://localhost:8080/"
        },
        "id": "b1evqfDUxzk7",
        "outputId": "14d061da-61ad-437e-cd40-aba0e8d2959c"
      },
      "execution_count": null,
      "outputs": [
        {
          "output_type": "stream",
          "name": "stdout",
          "text": [
            "Looking in indexes: https://pypi.org/simple, https://us-python.pkg.dev/colab-wheels/public/simple/\n",
            "Requirement already satisfied: patchify in /usr/local/lib/python3.7/dist-packages (0.2.3)\n",
            "Requirement already satisfied: numpy<2,>=1 in /usr/local/lib/python3.7/dist-packages (from patchify) (1.21.6)\n"
          ]
        }
      ]
    },
    {
      "cell_type": "code",
      "execution_count": null,
      "metadata": {
        "colab": {
          "base_uri": "https://localhost:8080/"
        },
        "id": "GieFQU-yp91T",
        "outputId": "122082df-290b-4e3c-ee32-ec7ecaf6decb"
      },
      "outputs": [
        {
          "output_type": "stream",
          "name": "stdout",
          "text": [
            "Drive already mounted at /content/drive/; to attempt to forcibly remount, call drive.mount(\"/content/drive/\", force_remount=True).\n"
          ]
        }
      ],
      "source": [
        "#Codigo para entrenar una U-NET con controles y pacientes con aneurismas\n",
        "#M.I.B. Mario O. Mata-Castillo @08-2022\n",
        "\n",
        "import numpy as np\n",
        "import matplotlib.pyplot as plt\n",
        "import nibabel as nib\n",
        "import os\n",
        "from google.colab import drive\n",
        "drive.mount('/content/drive/');\n",
        "from patchify import patchify, unpatchify\n",
        "import tensorflow as tf\n",
        "from tensorflow import keras\n",
        "from keras.models import Model\n",
        "from keras import layers\n",
        "from keras.layers import Input, Conv3D, MaxPooling3D, UpSampling3D, concatenate, Conv3DTranspose, BatchNormalization, Dropout, Lambda\n",
        "from keras.layers import Activation, MaxPool2D, Concatenate\n",
        "from scipy import ndimage\n",
        "from sklearn.model_selection import train_test_split\n",
        "import cv2"
      ]
    },
    {
      "cell_type": "code",
      "execution_count": null,
      "metadata": {
        "id": "WY1qufNs2El2"
      },
      "outputs": [],
      "source": [
        "def resize_volume(img):\n",
        "    # Set the desired depth\n",
        "    desired_depth = 140\n",
        "    desired_width = 560\n",
        "    desired_height = 560\n",
        "    # Get current depth\n",
        "    current_depth = img.shape[-1]\n",
        "    current_width = img.shape[0]\n",
        "    current_height = img.shape[1]\n",
        "    # Compute depth factor\n",
        "    depth = current_depth / desired_depth\n",
        "    width = current_width / desired_width\n",
        "    height = current_height / desired_height\n",
        "    depth_factor = 1 / depth\n",
        "    width_factor = 1 / width\n",
        "    height_factor = 1 / height\n",
        "    # Resize across z-axis\n",
        "    img = ndimage.zoom(img, (width_factor, height_factor, depth_factor), order=1)\n",
        "    return img"
      ]
    },
    {
      "cell_type": "code",
      "execution_count": null,
      "metadata": {
        "id": "aRbQnF1MM3M_"
      },
      "outputs": [],
      "source": [
        "#Carga conjunto de entrenamiento\n",
        "ruta_TOF = '/content/drive/MyDrive/DOCTORADO/python/adam_subset/train_images/';\n",
        "lista_archivos_TOF = os.listdir(ruta_TOF)\n",
        "X =[]\n",
        "\n",
        "for i, file in enumerate(lista_archivos_TOF):\n",
        "    if file[-8:]=='B.nii.gz':\n",
        "        data = nib.load(ruta_TOF + file)\n",
        "        temp = data.get_fdata()\n",
        "        temp = cv2.normalize(temp, None, 0, 255, cv2.NORM_MINMAX, cv2.CV_8U)\n",
        "        temp = temp.astype(np.uint8)\n",
        "        X.append(temp)\n",
        "        \n",
        "#Carga etiquetas de entrenamiento\n",
        "ruta_mascaras = '/content/drive/MyDrive/DOCTORADO/python/adam_subset/train_tags/'; \n",
        "lista_archivos_mascaras = os.listdir(ruta_mascaras)\n",
        "Y =[]\n",
        "\n",
        "for i, file in enumerate(lista_archivos_mascaras):\n",
        "    if file[-8:]=='B.nii.gz':\n",
        "        data = nib.load(ruta_mascaras+ file)\n",
        "        temp = data.get_fdata()\n",
        "        temp = temp.astype(np.uint8)\n",
        "        Y.append(temp)"
      ]
    },
    {
      "cell_type": "code",
      "execution_count": null,
      "metadata": {
        "id": "NhEI3mtPsj5Q"
      },
      "outputs": [],
      "source": [
        "for i in range(len(X)):\n",
        "  X[i] = resize_volume(X[i])\n",
        "\n",
        "X = np.asarray(X)\n",
        "\n",
        "for i in range(len(Y)):\n",
        "  Y[i] = resize_volume(Y[i])\n",
        "\n",
        "Y = np.asarray(Y)"
      ]
    },
    {
      "cell_type": "code",
      "execution_count": null,
      "metadata": {
        "colab": {
          "base_uri": "https://localhost:8080/",
          "height": 183
        },
        "id": "wjdwuEFniwG_",
        "outputId": "66545646-85e2-4e45-d954-7b880a33cc4c"
      },
      "outputs": [
        {
          "output_type": "display_data",
          "data": {
            "text/plain": [
              "<Figure size 432x288 with 2 Axes>"
            ],
            "image/png": "[encoded data removed]"
          },
          "metadata": {
            "needs_background": "light"
          }
        }
      ],
      "source": [
        "corte = 23\n",
        "plt.subplot(1,2,1)\n",
        "plt.imshow(X[0][:,:,corte], cmap='gray')\n",
        "plt.axis('off');\n",
        "plt.subplot(1,2,2)\n",
        "plt.imshow(Y[0][:,:,corte],cmap='gray')\n",
        "plt.axis('off');"
      ]
    },
    {
      "cell_type": "code",
      "source": [
        "def normalizar(volume):\n",
        "  \"Normalizar las intensidades de las imágenes de 0 a 1\"\n",
        "  volume = volume/np.max(volume) #Cambiar a 2^12\n",
        "  return volume"
      ],
      "metadata": {
        "id": "D0QAxl5ktRYP"
      },
      "execution_count": null,
      "outputs": []
    },
    {
      "cell_type": "code",
      "execution_count": null,
      "metadata": {
        "id": "aLVHbaD45wtu"
      },
      "outputs": [],
      "source": [
        "volume = normalizar(X)\n",
        "print(volume.shape)\n",
        "\n",
        "\n",
        "volume_tags = normalizar(Y)\n",
        "print(volume_tags.shape)\n",
        "\n",
        "del X,Y"
      ]
    },
    {
      "cell_type": "code",
      "source": [
        "img_patches = patchify(volume, (5, 32, 32, 32), step=32)\n",
        "mask_patches = patchify(volume_tags, (5, 32, 32, 32), step=32)  \n",
        "del volume,volume_tags"
      ],
      "metadata": {
        "id": "Os2kDgp7w-7p"
      },
      "execution_count": null,
      "outputs": []
    },
    {
      "cell_type": "code",
      "source": [
        "np.unique(mask_patches[0,2,1,0,1,:,:,22])"
      ],
      "metadata": {
        "id": "gOb1hjM24IeS"
      },
      "execution_count": null,
      "outputs": []
    },
    {
      "cell_type": "code",
      "source": [
        "plt.subplot(121),\n",
        "plt.imshow(img_patches[0,2,1,0,1,:,:,22],cmap='gray');\n",
        "plt.subplot(122),\n",
        "plt.imshow(mask_patches[0,2,1,0,1,:,:,22],cmap='gray');"
      ],
      "metadata": {
        "id": "dxrd2BtCyKtD"
      },
      "execution_count": null,
      "outputs": []
    },
    {
      "cell_type": "code",
      "source": [
        "input_img = np.reshape(img_patches, (-1,img_patches.shape[5], img_patches.shape[6], img_patches.shape[7]))\n",
        "input_mask = np.reshape(mask_patches, (-1,mask_patches.shape[5], mask_patches.shape[6], mask_patches.shape[7]))\n",
        "\n",
        "print(input_img.shape)  # n_patches, # casos, x, y, z\n",
        "\n",
        "del img_patches,mask_patches"
      ],
      "metadata": {
        "id": "oTSRVuU1zgVj"
      },
      "execution_count": null,
      "outputs": []
    },
    {
      "cell_type": "code",
      "source": [
        "def conv_block(input, num_filters):\n",
        "    x = Conv3D(num_filters, 3, padding=\"same\")(input)\n",
        "    x = BatchNormalization()(x)   #Not in the original network. \n",
        "    x = Activation(\"relu\")(x)\n",
        "\n",
        "    x = Conv3D(num_filters, 3, padding=\"same\")(x)\n",
        "    x = BatchNormalization()(x)  #Not in the original network\n",
        "    x = Activation(\"relu\")(x)\n",
        "\n",
        "    return x\n",
        "\n",
        "#Encoder block: Conv block followed by maxpooling\n",
        "\n",
        "\n",
        "def encoder_block(input, num_filters):\n",
        "    x = conv_block(input, num_filters)\n",
        "    p = MaxPooling3D((2, 2, 2))(x)\n",
        "    return x, p   \n",
        "\n",
        "#Decoder block\n",
        "#skip features gets input from encoder for concatenation\n",
        "\n",
        "def decoder_block(input, skip_features, num_filters):\n",
        "    x = Conv3DTranspose(num_filters, (2, 2, 2), strides=2, padding=\"same\")(input)\n",
        "    x = Concatenate()([x, skip_features])\n",
        "    x = conv_block(x, num_filters)\n",
        "    return x\n",
        "\n",
        "#Build Unet using the blocks\n",
        "def build_unet(input_shape):\n",
        "    inputs = Input(input_shape)\n",
        "\n",
        "    s1, p1 = encoder_block(inputs, 64)\n",
        "    s2, p2 = encoder_block(p1, 128)\n",
        "    s3, p3 = encoder_block(p2, 256)\n",
        "    s4, p4 = encoder_block(p3, 512)\n",
        "\n",
        "    b1 = conv_block(p4, 1024) #Bridge\n",
        "\n",
        "    d1 = decoder_block(b1, s4, 512)\n",
        "    d2 = decoder_block(d1, s3, 256)\n",
        "    d3 = decoder_block(d2, s2, 128)\n",
        "    d4 = decoder_block(d3, s1, 64)\n",
        "\n",
        "    activation = 'softmax'\n",
        "\n",
        "    outputs = Conv3D(1, 1, padding=\"same\", activation=activation)(d4)  #Change the activation based on n_classes\n",
        "    print(f'activation function: {activation}')\n",
        "\n",
        "    model = Model(inputs, outputs, name=\"U-Net\")\n",
        "    return model"
      ],
      "metadata": {
        "id": "bv3JM39CV_tU"
      },
      "execution_count": null,
      "outputs": []
    },
    {
      "cell_type": "code",
      "source": [
        "model = build_unet(( 32, 32, 32, 1))\n",
        "print(f'model input shape: {model.input_shape}')"
      ],
      "metadata": {
        "id": "u6qkE9MIgBYB"
      },
      "execution_count": null,
      "outputs": []
    },
    {
      "cell_type": "code",
      "source": [
        "from keras import backend as K\n",
        "\n",
        "# Loss Function and coefficients to be used during training:\n",
        "def dice_coefficient(y_true, y_pred):\n",
        "    smoothing_factor = 1\n",
        "    flat_y_true = K.flatten(y_true)\n",
        "    flat_y_pred = K.flatten(y_pred)\n",
        "    return (2. * K.sum(flat_y_true * flat_y_pred) + smoothing_factor) / (K.sum(flat_y_true) + K.sum(flat_y_pred) + smoothing_factor)\n",
        "\n",
        "def dice_coefficient_loss(y_true, y_pred):\n",
        "    return 1 - dice_coefficient(y_true, y_pred)"
      ],
      "metadata": {
        "id": "4-ffnnX2lDT3"
      },
      "execution_count": null,
      "outputs": []
    },
    {
      "cell_type": "code",
      "source": [
        "LR = 0.001\n",
        "optim = keras.optimizers.Adam(LR)\n",
        "\n",
        "model.compile(optimizer=optim, loss=dice_coefficient_loss ,metrics = [dice_coefficient])\n",
        "print(model.summary())"
      ],
      "metadata": {
        "id": "Cg8cd8WeixXu"
      },
      "execution_count": null,
      "outputs": []
    },
    {
      "cell_type": "code",
      "source": [
        "train_img = np.expand_dims(input_img, axis=4)\n",
        "print(train_img.shape)\n",
        "\n",
        "train_mask = np.expand_dims(input_mask, axis=4)\n",
        "print(train_mask.shape)"
      ],
      "metadata": {
        "id": "IFr8ViMouq4Z"
      },
      "execution_count": null,
      "outputs": []
    },
    {
      "cell_type": "code",
      "source": [
        "X_train, X_test, y_train, y_test = train_test_split(train_img, train_mask, test_size = 0.30, random_state = 0)\n",
        "del train_img \n",
        "del train_mask"
      ],
      "metadata": {
        "id": "tkgOIup_wgmj"
      },
      "execution_count": null,
      "outputs": []
    },
    {
      "cell_type": "code",
      "source": [
        "print(model.input_shape)\n",
        "print(X_train.shape)\n",
        "print(model.output_shape)\n",
        "print(y_train.shape)"
      ],
      "metadata": {
        "id": "iyaacBD8wlWR"
      },
      "execution_count": null,
      "outputs": []
    },
    {
      "cell_type": "code",
      "source": [
        "#Fit the model\n",
        "model.fit(X_train, y_train, validation_split = 0.3, batch_size=32, epochs=100)"
      ],
      "metadata": {
        "id": "q5n_rIbVlQ5I"
      },
      "execution_count": null,
      "outputs": []
    },
    {
      "cell_type": "code",
      "source": [
        "y_pred=model.predict(X_test)\n",
        "#y_pred = y_pred >= 0.5 \n",
        "#y_pred = y_pred.astype(int)\n",
        "print(y_pred.shape)\n",
        "print(np.unique(y_pred))"
      ],
      "metadata": {
        "id": "1lmgaxe9m3YL"
      },
      "execution_count": null,
      "outputs": []
    },
    {
      "cell_type": "code",
      "source": [
        "print(np.unique(y_test[38,:,:,26,:]))"
      ],
      "metadata": {
        "id": "1g5KlvQhFc7U"
      },
      "execution_count": null,
      "outputs": []
    },
    {
      "cell_type": "code",
      "source": [
        "plt.subplot(1,3,1)\n",
        "plt.imshow(X_test[38,:,:,26,0],cmap='gray');\n",
        "plt.subplot(1,3,2)\n",
        "plt.imshow(y_test[38,:,:,26,0],cmap='gray');\n",
        "plt.subplot(1,3,3)\n",
        "plt.imshow(y_pred[38,:,:,26,0],cmap='gray');"
      ],
      "metadata": {
        "id": "rXKSjagzd7Y8"
      },
      "execution_count": null,
      "outputs": []
    },
    {
      "cell_type": "code",
      "source": [],
      "metadata": {
        "id": "p8OSiRR0C60Z"
      },
      "execution_count": null,
      "outputs": []
    }
  ],
  "metadata": {
    "colab": {
      "provenance": [],
      "include_colab_link": true
    },
    "gpuClass": "standard",
    "kernelspec": {
      "display_name": "Python 3",
      "name": "python3"
    },
    "language_info": {
      "name": "python"
    },
    "accelerator": "GPU"
  },
  "nbformat": 4,
  "nbformat_minor": 0
}