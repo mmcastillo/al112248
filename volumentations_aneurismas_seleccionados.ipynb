{
  "nbformat": 4,
  "nbformat_minor": 0,
  "metadata": {
    "colab": {
      "provenance": [],
      "authorship_tag": "ABX9TyMLt2+y2GvtLe9CuxSqXEZ9",
      "include_colab_link": true
    },
    "kernelspec": {
      "name": "python3",
      "display_name": "Python 3"
    },
    "language_info": {
      "name": "python"
    }
  },
  "cells": [
    {
      "cell_type": "markdown",
      "metadata": {
        "id": "view-in-github",
        "colab_type": "text"
      },
      "source": [
        "<a href=\"https://colab.research.google.com/github/mmcastillo/al112248/blob/main/volumentations_aneurismas_seleccionados.ipynb\" target=\"_parent\"><img src=\"https://colab.research.google.com/assets/colab-badge.svg\" alt=\"Open In Colab\"/></a>"
      ]
    },
    {
      "cell_type": "code",
      "execution_count": 23,
      "metadata": {
        "colab": {
          "base_uri": "https://localhost:8080/"
        },
        "id": "qbMcWP9L3TdE",
        "outputId": "70cab21b-94f4-4d70-c92a-461242bceeff"
      },
      "outputs": [
        {
          "output_type": "stream",
          "name": "stdout",
          "text": [
            "Looking in indexes: https://pypi.org/simple, https://us-python.pkg.dev/colab-wheels/public/simple/\n",
            "Requirement already satisfied: volumentations-3D in /usr/local/lib/python3.7/dist-packages (1.0.4)\n",
            "Requirement already satisfied: numpy in /usr/local/lib/python3.7/dist-packages (from volumentations-3D) (1.21.6)\n",
            "Requirement already satisfied: scikit-image in /usr/local/lib/python3.7/dist-packages (from volumentations-3D) (0.18.3)\n",
            "Requirement already satisfied: opencv-python in /usr/local/lib/python3.7/dist-packages (from volumentations-3D) (4.6.0.66)\n",
            "Requirement already satisfied: scipy in /usr/local/lib/python3.7/dist-packages (from volumentations-3D) (1.7.3)\n",
            "Requirement already satisfied: pillow!=7.1.0,!=7.1.1,>=4.3.0 in /usr/local/lib/python3.7/dist-packages (from scikit-image->volumentations-3D) (7.1.2)\n",
            "Requirement already satisfied: matplotlib!=3.0.0,>=2.0.0 in /usr/local/lib/python3.7/dist-packages (from scikit-image->volumentations-3D) (3.2.2)\n",
            "Requirement already satisfied: tifffile>=2019.7.26 in /usr/local/lib/python3.7/dist-packages (from scikit-image->volumentations-3D) (2021.11.2)\n",
            "Requirement already satisfied: PyWavelets>=1.1.1 in /usr/local/lib/python3.7/dist-packages (from scikit-image->volumentations-3D) (1.3.0)\n",
            "Requirement already satisfied: networkx>=2.0 in /usr/local/lib/python3.7/dist-packages (from scikit-image->volumentations-3D) (2.6.3)\n",
            "Requirement already satisfied: imageio>=2.3.0 in /usr/local/lib/python3.7/dist-packages (from scikit-image->volumentations-3D) (2.9.0)\n",
            "Requirement already satisfied: kiwisolver>=1.0.1 in /usr/local/lib/python3.7/dist-packages (from matplotlib!=3.0.0,>=2.0.0->scikit-image->volumentations-3D) (1.4.4)\n",
            "Requirement already satisfied: cycler>=0.10 in /usr/local/lib/python3.7/dist-packages (from matplotlib!=3.0.0,>=2.0.0->scikit-image->volumentations-3D) (0.11.0)\n",
            "Requirement already satisfied: python-dateutil>=2.1 in /usr/local/lib/python3.7/dist-packages (from matplotlib!=3.0.0,>=2.0.0->scikit-image->volumentations-3D) (2.8.2)\n",
            "Requirement already satisfied: pyparsing!=2.0.4,!=2.1.2,!=2.1.6,>=2.0.1 in /usr/local/lib/python3.7/dist-packages (from matplotlib!=3.0.0,>=2.0.0->scikit-image->volumentations-3D) (3.0.9)\n",
            "Requirement already satisfied: typing-extensions in /usr/local/lib/python3.7/dist-packages (from kiwisolver>=1.0.1->matplotlib!=3.0.0,>=2.0.0->scikit-image->volumentations-3D) (4.1.1)\n",
            "Requirement already satisfied: six>=1.5 in /usr/local/lib/python3.7/dist-packages (from python-dateutil>=2.1->matplotlib!=3.0.0,>=2.0.0->scikit-image->volumentations-3D) (1.15.0)\n"
          ]
        }
      ],
      "source": [
        "pip install volumentations-3D"
      ]
    },
    {
      "cell_type": "code",
      "source": [
        "pip install natsort"
      ],
      "metadata": {
        "colab": {
          "base_uri": "https://localhost:8080/"
        },
        "id": "1XG6eAMU3lXc",
        "outputId": "e87b4da9-75a0-4a36-af60-66a6e58414be"
      },
      "execution_count": 24,
      "outputs": [
        {
          "output_type": "stream",
          "name": "stdout",
          "text": [
            "Looking in indexes: https://pypi.org/simple, https://us-python.pkg.dev/colab-wheels/public/simple/\n",
            "Requirement already satisfied: natsort in /usr/local/lib/python3.7/dist-packages (5.5.0)\n"
          ]
        }
      ]
    },
    {
      "cell_type": "code",
      "source": [
        "pip install pypatchify"
      ],
      "metadata": {
        "colab": {
          "base_uri": "https://localhost:8080/"
        },
        "id": "QbWhAMzn3nCT",
        "outputId": "da204abf-fa7b-4914-aac1-f821d1195213"
      },
      "execution_count": 25,
      "outputs": [
        {
          "output_type": "stream",
          "name": "stdout",
          "text": [
            "Looking in indexes: https://pypi.org/simple, https://us-python.pkg.dev/colab-wheels/public/simple/\n",
            "Requirement already satisfied: pypatchify in /usr/local/lib/python3.7/dist-packages (0.1.4)\n"
          ]
        }
      ]
    },
    {
      "cell_type": "code",
      "source": [
        "import numpy as np\n",
        "import matplotlib.pyplot as plt\n",
        "import os\n",
        "from google.colab import drive\n",
        "drive.mount('/content/drive/');\n",
        "import tensorflow as tf\n",
        "from tensorflow import keras\n",
        "from keras.models import Model\n",
        "from keras import layers\n",
        "from keras.layers import Input, Conv3D, MaxPooling3D, UpSampling3D, concatenate, Conv3DTranspose, BatchNormalization, Dropout, Lambda\n",
        "from keras.layers import Activation, MaxPool2D, Concatenate\n",
        "from scipy import ndimage\n",
        "from sklearn.model_selection import train_test_split\n",
        "from volumentations import *\n",
        "import random\n",
        "import os\n",
        "import natsort\n",
        "import glob\n",
        "import pypatchify"
      ],
      "metadata": {
        "colab": {
          "base_uri": "https://localhost:8080/"
        },
        "id": "eXzC7S143pTa",
        "outputId": "bd196817-9c84-4024-8538-9e27cbfee837"
      },
      "execution_count": 26,
      "outputs": [
        {
          "output_type": "stream",
          "name": "stdout",
          "text": [
            "Drive already mounted at /content/drive/; to attempt to forcibly remount, call drive.mount(\"/content/drive/\", force_remount=True).\n"
          ]
        }
      ]
    },
    {
      "cell_type": "code",
      "source": [
        "images_path='/content/drive/MyDrive/DOCTORADO/python/aneurismas_seleccionados/imgs/' #path to original images\n",
        "masks_path = '/content/drive/MyDrive/DOCTORADO/python/aneurismas_seleccionados/masks/' #path to original masks\n",
        "img_augmented_path='/content/drive/MyDrive/DOCTORADO/python/datos_para_entrenar_modelos/modelo_1.X/aug/imgs/' # path to store augmented images\n",
        "msk_augmented_path='/content/drive/MyDrive/DOCTORADO/python/datos_para_entrenar_modelos/modelo_1.X/aug/masks/' # path to store augmented masks\n",
        "images=[] # to store paths of images from folder\n",
        "masks=[]\n",
        "\n",
        "for im in natsort.natsorted(os.listdir(images_path)):  # read image name from folder and append its path into \"images\" array     \n",
        "    images.append(os.path.join(images_path,im))\n",
        "\n",
        "for msk in natsort.natsorted(os.listdir(masks_path)):  # read image name from folder and append its path into \"images\" array     \n",
        "    masks.append(os.path.join(masks_path,msk))\n",
        "\n",
        "def get_augmentation(patch_size):\n",
        "    return Compose([\n",
        "        Rotate((-15, 15), (0, 0), (0, 0), p=0.5),\n",
        "        ElasticTransform((0, 0.25), interpolation=2, p=0.1),\n",
        "        Flip(0, p=0.5),\n",
        "        Flip(1, p=0.5),\n",
        "        Flip(2, p=0.5),\n",
        "        RandomRotate90((1, 2), p=0.5),\n",
        "    ], p=1.0)\n",
        "\n",
        "aug = get_augmentation((64, 64, 64))\n",
        "\n",
        "images_to_generate = 50\n",
        "\n",
        "i=1   # variable to iterate till images_to_generate\n",
        "\n",
        "while i<=images_to_generate: \n",
        "    for j in range(9):\n",
        "      number = j\n",
        "      image = images[number]\n",
        "      mask = masks[number]\n",
        "      #print(image, mask)\n",
        "\n",
        "      original_image = np.load(image)\n",
        "      original_mask = np.load(mask)\n",
        "\n",
        "      data = {'image': original_image, 'mask': original_mask}\n",
        "      aug_data = aug(**data)\n",
        "      transformed_image, transformed_mask = aug_data['image'], aug_data['mask']\n",
        "\n",
        "      new_image_path= \"%s%s_A_%s_aug.npy\" %(img_augmented_path, number+2, i)\n",
        "      new_mask_path = \"%s%s_A_%s_aug.npy\" %(msk_augmented_path,number+2 , i)\n",
        "      np.save(new_image_path, transformed_image)\n",
        "      np.save(new_mask_path, transformed_mask)\n",
        "    i =i+1"
      ],
      "metadata": {
        "id": "YWupafWkeWzN"
      },
      "execution_count": 27,
      "outputs": []
    },
    {
      "cell_type": "code",
      "source": [
        "len(os.listdir(img_augmented_path))"
      ],
      "metadata": {
        "colab": {
          "base_uri": "https://localhost:8080/"
        },
        "id": "woSPw5FyJR0W",
        "outputId": "b2ba5f81-9316-4c7f-f8e1-975af09c801b"
      },
      "execution_count": 28,
      "outputs": [
        {
          "output_type": "execute_result",
          "data": {
            "text/plain": [
              "450"
            ]
          },
          "metadata": {},
          "execution_count": 28
        }
      ]
    },
    {
      "cell_type": "code",
      "source": [
        "len(os.listdir(msk_augmented_path))"
      ],
      "metadata": {
        "colab": {
          "base_uri": "https://localhost:8080/"
        },
        "id": "U-28DcfZJS6a",
        "outputId": "19b20330-d02c-457e-b2ec-4fccd9376d45"
      },
      "execution_count": 29,
      "outputs": [
        {
          "output_type": "execute_result",
          "data": {
            "text/plain": [
              "450"
            ]
          },
          "metadata": {},
          "execution_count": 29
        }
      ]
    }
  ]
}