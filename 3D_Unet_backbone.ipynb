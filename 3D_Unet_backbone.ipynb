{
  "nbformat": 4,
  "nbformat_minor": 0,
  "metadata": {
    "accelerator": "GPU",
    "colab": {
      "provenance": [],
      "collapsed_sections": [],
      "include_colab_link": true
    },
    "kernelspec": {
      "display_name": "Python 3",
      "name": "python3"
    }
  },
  "cells": [
    {
      "cell_type": "markdown",
      "metadata": {
        "id": "view-in-github",
        "colab_type": "text"
      },
      "source": [
        "<a href=\"https://colab.research.google.com/github/mmcastillo/al112248/blob/main/3D_Unet_backbone.ipynb\" target=\"_parent\"><img src=\"https://colab.research.google.com/assets/colab-badge.svg\" alt=\"Open In Colab\"/></a>"
      ]
    },
    {
      "cell_type": "code",
      "metadata": {
        "id": "ZNd4nlENQdMv"
      },
      "source": [
        "#This code uses 3D Unet to train a network on 3D subvolumes (64x64x64).\n",
        "#It also segments a large volume and outputs a multidimensional OMETIFF file\n",
        "#Custom dataset is used for this code but it should work on any dataset, including BRATS."
      ],
      "execution_count": null,
      "outputs": []
    },
    {
      "cell_type": "code",
      "metadata": {
        "id": "_NO5zXt_Lv6Y",
        "colab": {
          "base_uri": "https://localhost:8080/"
        },
        "outputId": "6cfd9d63-ac94-4e32-f18b-6b3733015ff2"
      },
      "source": [
        "#Install all dependencies for sgementation-models-3D library.\n",
        "#We will use this library to call 3D unet.\n",
        "#Alternative, you can define your own Unet, if you have skills!\n",
        "!pip install classification-models-3D\n",
        "!pip install efficientnet-3D\n",
        "!pip install segmentation-models-3D"
      ],
      "execution_count": null,
      "outputs": [
        {
          "output_type": "stream",
          "name": "stdout",
          "text": [
            "Looking in indexes: https://pypi.org/simple, https://us-python.pkg.dev/colab-wheels/public/simple/\n",
            "Collecting classification-models-3D\n",
            "  Downloading classification_models_3D-1.0.6-py3-none-any.whl (62 kB)\n",
            "\u001b[K     |████████████████████████████████| 62 kB 1.2 MB/s \n",
            "\u001b[?25hInstalling collected packages: classification-models-3D\n",
            "Successfully installed classification-models-3D-1.0.6\n",
            "Looking in indexes: https://pypi.org/simple, https://us-python.pkg.dev/colab-wheels/public/simple/\n",
            "Collecting efficientnet-3D\n",
            "  Downloading efficientnet_3D-1.0.2-py3-none-any.whl (15 kB)\n",
            "Installing collected packages: efficientnet-3D\n",
            "Successfully installed efficientnet-3D-1.0.2\n",
            "Looking in indexes: https://pypi.org/simple, https://us-python.pkg.dev/colab-wheels/public/simple/\n",
            "Collecting segmentation-models-3D\n",
            "  Downloading segmentation_models_3D-1.0.4-py3-none-any.whl (33 kB)\n",
            "Collecting keras-applications>=1.0.8\n",
            "  Downloading Keras_Applications-1.0.8-py3-none-any.whl (50 kB)\n",
            "\u001b[K     |████████████████████████████████| 50 kB 5.8 MB/s \n",
            "\u001b[?25hRequirement already satisfied: classification-models-3D>=1.0.6 in /usr/local/lib/python3.7/dist-packages (from segmentation-models-3D) (1.0.6)\n",
            "Requirement already satisfied: tensorflow>=2.8.0 in /usr/local/lib/python3.7/dist-packages (from segmentation-models-3D) (2.8.2+zzzcolab20220719082949)\n",
            "Requirement already satisfied: h5py in /usr/local/lib/python3.7/dist-packages (from keras-applications>=1.0.8->segmentation-models-3D) (3.1.0)\n",
            "Requirement already satisfied: numpy>=1.9.1 in /usr/local/lib/python3.7/dist-packages (from keras-applications>=1.0.8->segmentation-models-3D) (1.21.6)\n",
            "Requirement already satisfied: keras<2.9,>=2.8.0rc0 in /usr/local/lib/python3.7/dist-packages (from tensorflow>=2.8.0->segmentation-models-3D) (2.8.0)\n",
            "Requirement already satisfied: six>=1.12.0 in /usr/local/lib/python3.7/dist-packages (from tensorflow>=2.8.0->segmentation-models-3D) (1.15.0)\n",
            "Requirement already satisfied: absl-py>=0.4.0 in /usr/local/lib/python3.7/dist-packages (from tensorflow>=2.8.0->segmentation-models-3D) (1.2.0)\n",
            "Requirement already satisfied: flatbuffers>=1.12 in /usr/local/lib/python3.7/dist-packages (from tensorflow>=2.8.0->segmentation-models-3D) (2.0.7)\n",
            "Requirement already satisfied: keras-preprocessing>=1.1.1 in /usr/local/lib/python3.7/dist-packages (from tensorflow>=2.8.0->segmentation-models-3D) (1.1.2)\n",
            "Requirement already satisfied: tensorflow-io-gcs-filesystem>=0.23.1 in /usr/local/lib/python3.7/dist-packages (from tensorflow>=2.8.0->segmentation-models-3D) (0.26.0)\n",
            "Requirement already satisfied: gast>=0.2.1 in /usr/local/lib/python3.7/dist-packages (from tensorflow>=2.8.0->segmentation-models-3D) (0.5.3)\n",
            "Requirement already satisfied: google-pasta>=0.1.1 in /usr/local/lib/python3.7/dist-packages (from tensorflow>=2.8.0->segmentation-models-3D) (0.2.0)\n",
            "Requirement already satisfied: grpcio<2.0,>=1.24.3 in /usr/local/lib/python3.7/dist-packages (from tensorflow>=2.8.0->segmentation-models-3D) (1.48.1)\n",
            "Requirement already satisfied: tensorboard<2.9,>=2.8 in /usr/local/lib/python3.7/dist-packages (from tensorflow>=2.8.0->segmentation-models-3D) (2.8.0)\n",
            "Requirement already satisfied: protobuf<3.20,>=3.9.2 in /usr/local/lib/python3.7/dist-packages (from tensorflow>=2.8.0->segmentation-models-3D) (3.17.3)\n",
            "Requirement already satisfied: termcolor>=1.1.0 in /usr/local/lib/python3.7/dist-packages (from tensorflow>=2.8.0->segmentation-models-3D) (1.1.0)\n",
            "Requirement already satisfied: wrapt>=1.11.0 in /usr/local/lib/python3.7/dist-packages (from tensorflow>=2.8.0->segmentation-models-3D) (1.14.1)\n",
            "Requirement already satisfied: astunparse>=1.6.0 in /usr/local/lib/python3.7/dist-packages (from tensorflow>=2.8.0->segmentation-models-3D) (1.6.3)\n",
            "Requirement already satisfied: libclang>=9.0.1 in /usr/local/lib/python3.7/dist-packages (from tensorflow>=2.8.0->segmentation-models-3D) (14.0.6)\n",
            "Requirement already satisfied: opt-einsum>=2.3.2 in /usr/local/lib/python3.7/dist-packages (from tensorflow>=2.8.0->segmentation-models-3D) (3.3.0)\n",
            "Requirement already satisfied: typing-extensions>=3.6.6 in /usr/local/lib/python3.7/dist-packages (from tensorflow>=2.8.0->segmentation-models-3D) (4.1.1)\n",
            "Requirement already satisfied: setuptools in /usr/local/lib/python3.7/dist-packages (from tensorflow>=2.8.0->segmentation-models-3D) (57.4.0)\n",
            "Requirement already satisfied: tensorflow-estimator<2.9,>=2.8 in /usr/local/lib/python3.7/dist-packages (from tensorflow>=2.8.0->segmentation-models-3D) (2.8.0)\n",
            "Requirement already satisfied: wheel<1.0,>=0.23.0 in /usr/local/lib/python3.7/dist-packages (from astunparse>=1.6.0->tensorflow>=2.8.0->segmentation-models-3D) (0.37.1)\n",
            "Requirement already satisfied: cached-property in /usr/local/lib/python3.7/dist-packages (from h5py->keras-applications>=1.0.8->segmentation-models-3D) (1.5.2)\n",
            "Requirement already satisfied: markdown>=2.6.8 in /usr/local/lib/python3.7/dist-packages (from tensorboard<2.9,>=2.8->tensorflow>=2.8.0->segmentation-models-3D) (3.4.1)\n",
            "Requirement already satisfied: requests<3,>=2.21.0 in /usr/local/lib/python3.7/dist-packages (from tensorboard<2.9,>=2.8->tensorflow>=2.8.0->segmentation-models-3D) (2.23.0)\n",
            "Requirement already satisfied: tensorboard-data-server<0.7.0,>=0.6.0 in /usr/local/lib/python3.7/dist-packages (from tensorboard<2.9,>=2.8->tensorflow>=2.8.0->segmentation-models-3D) (0.6.1)\n",
            "Requirement already satisfied: google-auth<3,>=1.6.3 in /usr/local/lib/python3.7/dist-packages (from tensorboard<2.9,>=2.8->tensorflow>=2.8.0->segmentation-models-3D) (1.35.0)\n",
            "Requirement already satisfied: werkzeug>=0.11.15 in /usr/local/lib/python3.7/dist-packages (from tensorboard<2.9,>=2.8->tensorflow>=2.8.0->segmentation-models-3D) (1.0.1)\n",
            "Requirement already satisfied: google-auth-oauthlib<0.5,>=0.4.1 in /usr/local/lib/python3.7/dist-packages (from tensorboard<2.9,>=2.8->tensorflow>=2.8.0->segmentation-models-3D) (0.4.6)\n",
            "Requirement already satisfied: tensorboard-plugin-wit>=1.6.0 in /usr/local/lib/python3.7/dist-packages (from tensorboard<2.9,>=2.8->tensorflow>=2.8.0->segmentation-models-3D) (1.8.1)\n",
            "Requirement already satisfied: rsa<5,>=3.1.4 in /usr/local/lib/python3.7/dist-packages (from google-auth<3,>=1.6.3->tensorboard<2.9,>=2.8->tensorflow>=2.8.0->segmentation-models-3D) (4.9)\n",
            "Requirement already satisfied: cachetools<5.0,>=2.0.0 in /usr/local/lib/python3.7/dist-packages (from google-auth<3,>=1.6.3->tensorboard<2.9,>=2.8->tensorflow>=2.8.0->segmentation-models-3D) (4.2.4)\n",
            "Requirement already satisfied: pyasn1-modules>=0.2.1 in /usr/local/lib/python3.7/dist-packages (from google-auth<3,>=1.6.3->tensorboard<2.9,>=2.8->tensorflow>=2.8.0->segmentation-models-3D) (0.2.8)\n",
            "Requirement already satisfied: requests-oauthlib>=0.7.0 in /usr/local/lib/python3.7/dist-packages (from google-auth-oauthlib<0.5,>=0.4.1->tensorboard<2.9,>=2.8->tensorflow>=2.8.0->segmentation-models-3D) (1.3.1)\n",
            "Requirement already satisfied: importlib-metadata>=4.4 in /usr/local/lib/python3.7/dist-packages (from markdown>=2.6.8->tensorboard<2.9,>=2.8->tensorflow>=2.8.0->segmentation-models-3D) (4.12.0)\n",
            "Requirement already satisfied: zipp>=0.5 in /usr/local/lib/python3.7/dist-packages (from importlib-metadata>=4.4->markdown>=2.6.8->tensorboard<2.9,>=2.8->tensorflow>=2.8.0->segmentation-models-3D) (3.8.1)\n",
            "Requirement already satisfied: pyasn1<0.5.0,>=0.4.6 in /usr/local/lib/python3.7/dist-packages (from pyasn1-modules>=0.2.1->google-auth<3,>=1.6.3->tensorboard<2.9,>=2.8->tensorflow>=2.8.0->segmentation-models-3D) (0.4.8)\n",
            "Requirement already satisfied: urllib3!=1.25.0,!=1.25.1,<1.26,>=1.21.1 in /usr/local/lib/python3.7/dist-packages (from requests<3,>=2.21.0->tensorboard<2.9,>=2.8->tensorflow>=2.8.0->segmentation-models-3D) (1.24.3)\n",
            "Requirement already satisfied: certifi>=2017.4.17 in /usr/local/lib/python3.7/dist-packages (from requests<3,>=2.21.0->tensorboard<2.9,>=2.8->tensorflow>=2.8.0->segmentation-models-3D) (2022.6.15)\n",
            "Requirement already satisfied: chardet<4,>=3.0.2 in /usr/local/lib/python3.7/dist-packages (from requests<3,>=2.21.0->tensorboard<2.9,>=2.8->tensorflow>=2.8.0->segmentation-models-3D) (3.0.4)\n",
            "Requirement already satisfied: idna<3,>=2.5 in /usr/local/lib/python3.7/dist-packages (from requests<3,>=2.21.0->tensorboard<2.9,>=2.8->tensorflow>=2.8.0->segmentation-models-3D) (2.10)\n",
            "Requirement already satisfied: oauthlib>=3.0.0 in /usr/local/lib/python3.7/dist-packages (from requests-oauthlib>=0.7.0->google-auth-oauthlib<0.5,>=0.4.1->tensorboard<2.9,>=2.8->tensorflow>=2.8.0->segmentation-models-3D) (3.2.0)\n",
            "Installing collected packages: keras-applications, segmentation-models-3D\n",
            "Successfully installed keras-applications-1.0.8 segmentation-models-3D-1.0.4\n"
          ]
        }
      ]
    },
    {
      "cell_type": "code",
      "metadata": {
        "id": "DFJYJc1p_LRy",
        "colab": {
          "base_uri": "https://localhost:8080/"
        },
        "outputId": "75864a49-f8df-41d1-a57c-4f1ae7f55149"
      },
      "source": [
        "#Use patchify to break large volumes into smaller for training \n",
        "#and also to put patches back together after prediction.\n",
        "!pip install patchify"
      ],
      "execution_count": null,
      "outputs": [
        {
          "output_type": "stream",
          "name": "stdout",
          "text": [
            "Looking in indexes: https://pypi.org/simple, https://us-python.pkg.dev/colab-wheels/public/simple/\n",
            "Collecting patchify\n",
            "  Downloading patchify-0.2.3-py3-none-any.whl (6.6 kB)\n",
            "Requirement already satisfied: numpy<2,>=1 in /usr/local/lib/python3.7/dist-packages (from patchify) (1.21.6)\n",
            "Installing collected packages: patchify\n",
            "Successfully installed patchify-0.2.3\n"
          ]
        }
      ]
    },
    {
      "cell_type": "code",
      "metadata": {
        "id": "foXdS4Uil4WP",
        "colab": {
          "base_uri": "https://localhost:8080/"
        },
        "outputId": "4d0970e3-ffb4-40ca-b903-024e46227e92"
      },
      "source": [
        "import tensorflow as tf\n",
        "import keras\n",
        "print(tf.__version__)\n",
        "print(keras.__version__)"
      ],
      "execution_count": null,
      "outputs": [
        {
          "output_type": "stream",
          "name": "stdout",
          "text": [
            "2.8.2\n",
            "2.8.0\n"
          ]
        }
      ]
    },
    {
      "cell_type": "code",
      "metadata": {
        "id": "45aZsgManbdG",
        "colab": {
          "base_uri": "https://localhost:8080/"
        },
        "outputId": "e474db53-d864-4138-85ff-aa43a07e511e"
      },
      "source": [
        "#Make sure the GPU is available. \n",
        "import tensorflow as tf\n",
        "device_name = tf.test.gpu_device_name()\n",
        "if device_name != '/device:GPU:0':\n",
        "  raise SystemError('GPU device not found')\n",
        "print('Found GPU at: {}'.format(device_name))"
      ],
      "execution_count": null,
      "outputs": [
        {
          "output_type": "stream",
          "name": "stdout",
          "text": [
            "Found GPU at: /device:GPU:0\n"
          ]
        }
      ]
    },
    {
      "cell_type": "code",
      "metadata": {
        "id": "Dr4Is2DRMMer",
        "colab": {
          "base_uri": "https://localhost:8080/"
        },
        "outputId": "ec9c2ac3-89c2-4ce3-9cf8-ba610fc2d2dc"
      },
      "source": [
        "import segmentation_models_3D as sm\n"
      ],
      "execution_count": null,
      "outputs": [
        {
          "output_type": "stream",
          "name": "stdout",
          "text": [
            "Segmentation Models: using `tf.keras` framework.\n"
          ]
        }
      ]
    },
    {
      "cell_type": "code",
      "metadata": {
        "id": "d7hKivzw-0V9",
        "colab": {
          "base_uri": "https://localhost:8080/"
        },
        "outputId": "76d9cf61-6187-4a22-d4e5-4932a577c8fc"
      },
      "source": [
        "from skimage import io\n",
        "from patchify import patchify, unpatchify\n",
        "import numpy as np\n",
        "from matplotlib import pyplot as plt\n",
        "from keras import backend as K\n",
        "from sklearn.model_selection import train_test_split\n",
        "import nibabel as nib\n",
        "from google.colab import drive\n",
        "drive.mount('/content/drive/');\n",
        "import os\n",
        "from scipy import ndimage\n",
        "from skimage import img_as_ubyte\n",
        "import cv2"
      ],
      "execution_count": null,
      "outputs": [
        {
          "output_type": "stream",
          "name": "stdout",
          "text": [
            "Mounted at /content/drive/\n"
          ]
        }
      ]
    },
    {
      "cell_type": "code",
      "source": [
        "#Carga conjunto de entrenamiento\n",
        "ruta_TOF = '/content/drive/MyDrive/DOCTORADO/python/adam_subset/train_images/';\n",
        "lista_archivos_TOF = os.listdir(ruta_TOF)\n",
        "X =[]\n",
        "\n",
        "for i, file in enumerate(lista_archivos_TOF):\n",
        "    if file[-6:]=='nii.gz':\n",
        "        data = nib.load(ruta_TOF + file)\n",
        "        temp = data.get_fdata()\n",
        "        temp = cv2.normalize(temp, None, 0, 255, cv2.NORM_MINMAX, cv2.CV_8U)\n",
        "        temp = temp.astype(np.uint8)\n",
        "        X.append(temp)\n",
        "        \n",
        "#Carga etiquetas de entrenamiento\n",
        "ruta_mascaras = '/content/drive/MyDrive/DOCTORADO/python/adam_subset/train_tags/'; \n",
        "lista_archivos_mascaras = os.listdir(ruta_mascaras)\n",
        "Y =[]\n",
        "\n",
        "for i, file in enumerate(lista_archivos_mascaras):\n",
        "    if file[-6:]=='nii.gz':\n",
        "        data = nib.load(ruta_mascaras+ file)\n",
        "        temp = data.get_fdata()\n",
        "        temp = temp.astype(np.uint8)\n",
        "        Y.append(temp)"
      ],
      "metadata": {
        "id": "z2CniCI89GW4"
      },
      "execution_count": null,
      "outputs": []
    },
    {
      "cell_type": "code",
      "source": [
        "for i in range(len(X)):\n",
        "  print(f'{X[i].shape}         {X[i].min()}            {X[i].max()}        {type(X[i][0,0,0])}') "
      ],
      "metadata": {
        "colab": {
          "base_uri": "https://localhost:8080/"
        },
        "id": "d4vl8WFBCQMe",
        "outputId": "ac02b2d4-6b44-4784-ccf8-08c7ac9845ef"
      },
      "execution_count": null,
      "outputs": [
        {
          "output_type": "stream",
          "name": "stdout",
          "text": [
            "(560, 560, 140)         0            255        <class 'numpy.uint8'>\n",
            "(560, 560, 140)         0            255        <class 'numpy.uint8'>\n",
            "(560, 560, 140)         0            255        <class 'numpy.uint8'>\n",
            "(560, 560, 140)         0            255        <class 'numpy.uint8'>\n",
            "(560, 560, 140)         0            255        <class 'numpy.uint8'>\n",
            "(560, 560, 140)         0            255        <class 'numpy.uint8'>\n",
            "(560, 560, 140)         0            255        <class 'numpy.uint8'>\n",
            "(560, 560, 140)         0            255        <class 'numpy.uint8'>\n",
            "(560, 560, 140)         0            255        <class 'numpy.uint8'>\n",
            "(512, 512, 140)         0            255        <class 'numpy.uint8'>\n",
            "(512, 512, 100)         0            255        <class 'numpy.uint8'>\n",
            "(512, 512, 100)         0            255        <class 'numpy.uint8'>\n",
            "(512, 512, 140)         0            255        <class 'numpy.uint8'>\n",
            "(512, 512, 138)         0            255        <class 'numpy.uint8'>\n",
            "(512, 512, 100)         0            255        <class 'numpy.uint8'>\n",
            "(512, 512, 138)         0            255        <class 'numpy.uint8'>\n",
            "(512, 512, 100)         0            255        <class 'numpy.uint8'>\n",
            "(512, 512, 140)         0            255        <class 'numpy.uint8'>\n",
            "(1024, 1024, 160)         0            255        <class 'numpy.uint8'>\n",
            "(512, 512, 140)         0            255        <class 'numpy.uint8'>\n"
          ]
        }
      ]
    },
    {
      "cell_type": "code",
      "source": [
        "def resize_volume(img):\n",
        "    # Set the desired depth\n",
        "    desired_depth = 128\n",
        "    desired_width = 512\n",
        "    desired_height = 512\n",
        "    # Get current depth\n",
        "    current_depth = img.shape[-1]\n",
        "    current_width = img.shape[0]\n",
        "    current_height = img.shape[1]\n",
        "    # Compute depth factor\n",
        "    depth = current_depth / desired_depth\n",
        "    width = current_width / desired_width\n",
        "    height = current_height / desired_height\n",
        "    depth_factor = 1 / depth\n",
        "    width_factor = 1 / width\n",
        "    height_factor = 1 / height\n",
        "    # Resize across z-axis\n",
        "    img = ndimage.zoom(img, (width_factor, height_factor, depth_factor), order=1)\n",
        "    return img"
      ],
      "metadata": {
        "id": "cqpe7hcp-Ij7"
      },
      "execution_count": null,
      "outputs": []
    },
    {
      "cell_type": "code",
      "source": [
        "for i in range(len(X)):\n",
        "  X[i] = resize_volume(X[i])\n",
        "\n",
        "X = np.asarray(X)\n",
        "\n",
        "for i in range(len(Y)):\n",
        "  Y[i] = resize_volume(Y[i])\n",
        "\n",
        "Y = np.asarray(Y)"
      ],
      "metadata": {
        "id": "qT86eD6rFcYw"
      },
      "execution_count": null,
      "outputs": []
    },
    {
      "cell_type": "code",
      "source": [
        "np.unique(Y)"
      ],
      "metadata": {
        "colab": {
          "base_uri": "https://localhost:8080/"
        },
        "id": "Gp5LDl72YIdY",
        "outputId": "47c88aa1-e80d-4e37-a750-ba773e6e8e53"
      },
      "execution_count": null,
      "outputs": [
        {
          "output_type": "execute_result",
          "data": {
            "text/plain": [
              "array([0, 1], dtype=uint8)"
            ]
          },
          "metadata": {},
          "execution_count": 12
        }
      ]
    },
    {
      "cell_type": "code",
      "source": [
        "for i in range(len(X)):\n",
        "  print(f'{Y[i].shape}         {Y[i].min()}            {Y[i].max()}')"
      ],
      "metadata": {
        "colab": {
          "base_uri": "https://localhost:8080/"
        },
        "id": "eMsqoOGlFX8u",
        "outputId": "d9ab19de-e980-46e8-f794-a7cd962615de"
      },
      "execution_count": null,
      "outputs": [
        {
          "output_type": "stream",
          "name": "stdout",
          "text": [
            "(512, 512, 128)         0            0\n",
            "(512, 512, 128)         0            0\n",
            "(512, 512, 128)         0            0\n",
            "(512, 512, 128)         0            0\n",
            "(512, 512, 128)         0            0\n",
            "(512, 512, 128)         0            0\n",
            "(512, 512, 128)         0            0\n",
            "(512, 512, 128)         0            0\n",
            "(512, 512, 128)         0            0\n",
            "(512, 512, 128)         0            0\n",
            "(512, 512, 128)         0            1\n",
            "(512, 512, 128)         0            1\n",
            "(512, 512, 128)         0            1\n",
            "(512, 512, 128)         0            1\n",
            "(512, 512, 128)         0            1\n",
            "(512, 512, 128)         0            1\n",
            "(512, 512, 128)         0            1\n",
            "(512, 512, 128)         0            1\n",
            "(512, 512, 128)         0            1\n",
            "(512, 512, 128)         0            1\n"
          ]
        }
      ]
    },
    {
      "cell_type": "code",
      "source": [
        "for i in range(40,50):\n",
        "  print(np.unique(Y[11][:,:,i]))"
      ],
      "metadata": {
        "colab": {
          "base_uri": "https://localhost:8080/"
        },
        "id": "8oHaL9yLZJmo",
        "outputId": "80435fc1-a21e-4467-8176-346afc17e8e6"
      },
      "execution_count": null,
      "outputs": [
        {
          "output_type": "stream",
          "name": "stdout",
          "text": [
            "[0 1]\n",
            "[0 1]\n",
            "[0 1]\n",
            "[0 1]\n",
            "[0 1]\n",
            "[0 1]\n",
            "[0 1]\n",
            "[0 1]\n",
            "[0 1]\n",
            "[0 1]\n"
          ]
        }
      ]
    },
    {
      "cell_type": "code",
      "source": [
        "corte = 45\n",
        "plt.subplot(2,2,1)\n",
        "plt.imshow(X[11][:,:,corte])\n",
        "\n",
        "plt.subplot(2,2,2)\n",
        "plt.imshow(Y[11][:,:,corte])\n",
        "\n",
        "plt.subplot(2,2,3)\n",
        "plt.imshow(X[11][250:314,175:239,corte])\n",
        "\n",
        "plt.subplot(2,2,4)\n",
        "plt.imshow(Y[11][250:314,175:239,corte])"
      ],
      "metadata": {
        "colab": {
          "base_uri": "https://localhost:8080/",
          "height": 286
        },
        "id": "n8p_QfjU-pCc",
        "outputId": "63861fdc-7f2b-4bc4-d519-1348c2426e74"
      },
      "execution_count": null,
      "outputs": [
        {
          "output_type": "execute_result",
          "data": {
            "text/plain": [
              "<matplotlib.image.AxesImage at 0x7f159f2aaf50>"
            ]
          },
          "metadata": {},
          "execution_count": 15
        },
        {
          "output_type": "display_data",
          "data": {
            "text/plain": [
              "<Figure size 432x288 with 4 Axes>"
            ],
            "image/png": "[encoded data removed]"
          },
          "metadata": {
            "needs_background": "light"
          }
        }
      ]
    },
    {
      "cell_type": "code",
      "source": [
        "X.shape"
      ],
      "metadata": {
        "colab": {
          "base_uri": "https://localhost:8080/"
        },
        "id": "6xc1xDno85g8",
        "outputId": "63f2e1c0-fbb2-462d-80da-9e5ed6283b23"
      },
      "execution_count": null,
      "outputs": [
        {
          "output_type": "execute_result",
          "data": {
            "text/plain": [
              "(20, 512, 512, 128)"
            ]
          },
          "metadata": {},
          "execution_count": 73
        }
      ]
    },
    {
      "cell_type": "code",
      "metadata": {
        "id": "HWZiqrMK-kVb"
      },
      "source": [
        "img_patches = patchify(X[0],(64, 64, 64), step=64)\n",
        "mask_patches = patchify(Y[0],(64, 64, 64), step=64)  "
      ],
      "execution_count": null,
      "outputs": []
    },
    {
      "cell_type": "code",
      "source": [
        "mask_patches.shape"
      ],
      "metadata": {
        "colab": {
          "base_uri": "https://localhost:8080/"
        },
        "id": "ECW7ueBN9Gf7",
        "outputId": "641eb729-c39e-40e3-d212-b11ebff44437"
      },
      "execution_count": null,
      "outputs": [
        {
          "output_type": "execute_result",
          "data": {
            "text/plain": [
              "(15, 15, 3, 64, 64, 64)"
            ]
          },
          "metadata": {},
          "execution_count": 69
        }
      ]
    },
    {
      "cell_type": "code",
      "metadata": {
        "id": "A8a8BumA_qpa",
        "colab": {
          "base_uri": "https://localhost:8080/",
          "height": 285
        },
        "outputId": "bca265d9-8d37-4ce8-f3f4-3be3fcc3271c"
      },
      "source": [
        "plt.imshow(img_patches[1,2,1,:,:,32])\n",
        "#plt.imshow(mask_patches[1,2,1,:,:,32])"
      ],
      "execution_count": null,
      "outputs": [
        {
          "output_type": "execute_result",
          "data": {
            "text/plain": [
              "<matplotlib.image.AxesImage at 0x7f159b17fbd0>"
            ]
          },
          "metadata": {},
          "execution_count": 75
        },
        {
          "output_type": "display_data",
          "data": {
            "text/plain": [
              "<Figure size 432x288 with 1 Axes>"
            ],
            "image/png": "[encoded data removed]"
          },
          "metadata": {
            "needs_background": "light"
          }
        }
      ]
    },
    {
      "cell_type": "code",
      "metadata": {
        "id": "K08wiQ0y-ogu",
        "colab": {
          "base_uri": "https://localhost:8080/"
        },
        "outputId": "2899e1e3-4924-4a57-bd5a-264369265895"
      },
      "source": [
        "input_img = np.reshape(img_patches, (-1, img_patches.shape[3], img_patches.shape[4], img_patches.shape[5]))\n",
        "input_mask = np.reshape(mask_patches, (-1, mask_patches.shape[3], mask_patches.shape[4], mask_patches.shape[5]))\n",
        "\n",
        "print(input_img.shape)  # n_patches, x, y, z"
      ],
      "execution_count": null,
      "outputs": [
        {
          "output_type": "stream",
          "name": "stdout",
          "text": [
            "(128, 64, 64, 64)\n"
          ]
        }
      ]
    },
    {
      "cell_type": "code",
      "metadata": {
        "id": "3FqzxzsX_4YQ"
      },
      "source": [
        "n_classes=2"
      ],
      "execution_count": null,
      "outputs": []
    },
    {
      "cell_type": "code",
      "metadata": {
        "id": "av8BBXU0-rdw"
      },
      "source": [
        "#Convert grey image to 3 channels by copying channel 3 times.\n",
        "#We do this as our unet model expects 3 channel input. \n",
        "\n",
        "train_img = np.stack((input_img,)*3, axis=-1)\n",
        "train_mask = np.expand_dims(input_mask, axis=4)\n",
        "\n",
        "X_train, X_test, y_train, y_test = train_test_split(train_img, train_mask, test_size = 0.10, random_state = 0)\n"
      ],
      "execution_count": null,
      "outputs": []
    },
    {
      "cell_type": "code",
      "metadata": {
        "id": "Higavd5lmj6A"
      },
      "source": [
        "# Loss Function and coefficients to be used during training:\n",
        "def dice_coefficient(y_true, y_pred):\n",
        "    smoothing_factor = 1\n",
        "    flat_y_true = K.flatten(y_true)\n",
        "    flat_y_pred = K.flatten(y_pred)\n",
        "    return (2. * K.sum(flat_y_true * flat_y_pred) + smoothing_factor) / (K.sum(flat_y_true) + K.sum(flat_y_pred) + smoothing_factor)\n",
        "\n",
        "def dice_coefficient_loss(y_true, y_pred):\n",
        "    return 1 - dice_coefficient(y_true, y_pred)\n"
      ],
      "execution_count": null,
      "outputs": []
    },
    {
      "cell_type": "markdown",
      "metadata": {
        "id": "wh0P2o-kQwSK"
      },
      "source": [
        "Backbones: ['resnet18', 'resnet34', 'resnet50', 'resnet101', 'resnet152', 'seresnet18', 'seresnet34', 'seresnet50', 'seresnet101', 'seresnet152', 'seresnext50', 'seresnext101', 'senet154', 'resnext50', 'resnext101', 'vgg16', 'vgg19', 'densenet121', 'densenet169', 'densenet201', 'inceptionresnetv2', 'inceptionv3', 'mobilenet', 'mobilenetv2', 'efficientnetb0', 'efficientnetb1', 'efficientnetb2', 'efficientnetb3', 'efficientnetb4', 'efficientnetb5', 'efficientnetb6', 'efficientnetb7']"
      ]
    },
    {
      "cell_type": "code",
      "metadata": {
        "id": "mWiQsv6IqGGF"
      },
      "source": [
        "#Define parameters for our model.\n",
        "\n",
        "encoder_weights = 'imagenet'\n",
        "BACKBONE = 'vgg16'  #Try vgg16, efficientnetb7, inceptionv3, resnet50\n",
        "activation = 'softmax'\n",
        "patch_size = 64\n",
        "n_classes = 4\n",
        "channels=3\n",
        "\n",
        "LR = 0.0001\n",
        "optim = tf.keras.optimizers.Adam(LR)\n",
        "\n",
        "# Segmentation models losses can be combined together by '+' and scaled by integer or float factor\n",
        "# set class weights for dice_loss (car: 1.; pedestrian: 2.; background: 0.5;)\n",
        "dice_loss = sm.losses.DiceLoss(class_weights=np.array([0.25, 0.25, 0.25, 0.25])) \n",
        "focal_loss = sm.losses.CategoricalFocalLoss()\n",
        "total_loss = dice_loss + (1 * focal_loss)\n",
        "\n",
        "# actulally total_loss can be imported directly from library, above example just show you how to manipulate with losses\n",
        "# total_loss = sm.losses.binary_focal_dice_loss # or sm.losses.categorical_focal_dice_loss \n",
        "\n",
        "metrics = [sm.metrics.IOUScore(threshold=0.5), sm.metrics.FScore(threshold=0.5)]"
      ],
      "execution_count": null,
      "outputs": []
    },
    {
      "cell_type": "code",
      "metadata": {
        "id": "lePX43TyD1Lp"
      },
      "source": [
        "preprocess_input = sm.get_preprocessing(BACKBONE)"
      ],
      "execution_count": null,
      "outputs": []
    },
    {
      "cell_type": "code",
      "metadata": {
        "id": "3jTN_tsXD7qK"
      },
      "source": [
        "#Preprocess input data - otherwise you end up with garbage resutls \n",
        "# and potentially model that does not converge.\n",
        "X_train_prep = preprocess_input(X_train)\n",
        "\n",
        "X_test_prep = preprocess_input(X_test)\n",
        "\n",
        "X_train_prep = X_train_prep.astype(np.uint8)\n",
        "\n",
        "X_test_prep = X_test_prep.astype(np.uint8)"
      ],
      "execution_count": null,
      "outputs": []
    },
    {
      "cell_type": "code",
      "source": [
        "type(X_train_prep[0,0,0,0,0])"
      ],
      "metadata": {
        "colab": {
          "base_uri": "https://localhost:8080/"
        },
        "id": "rZAA9DnFNNzn",
        "outputId": "708733a3-42db-4cb2-80e6-c55c84bf06bc"
      },
      "execution_count": null,
      "outputs": [
        {
          "output_type": "execute_result",
          "data": {
            "text/plain": [
              "numpy.float32"
            ]
          },
          "metadata": {},
          "execution_count": 99
        }
      ]
    },
    {
      "cell_type": "code",
      "metadata": {
        "id": "jdoK1wudAJQ7",
        "colab": {
          "base_uri": "https://localhost:8080/"
        },
        "outputId": "5826abe2-3ce4-4ba3-b2d9-9ab37a1755c3"
      },
      "source": [
        "#Define the model. Here we use Unet but we can also use other model architectures from the library.\n",
        "model = sm.Unet(BACKBONE, classes=n_classes, \n",
        "                input_shape=(patch_size, patch_size, patch_size, channels), \n",
        "                encoder_weights=encoder_weights,\n",
        "                activation=activation)\n",
        "\n",
        "model.compile(optimizer = optim, loss=total_loss, metrics=metrics)\n",
        "print(model.summary())"
      ],
      "execution_count": null,
      "outputs": [
        {
          "output_type": "stream",
          "name": "stdout",
          "text": [
            "Downloading data from https://github.com/ZFTurbo/classification_models_3D/releases/download/v1.0.4/vgg16_inp_channel_3_tch_0_top_False.h5\n",
            "176611328/176606448 [==============================] - 5s 0us/step\n",
            "176619520/176606448 [==============================] - 5s 0us/step\n",
            "Model: \"model\"\n",
            "__________________________________________________________________________________________________\n",
            " Layer (type)                   Output Shape         Param #     Connected to                     \n",
            "==================================================================================================\n",
            " input_1 (InputLayer)           [(None, 64, 64, 64,  0           []                               \n",
            "                                 3)]                                                              \n",
            "                                                                                                  \n",
            " block1_conv1 (Conv3D)          (None, 64, 64, 64,   5248        ['input_1[0][0]']                \n",
            "                                64)                                                               \n",
            "                                                                                                  \n",
            " block1_conv2 (Conv3D)          (None, 64, 64, 64,   110656      ['block1_conv1[0][0]']           \n",
            "                                64)                                                               \n",
            "                                                                                                  \n",
            " block1_pool (MaxPooling3D)     (None, 32, 32, 32,   0           ['block1_conv2[0][0]']           \n",
            "                                64)                                                               \n",
            "                                                                                                  \n",
            " block2_conv1 (Conv3D)          (None, 32, 32, 32,   221312      ['block1_pool[0][0]']            \n",
            "                                128)                                                              \n",
            "                                                                                                  \n",
            " block2_conv2 (Conv3D)          (None, 32, 32, 32,   442496      ['block2_conv1[0][0]']           \n",
            "                                128)                                                              \n",
            "                                                                                                  \n",
            " block2_pool (MaxPooling3D)     (None, 16, 16, 16,   0           ['block2_conv2[0][0]']           \n",
            "                                128)                                                              \n",
            "                                                                                                  \n",
            " block3_conv1 (Conv3D)          (None, 16, 16, 16,   884992      ['block2_pool[0][0]']            \n",
            "                                256)                                                              \n",
            "                                                                                                  \n",
            " block3_conv2 (Conv3D)          (None, 16, 16, 16,   1769728     ['block3_conv1[0][0]']           \n",
            "                                256)                                                              \n",
            "                                                                                                  \n",
            " block3_conv3 (Conv3D)          (None, 16, 16, 16,   1769728     ['block3_conv2[0][0]']           \n",
            "                                256)                                                              \n",
            "                                                                                                  \n",
            " block3_pool (MaxPooling3D)     (None, 8, 8, 8, 256  0           ['block3_conv3[0][0]']           \n",
            "                                )                                                                 \n",
            "                                                                                                  \n",
            " block4_conv1 (Conv3D)          (None, 8, 8, 8, 512  3539456     ['block3_pool[0][0]']            \n",
            "                                )                                                                 \n",
            "                                                                                                  \n",
            " block4_conv2 (Conv3D)          (None, 8, 8, 8, 512  7078400     ['block4_conv1[0][0]']           \n",
            "                                )                                                                 \n",
            "                                                                                                  \n",
            " block4_conv3 (Conv3D)          (None, 8, 8, 8, 512  7078400     ['block4_conv2[0][0]']           \n",
            "                                )                                                                 \n",
            "                                                                                                  \n",
            " block4_pool (MaxPooling3D)     (None, 4, 4, 4, 512  0           ['block4_conv3[0][0]']           \n",
            "                                )                                                                 \n",
            "                                                                                                  \n",
            " block5_conv1 (Conv3D)          (None, 4, 4, 4, 512  7078400     ['block4_pool[0][0]']            \n",
            "                                )                                                                 \n",
            "                                                                                                  \n",
            " block5_conv2 (Conv3D)          (None, 4, 4, 4, 512  7078400     ['block5_conv1[0][0]']           \n",
            "                                )                                                                 \n",
            "                                                                                                  \n",
            " block5_conv3 (Conv3D)          (None, 4, 4, 4, 512  7078400     ['block5_conv2[0][0]']           \n",
            "                                )                                                                 \n",
            "                                                                                                  \n",
            " block5_pool (MaxPooling3D)     (None, 2, 2, 2, 512  0           ['block5_conv3[0][0]']           \n",
            "                                )                                                                 \n",
            "                                                                                                  \n",
            " center_block1_conv (Conv3D)    (None, 2, 2, 2, 512  7077888     ['block5_pool[0][0]']            \n",
            "                                )                                                                 \n",
            "                                                                                                  \n",
            " center_block1_bn (BatchNormali  (None, 2, 2, 2, 512  2048       ['center_block1_conv[0][0]']     \n",
            " zation)                        )                                                                 \n",
            "                                                                                                  \n",
            " center_block1_relu (Activation  (None, 2, 2, 2, 512  0          ['center_block1_bn[0][0]']       \n",
            " )                              )                                                                 \n",
            "                                                                                                  \n",
            " center_block2_conv (Conv3D)    (None, 2, 2, 2, 512  7077888     ['center_block1_relu[0][0]']     \n",
            "                                )                                                                 \n",
            "                                                                                                  \n",
            " center_block2_bn (BatchNormali  (None, 2, 2, 2, 512  2048       ['center_block2_conv[0][0]']     \n",
            " zation)                        )                                                                 \n",
            "                                                                                                  \n",
            " center_block2_relu (Activation  (None, 2, 2, 2, 512  0          ['center_block2_bn[0][0]']       \n",
            " )                              )                                                                 \n",
            "                                                                                                  \n",
            " decoder_stage0_upsampling (UpS  (None, 4, 4, 4, 512  0          ['center_block2_relu[0][0]']     \n",
            " ampling3D)                     )                                                                 \n",
            "                                                                                                  \n",
            " decoder_stage0_concat (Concate  (None, 4, 4, 4, 102  0          ['decoder_stage0_upsampling[0][0]\n",
            " nate)                          4)                               ',                               \n",
            "                                                                  'block5_conv3[0][0]']           \n",
            "                                                                                                  \n",
            " decoder_stage0a_conv (Conv3D)  (None, 4, 4, 4, 256  7077888     ['decoder_stage0_concat[0][0]']  \n",
            "                                )                                                                 \n",
            "                                                                                                  \n",
            " decoder_stage0a_bn (BatchNorma  (None, 4, 4, 4, 256  1024       ['decoder_stage0a_conv[0][0]']   \n",
            " lization)                      )                                                                 \n",
            "                                                                                                  \n",
            " decoder_stage0a_relu (Activati  (None, 4, 4, 4, 256  0          ['decoder_stage0a_bn[0][0]']     \n",
            " on)                            )                                                                 \n",
            "                                                                                                  \n",
            " decoder_stage0b_conv (Conv3D)  (None, 4, 4, 4, 256  1769472     ['decoder_stage0a_relu[0][0]']   \n",
            "                                )                                                                 \n",
            "                                                                                                  \n",
            " decoder_stage0b_bn (BatchNorma  (None, 4, 4, 4, 256  1024       ['decoder_stage0b_conv[0][0]']   \n",
            " lization)                      )                                                                 \n",
            "                                                                                                  \n",
            " decoder_stage0b_relu (Activati  (None, 4, 4, 4, 256  0          ['decoder_stage0b_bn[0][0]']     \n",
            " on)                            )                                                                 \n",
            "                                                                                                  \n",
            " decoder_stage1_upsampling (UpS  (None, 8, 8, 8, 256  0          ['decoder_stage0b_relu[0][0]']   \n",
            " ampling3D)                     )                                                                 \n",
            "                                                                                                  \n",
            " decoder_stage1_concat (Concate  (None, 8, 8, 8, 768  0          ['decoder_stage1_upsampling[0][0]\n",
            " nate)                          )                                ',                               \n",
            "                                                                  'block4_conv3[0][0]']           \n",
            "                                                                                                  \n",
            " decoder_stage1a_conv (Conv3D)  (None, 8, 8, 8, 128  2654208     ['decoder_stage1_concat[0][0]']  \n",
            "                                )                                                                 \n",
            "                                                                                                  \n",
            " decoder_stage1a_bn (BatchNorma  (None, 8, 8, 8, 128  512        ['decoder_stage1a_conv[0][0]']   \n",
            " lization)                      )                                                                 \n",
            "                                                                                                  \n",
            " decoder_stage1a_relu (Activati  (None, 8, 8, 8, 128  0          ['decoder_stage1a_bn[0][0]']     \n",
            " on)                            )                                                                 \n",
            "                                                                                                  \n",
            " decoder_stage1b_conv (Conv3D)  (None, 8, 8, 8, 128  442368      ['decoder_stage1a_relu[0][0]']   \n",
            "                                )                                                                 \n",
            "                                                                                                  \n",
            " decoder_stage1b_bn (BatchNorma  (None, 8, 8, 8, 128  512        ['decoder_stage1b_conv[0][0]']   \n",
            " lization)                      )                                                                 \n",
            "                                                                                                  \n",
            " decoder_stage1b_relu (Activati  (None, 8, 8, 8, 128  0          ['decoder_stage1b_bn[0][0]']     \n",
            " on)                            )                                                                 \n",
            "                                                                                                  \n",
            " decoder_stage2_upsampling (UpS  (None, 16, 16, 16,   0          ['decoder_stage1b_relu[0][0]']   \n",
            " ampling3D)                     128)                                                              \n",
            "                                                                                                  \n",
            " decoder_stage2_concat (Concate  (None, 16, 16, 16,   0          ['decoder_stage2_upsampling[0][0]\n",
            " nate)                          384)                             ',                               \n",
            "                                                                  'block3_conv3[0][0]']           \n",
            "                                                                                                  \n",
            " decoder_stage2a_conv (Conv3D)  (None, 16, 16, 16,   663552      ['decoder_stage2_concat[0][0]']  \n",
            "                                64)                                                               \n",
            "                                                                                                  \n",
            " decoder_stage2a_bn (BatchNorma  (None, 16, 16, 16,   256        ['decoder_stage2a_conv[0][0]']   \n",
            " lization)                      64)                                                               \n",
            "                                                                                                  \n",
            " decoder_stage2a_relu (Activati  (None, 16, 16, 16,   0          ['decoder_stage2a_bn[0][0]']     \n",
            " on)                            64)                                                               \n",
            "                                                                                                  \n",
            " decoder_stage2b_conv (Conv3D)  (None, 16, 16, 16,   110592      ['decoder_stage2a_relu[0][0]']   \n",
            "                                64)                                                               \n",
            "                                                                                                  \n",
            " decoder_stage2b_bn (BatchNorma  (None, 16, 16, 16,   256        ['decoder_stage2b_conv[0][0]']   \n",
            " lization)                      64)                                                               \n",
            "                                                                                                  \n",
            " decoder_stage2b_relu (Activati  (None, 16, 16, 16,   0          ['decoder_stage2b_bn[0][0]']     \n",
            " on)                            64)                                                               \n",
            "                                                                                                  \n",
            " decoder_stage3_upsampling (UpS  (None, 32, 32, 32,   0          ['decoder_stage2b_relu[0][0]']   \n",
            " ampling3D)                     64)                                                               \n",
            "                                                                                                  \n",
            " decoder_stage3_concat (Concate  (None, 32, 32, 32,   0          ['decoder_stage3_upsampling[0][0]\n",
            " nate)                          192)                             ',                               \n",
            "                                                                  'block2_conv2[0][0]']           \n",
            "                                                                                                  \n",
            " decoder_stage3a_conv (Conv3D)  (None, 32, 32, 32,   165888      ['decoder_stage3_concat[0][0]']  \n",
            "                                32)                                                               \n",
            "                                                                                                  \n",
            " decoder_stage3a_bn (BatchNorma  (None, 32, 32, 32,   128        ['decoder_stage3a_conv[0][0]']   \n",
            " lization)                      32)                                                               \n",
            "                                                                                                  \n",
            " decoder_stage3a_relu (Activati  (None, 32, 32, 32,   0          ['decoder_stage3a_bn[0][0]']     \n",
            " on)                            32)                                                               \n",
            "                                                                                                  \n",
            " decoder_stage3b_conv (Conv3D)  (None, 32, 32, 32,   27648       ['decoder_stage3a_relu[0][0]']   \n",
            "                                32)                                                               \n",
            "                                                                                                  \n",
            " decoder_stage3b_bn (BatchNorma  (None, 32, 32, 32,   128        ['decoder_stage3b_conv[0][0]']   \n",
            " lization)                      32)                                                               \n",
            "                                                                                                  \n",
            " decoder_stage3b_relu (Activati  (None, 32, 32, 32,   0          ['decoder_stage3b_bn[0][0]']     \n",
            " on)                            32)                                                               \n",
            "                                                                                                  \n",
            " decoder_stage4_upsampling (UpS  (None, 64, 64, 64,   0          ['decoder_stage3b_relu[0][0]']   \n",
            " ampling3D)                     32)                                                               \n",
            "                                                                                                  \n",
            " decoder_stage4a_conv (Conv3D)  (None, 64, 64, 64,   13824       ['decoder_stage4_upsampling[0][0]\n",
            "                                16)                              ']                               \n",
            "                                                                                                  \n",
            " decoder_stage4a_bn (BatchNorma  (None, 64, 64, 64,   64         ['decoder_stage4a_conv[0][0]']   \n",
            " lization)                      16)                                                               \n",
            "                                                                                                  \n",
            " decoder_stage4a_relu (Activati  (None, 64, 64, 64,   0          ['decoder_stage4a_bn[0][0]']     \n",
            " on)                            16)                                                               \n",
            "                                                                                                  \n",
            " decoder_stage4b_conv (Conv3D)  (None, 64, 64, 64,   6912        ['decoder_stage4a_relu[0][0]']   \n",
            "                                16)                                                               \n",
            "                                                                                                  \n",
            " decoder_stage4b_bn (BatchNorma  (None, 64, 64, 64,   64         ['decoder_stage4b_conv[0][0]']   \n",
            " lization)                      16)                                                               \n",
            "                                                                                                  \n",
            " decoder_stage4b_relu (Activati  (None, 64, 64, 64,   0          ['decoder_stage4b_bn[0][0]']     \n",
            " on)                            16)                                                               \n",
            "                                                                                                  \n",
            " final_conv (Conv3D)            (None, 64, 64, 64,   1732        ['decoder_stage4b_relu[0][0]']   \n",
            "                                4)                                                                \n",
            "                                                                                                  \n",
            " softmax (Activation)           (None, 64, 64, 64,   0           ['final_conv[0][0]']             \n",
            "                                4)                                                                \n",
            "                                                                                                  \n",
            "==================================================================================================\n",
            "Total params: 71,233,540\n",
            "Trainable params: 71,229,508\n",
            "Non-trainable params: 4,032\n",
            "__________________________________________________________________________________________________\n",
            "None\n"
          ]
        }
      ]
    },
    {
      "cell_type": "code",
      "source": [
        "tf.config.experimental_run_functions_eagerly(True)"
      ],
      "metadata": {
        "colab": {
          "base_uri": "https://localhost:8080/"
        },
        "id": "yrRqVFCgPddw",
        "outputId": "310f2ba9-01d0-4c00-ac70-8ec8713a8b05"
      },
      "execution_count": null,
      "outputs": [
        {
          "output_type": "stream",
          "name": "stderr",
          "text": [
            "WARNING:tensorflow:From <ipython-input-103-bdb3352f611a>:1: experimental_run_functions_eagerly (from tensorflow.python.eager.def_function) is deprecated and will be removed in a future version.\n",
            "Instructions for updating:\n",
            "Use `tf.config.run_functions_eagerly` instead of the experimental version.\n"
          ]
        }
      ]
    },
    {
      "cell_type": "code",
      "metadata": {
        "id": "f69gK8DoAQ1C",
        "colab": {
          "base_uri": "https://localhost:8080/"
        },
        "outputId": "304771bc-8245-4be0-c266-c60b73e4d79f"
      },
      "source": [
        "#Fit the model\n",
        "history=model.fit(X_train_prep, \n",
        "          y_train,\n",
        "          batch_size=8, \n",
        "          epochs=100,\n",
        "          verbose=1,\n",
        "          validation_data=(X_test_prep, y_test))"
      ],
      "execution_count": null,
      "outputs": [
        {
          "output_type": "stream",
          "name": "stdout",
          "text": [
            "Epoch 1/100\n"
          ]
        },
        {
          "output_type": "stream",
          "name": "stderr",
          "text": [
            "/usr/local/lib/python3.7/dist-packages/tensorflow/python/data/ops/structured_function.py:265: UserWarning: Even though the `tf.config.experimental_run_functions_eagerly` option is set, this option does not apply to tf.data functions. To force eager execution of tf.data functions, please use `tf.data.experimental.enable_debug_mode()`.\n",
            "  \"Even though the `tf.config.experimental_run_functions_eagerly` \"\n"
          ]
        },
        {
          "output_type": "stream",
          "name": "stdout",
          "text": [
            "15/15 [==============================] - 27s 2s/step - loss: 1.0000 - iou_score: 4.7711e-10 - f1-score: 4.7711e-10 - val_loss: 1.0000 - val_iou_score: 2.5523e-10 - val_f1-score: 2.5523e-10\n",
            "Epoch 2/100\n",
            "15/15 [==============================] - 27s 2s/step - loss: 1.0000 - iou_score: 4.2145e-10 - f1-score: 4.2145e-10 - val_loss: 1.0000 - val_iou_score: 2.7750e-10 - val_f1-score: 2.7750e-10\n",
            "Epoch 3/100\n",
            "15/15 [==============================] - 28s 2s/step - loss: 1.0000 - iou_score: 4.2392e-10 - f1-score: 4.2392e-10 - val_loss: 1.0000 - val_iou_score: 2.8474e-10 - val_f1-score: 2.8474e-10\n",
            "Epoch 4/100\n",
            "15/15 [==============================] - 27s 2s/step - loss: 1.0000 - iou_score: 4.4257e-10 - f1-score: 4.4257e-10 - val_loss: 1.0000 - val_iou_score: 2.8535e-10 - val_f1-score: 2.8535e-10\n",
            "Epoch 5/100\n",
            "15/15 [==============================] - 27s 2s/step - loss: 1.0000 - iou_score: 4.5259e-10 - f1-score: 4.5259e-10 - val_loss: 1.0000 - val_iou_score: 2.8558e-10 - val_f1-score: 2.8558e-10\n",
            "Epoch 6/100\n",
            "15/15 [==============================] - 27s 2s/step - loss: 1.0000 - iou_score: 4.2760e-10 - f1-score: 4.2760e-10 - val_loss: 1.0000 - val_iou_score: 2.8763e-10 - val_f1-score: 2.8763e-10\n",
            "Epoch 7/100\n",
            "15/15 [==============================] - 27s 2s/step - loss: 1.0000 - iou_score: 4.2912e-10 - f1-score: 4.2912e-10 - val_loss: 1.0000 - val_iou_score: 2.8997e-10 - val_f1-score: 2.8997e-10\n",
            "Epoch 8/100\n",
            "15/15 [==============================] - 27s 2s/step - loss: 1.0000 - iou_score: 4.4748e-10 - f1-score: 4.4748e-10 - val_loss: 1.0000 - val_iou_score: 2.9503e-10 - val_f1-score: 2.9503e-10\n",
            "Epoch 9/100\n",
            "15/15 [==============================] - 27s 2s/step - loss: 1.0000 - iou_score: 4.5199e-10 - f1-score: 4.5199e-10 - val_loss: 1.0000 - val_iou_score: 3.0129e-10 - val_f1-score: 3.0129e-10\n",
            "Epoch 10/100\n",
            "15/15 [==============================] - 27s 2s/step - loss: 1.0000 - iou_score: 4.4450e-10 - f1-score: 4.4450e-10 - val_loss: 1.0000 - val_iou_score: 3.1736e-10 - val_f1-score: 3.1736e-10\n",
            "Epoch 11/100\n",
            "15/15 [==============================] - 27s 2s/step - loss: 1.0000 - iou_score: 4.4381e-10 - f1-score: 4.4381e-10 - val_loss: 1.0000 - val_iou_score: 3.9442e-10 - val_f1-score: 3.9442e-10\n",
            "Epoch 12/100\n",
            "15/15 [==============================] - 27s 2s/step - loss: 1.0000 - iou_score: 4.4033e-10 - f1-score: 4.4033e-10 - val_loss: 1.0000 - val_iou_score: 5.2561e-10 - val_f1-score: 5.2561e-10\n",
            "Epoch 13/100\n",
            "15/15 [==============================] - 27s 2s/step - loss: 1.0000 - iou_score: 4.4417e-10 - f1-score: 4.4417e-10 - val_loss: 1.0000 - val_iou_score: 5.6715e-10 - val_f1-score: 5.6715e-10\n",
            "Epoch 14/100\n",
            "15/15 [==============================] - 27s 2s/step - loss: 1.0000 - iou_score: 4.5162e-10 - f1-score: 4.5162e-10 - val_loss: 1.0000 - val_iou_score: 5.7980e-10 - val_f1-score: 5.7980e-10\n",
            "Epoch 15/100\n",
            "15/15 [==============================] - 27s 2s/step - loss: 1.0000 - iou_score: 4.3601e-10 - f1-score: 4.3601e-10 - val_loss: 1.0000 - val_iou_score: 5.7939e-10 - val_f1-score: 5.7939e-10\n",
            "Epoch 16/100\n",
            "15/15 [==============================] - 27s 2s/step - loss: 1.0000 - iou_score: 4.3071e-10 - f1-score: 4.3071e-10 - val_loss: 1.0000 - val_iou_score: 5.8265e-10 - val_f1-score: 5.8265e-10\n",
            "Epoch 17/100\n",
            "15/15 [==============================] - 27s 2s/step - loss: 1.0000 - iou_score: 4.6407e-10 - f1-score: 4.6407e-10 - val_loss: 1.0000 - val_iou_score: 5.8323e-10 - val_f1-score: 5.8323e-10\n",
            "Epoch 18/100\n",
            "15/15 [==============================] - 27s 2s/step - loss: 1.0000 - iou_score: 4.3917e-10 - f1-score: 4.3917e-10 - val_loss: 1.0000 - val_iou_score: 5.8187e-10 - val_f1-score: 5.8187e-10\n",
            "Epoch 19/100\n",
            "15/15 [==============================] - 27s 2s/step - loss: 1.0000 - iou_score: 4.6262e-10 - f1-score: 4.6262e-10 - val_loss: 1.0000 - val_iou_score: 5.8448e-10 - val_f1-score: 5.8448e-10\n",
            "Epoch 20/100\n",
            "15/15 [==============================] - 27s 2s/step - loss: 1.0000 - iou_score: 4.6219e-10 - f1-score: 4.6219e-10 - val_loss: 1.0000 - val_iou_score: 5.8534e-10 - val_f1-score: 5.8534e-10\n",
            "Epoch 21/100\n",
            "15/15 [==============================] - 27s 2s/step - loss: 1.0000 - iou_score: 4.5472e-10 - f1-score: 4.5472e-10 - val_loss: 1.0000 - val_iou_score: 5.8497e-10 - val_f1-score: 5.8497e-10\n",
            "Epoch 22/100\n",
            "15/15 [==============================] - 27s 2s/step - loss: 1.0000 - iou_score: 4.4934e-10 - f1-score: 4.4934e-10 - val_loss: 1.0000 - val_iou_score: 5.8498e-10 - val_f1-score: 5.8498e-10\n",
            "Epoch 23/100\n",
            "15/15 [==============================] - 27s 2s/step - loss: 1.0000 - iou_score: 4.2548e-10 - f1-score: 4.2548e-10 - val_loss: 1.0000 - val_iou_score: 5.8155e-10 - val_f1-score: 5.8155e-10\n",
            "Epoch 24/100\n",
            "15/15 [==============================] - 27s 2s/step - loss: 1.0000 - iou_score: 4.2140e-10 - f1-score: 4.2140e-10 - val_loss: 1.0000 - val_iou_score: 5.8194e-10 - val_f1-score: 5.8194e-10\n",
            "Epoch 25/100\n",
            "15/15 [==============================] - 27s 2s/step - loss: 1.0000 - iou_score: 4.5004e-10 - f1-score: 4.5004e-10 - val_loss: 1.0000 - val_iou_score: 5.8292e-10 - val_f1-score: 5.8292e-10\n",
            "Epoch 26/100\n",
            "15/15 [==============================] - 27s 2s/step - loss: 1.0000 - iou_score: 4.2918e-10 - f1-score: 4.2918e-10 - val_loss: 1.0000 - val_iou_score: 5.8211e-10 - val_f1-score: 5.8211e-10\n",
            "Epoch 27/100\n",
            "15/15 [==============================] - 27s 2s/step - loss: 1.0000 - iou_score: 4.3945e-10 - f1-score: 4.3945e-10 - val_loss: 1.0000 - val_iou_score: 5.7985e-10 - val_f1-score: 5.7985e-10\n",
            "Epoch 28/100\n",
            "15/15 [==============================] - 27s 2s/step - loss: 1.0000 - iou_score: 4.4457e-10 - f1-score: 4.4457e-10 - val_loss: 1.0000 - val_iou_score: 5.7954e-10 - val_f1-score: 5.7954e-10\n",
            "Epoch 29/100\n",
            "15/15 [==============================] - 27s 2s/step - loss: 1.0000 - iou_score: 4.2346e-10 - f1-score: 4.2346e-10 - val_loss: 1.0000 - val_iou_score: 5.7879e-10 - val_f1-score: 5.7879e-10\n",
            "Epoch 30/100\n",
            "15/15 [==============================] - 27s 2s/step - loss: 1.0000 - iou_score: 4.3695e-10 - f1-score: 4.3695e-10 - val_loss: 1.0000 - val_iou_score: 5.7705e-10 - val_f1-score: 5.7705e-10\n",
            "Epoch 31/100\n",
            "15/15 [==============================] - 27s 2s/step - loss: 1.0000 - iou_score: 4.7603e-10 - f1-score: 4.7603e-10 - val_loss: 1.0000 - val_iou_score: 5.7744e-10 - val_f1-score: 5.7744e-10\n",
            "Epoch 32/100\n",
            "15/15 [==============================] - 27s 2s/step - loss: 1.0000 - iou_score: 4.4954e-10 - f1-score: 4.4954e-10 - val_loss: 1.0000 - val_iou_score: 5.7706e-10 - val_f1-score: 5.7706e-10\n",
            "Epoch 33/100\n",
            "15/15 [==============================] - 27s 2s/step - loss: 1.0000 - iou_score: 4.4339e-10 - f1-score: 4.4339e-10 - val_loss: 1.0000 - val_iou_score: 5.7460e-10 - val_f1-score: 5.7460e-10\n",
            "Epoch 34/100\n",
            "15/15 [==============================] - 27s 2s/step - loss: 1.0000 - iou_score: 4.4368e-10 - f1-score: 4.4368e-10 - val_loss: 1.0000 - val_iou_score: 5.7597e-10 - val_f1-score: 5.7597e-10\n",
            "Epoch 35/100\n",
            "15/15 [==============================] - 27s 2s/step - loss: 1.0000 - iou_score: 4.4274e-10 - f1-score: 4.4274e-10 - val_loss: 1.0000 - val_iou_score: 5.7708e-10 - val_f1-score: 5.7708e-10\n",
            "Epoch 36/100\n",
            "15/15 [==============================] - 27s 2s/step - loss: 1.0000 - iou_score: 4.3864e-10 - f1-score: 4.3864e-10 - val_loss: 1.0000 - val_iou_score: 5.7803e-10 - val_f1-score: 5.7803e-10\n",
            "Epoch 37/100\n",
            "15/15 [==============================] - 27s 2s/step - loss: 1.0000 - iou_score: 4.3550e-10 - f1-score: 4.3550e-10 - val_loss: 1.0000 - val_iou_score: 5.7813e-10 - val_f1-score: 5.7813e-10\n",
            "Epoch 38/100\n",
            "15/15 [==============================] - 27s 2s/step - loss: 1.0000 - iou_score: 4.4285e-10 - f1-score: 4.4285e-10 - val_loss: 1.0000 - val_iou_score: 5.7591e-10 - val_f1-score: 5.7591e-10\n",
            "Epoch 39/100\n",
            "15/15 [==============================] - 27s 2s/step - loss: 1.0000 - iou_score: 4.3017e-10 - f1-score: 4.3017e-10 - val_loss: 1.0000 - val_iou_score: 5.7663e-10 - val_f1-score: 5.7663e-10\n",
            "Epoch 40/100\n",
            "15/15 [==============================] - 27s 2s/step - loss: 1.0000 - iou_score: 4.3562e-10 - f1-score: 4.3562e-10 - val_loss: 1.0000 - val_iou_score: 5.7516e-10 - val_f1-score: 5.7516e-10\n",
            "Epoch 41/100\n",
            "15/15 [==============================] - 27s 2s/step - loss: 1.0000 - iou_score: 4.4891e-10 - f1-score: 4.4891e-10 - val_loss: 1.0000 - val_iou_score: 5.7365e-10 - val_f1-score: 5.7365e-10\n",
            "Epoch 42/100\n",
            "15/15 [==============================] - 27s 2s/step - loss: 1.0000 - iou_score: 4.1804e-10 - f1-score: 4.1804e-10 - val_loss: 1.0000 - val_iou_score: 5.7371e-10 - val_f1-score: 5.7371e-10\n",
            "Epoch 43/100\n",
            "15/15 [==============================] - 27s 2s/step - loss: 1.0000 - iou_score: 4.6044e-10 - f1-score: 4.6044e-10 - val_loss: 1.0000 - val_iou_score: 5.7295e-10 - val_f1-score: 5.7295e-10\n",
            "Epoch 44/100\n",
            "15/15 [==============================] - 27s 2s/step - loss: 1.0000 - iou_score: 4.4498e-10 - f1-score: 4.4498e-10 - val_loss: 1.0000 - val_iou_score: 5.7741e-10 - val_f1-score: 5.7741e-10\n",
            "Epoch 45/100\n",
            "15/15 [==============================] - 27s 2s/step - loss: 1.0000 - iou_score: 4.3346e-10 - f1-score: 4.3346e-10 - val_loss: 1.0000 - val_iou_score: 5.7816e-10 - val_f1-score: 5.7816e-10\n",
            "Epoch 46/100\n",
            "15/15 [==============================] - 27s 2s/step - loss: 1.0000 - iou_score: 4.1253e-10 - f1-score: 4.1253e-10 - val_loss: 1.0000 - val_iou_score: 5.7412e-10 - val_f1-score: 5.7412e-10\n",
            "Epoch 47/100\n",
            "15/15 [==============================] - 27s 2s/step - loss: 1.0000 - iou_score: 4.5168e-10 - f1-score: 4.5168e-10 - val_loss: 1.0000 - val_iou_score: 5.7363e-10 - val_f1-score: 5.7363e-10\n",
            "Epoch 48/100\n",
            "15/15 [==============================] - 27s 2s/step - loss: 1.0000 - iou_score: 4.2862e-10 - f1-score: 4.2862e-10 - val_loss: 1.0000 - val_iou_score: 5.7530e-10 - val_f1-score: 5.7530e-10\n",
            "Epoch 49/100\n",
            "15/15 [==============================] - 27s 2s/step - loss: 1.0000 - iou_score: 4.4765e-10 - f1-score: 4.4765e-10 - val_loss: 1.0000 - val_iou_score: 5.7151e-10 - val_f1-score: 5.7151e-10\n",
            "Epoch 50/100\n",
            "15/15 [==============================] - 27s 2s/step - loss: 1.0000 - iou_score: 4.4489e-10 - f1-score: 4.4489e-10 - val_loss: 1.0000 - val_iou_score: 5.7120e-10 - val_f1-score: 5.7120e-10\n",
            "Epoch 51/100\n",
            "15/15 [==============================] - 27s 2s/step - loss: 1.0000 - iou_score: 4.4509e-10 - f1-score: 4.4509e-10 - val_loss: 1.0000 - val_iou_score: 5.6751e-10 - val_f1-score: 5.6751e-10\n",
            "Epoch 52/100\n",
            "15/15 [==============================] - 27s 2s/step - loss: 1.0000 - iou_score: 4.3766e-10 - f1-score: 4.3766e-10 - val_loss: 1.0000 - val_iou_score: 5.7008e-10 - val_f1-score: 5.7008e-10\n",
            "Epoch 53/100\n",
            "15/15 [==============================] - 27s 2s/step - loss: 1.0000 - iou_score: 4.3785e-10 - f1-score: 4.3785e-10 - val_loss: 1.0000 - val_iou_score: 5.6989e-10 - val_f1-score: 5.6989e-10\n",
            "Epoch 54/100\n",
            "15/15 [==============================] - 27s 2s/step - loss: 1.0000 - iou_score: 4.4936e-10 - f1-score: 4.4936e-10 - val_loss: 1.0000 - val_iou_score: 5.7166e-10 - val_f1-score: 5.7166e-10\n",
            "Epoch 55/100\n",
            "15/15 [==============================] - 27s 2s/step - loss: 1.0000 - iou_score: 4.2808e-10 - f1-score: 4.2808e-10 - val_loss: 1.0000 - val_iou_score: 5.7167e-10 - val_f1-score: 5.7167e-10\n",
            "Epoch 56/100\n",
            "15/15 [==============================] - 27s 2s/step - loss: 1.0000 - iou_score: 4.7666e-10 - f1-score: 4.7666e-10 - val_loss: 1.0000 - val_iou_score: 5.7044e-10 - val_f1-score: 5.7044e-10\n",
            "Epoch 57/100\n",
            "15/15 [==============================] - 27s 2s/step - loss: 1.0000 - iou_score: 4.6520e-10 - f1-score: 4.6520e-10 - val_loss: 1.0000 - val_iou_score: 5.6962e-10 - val_f1-score: 5.6962e-10\n",
            "Epoch 58/100\n",
            "15/15 [==============================] - 27s 2s/step - loss: 1.0000 - iou_score: 4.7156e-10 - f1-score: 4.7156e-10 - val_loss: 1.0000 - val_iou_score: 5.7158e-10 - val_f1-score: 5.7158e-10\n",
            "Epoch 59/100\n",
            "15/15 [==============================] - 27s 2s/step - loss: 1.0000 - iou_score: 4.8867e-10 - f1-score: 4.8867e-10 - val_loss: 1.0000 - val_iou_score: 5.7049e-10 - val_f1-score: 5.7049e-10\n",
            "Epoch 60/100\n",
            "15/15 [==============================] - 27s 2s/step - loss: 1.0000 - iou_score: 4.5582e-10 - f1-score: 4.5582e-10 - val_loss: 1.0000 - val_iou_score: 5.7164e-10 - val_f1-score: 5.7164e-10\n",
            "Epoch 61/100\n",
            "15/15 [==============================] - 27s 2s/step - loss: 1.0000 - iou_score: 4.4307e-10 - f1-score: 4.4307e-10 - val_loss: 1.0000 - val_iou_score: 5.7115e-10 - val_f1-score: 5.7115e-10\n",
            "Epoch 62/100\n",
            "15/15 [==============================] - 27s 2s/step - loss: 1.0000 - iou_score: 4.3397e-10 - f1-score: 4.3397e-10 - val_loss: 1.0000 - val_iou_score: 5.7243e-10 - val_f1-score: 5.7243e-10\n",
            "Epoch 63/100\n",
            "15/15 [==============================] - 27s 2s/step - loss: 1.0000 - iou_score: 4.2092e-10 - f1-score: 4.2092e-10 - val_loss: 1.0000 - val_iou_score: 5.6752e-10 - val_f1-score: 5.6752e-10\n",
            "Epoch 64/100\n",
            "15/15 [==============================] - 27s 2s/step - loss: 1.0000 - iou_score: 4.3176e-10 - f1-score: 4.3176e-10 - val_loss: 1.0000 - val_iou_score: 5.6784e-10 - val_f1-score: 5.6784e-10\n",
            "Epoch 65/100\n",
            "15/15 [==============================] - 27s 2s/step - loss: 1.0000 - iou_score: 4.8854e-10 - f1-score: 4.8854e-10 - val_loss: 1.0000 - val_iou_score: 5.7044e-10 - val_f1-score: 5.7044e-10\n",
            "Epoch 66/100\n",
            "15/15 [==============================] - 27s 2s/step - loss: 1.0000 - iou_score: 4.7208e-10 - f1-score: 4.7208e-10 - val_loss: 1.0000 - val_iou_score: 5.7533e-10 - val_f1-score: 5.7533e-10\n",
            "Epoch 67/100\n",
            "15/15 [==============================] - 27s 2s/step - loss: 1.0000 - iou_score: 4.3229e-10 - f1-score: 4.3229e-10 - val_loss: 1.0000 - val_iou_score: 5.7879e-10 - val_f1-score: 5.7879e-10\n",
            "Epoch 68/100\n",
            "15/15 [==============================] - 27s 2s/step - loss: 1.0000 - iou_score: 4.2551e-10 - f1-score: 4.2551e-10 - val_loss: 1.0000 - val_iou_score: 5.7827e-10 - val_f1-score: 5.7827e-10\n",
            "Epoch 69/100\n",
            "15/15 [==============================] - 27s 2s/step - loss: 1.0000 - iou_score: 4.4676e-10 - f1-score: 4.4676e-10 - val_loss: 1.0000 - val_iou_score: 5.7858e-10 - val_f1-score: 5.7858e-10\n",
            "Epoch 70/100\n",
            "15/15 [==============================] - 27s 2s/step - loss: 1.0000 - iou_score: 4.5781e-10 - f1-score: 4.5781e-10 - val_loss: 1.0000 - val_iou_score: 5.8237e-10 - val_f1-score: 5.8237e-10\n",
            "Epoch 71/100\n",
            "15/15 [==============================] - 27s 2s/step - loss: 1.0000 - iou_score: 4.2920e-10 - f1-score: 4.2920e-10 - val_loss: 1.0000 - val_iou_score: 5.8116e-10 - val_f1-score: 5.8116e-10\n",
            "Epoch 72/100\n",
            "15/15 [==============================] - 27s 2s/step - loss: 1.0000 - iou_score: 4.4386e-10 - f1-score: 4.4386e-10 - val_loss: 1.0000 - val_iou_score: 5.7777e-10 - val_f1-score: 5.7777e-10\n",
            "Epoch 73/100\n",
            "15/15 [==============================] - 27s 2s/step - loss: 1.0000 - iou_score: 4.4251e-10 - f1-score: 4.4251e-10 - val_loss: 1.0000 - val_iou_score: 5.7804e-10 - val_f1-score: 5.7804e-10\n",
            "Epoch 74/100\n",
            "15/15 [==============================] - 27s 2s/step - loss: 1.0000 - iou_score: 4.7840e-10 - f1-score: 4.7840e-10 - val_loss: 1.0000 - val_iou_score: 5.7656e-10 - val_f1-score: 5.7656e-10\n",
            "Epoch 75/100\n",
            "15/15 [==============================] - 80s 6s/step - loss: 1.0000 - iou_score: 4.4139e-10 - f1-score: 4.4139e-10 - val_loss: 1.0000 - val_iou_score: 5.7822e-10 - val_f1-score: 5.7822e-10\n",
            "Epoch 76/100\n",
            "15/15 [==============================] - 27s 2s/step - loss: 1.0000 - iou_score: 4.3730e-10 - f1-score: 4.3730e-10 - val_loss: 1.0000 - val_iou_score: 5.7432e-10 - val_f1-score: 5.7432e-10\n",
            "Epoch 77/100\n",
            "15/15 [==============================] - 27s 2s/step - loss: 1.0000 - iou_score: 4.4069e-10 - f1-score: 4.4069e-10 - val_loss: 1.0000 - val_iou_score: 5.7383e-10 - val_f1-score: 5.7383e-10\n",
            "Epoch 78/100\n",
            "15/15 [==============================] - 27s 2s/step - loss: 1.0000 - iou_score: 4.3108e-10 - f1-score: 4.3108e-10 - val_loss: 1.0000 - val_iou_score: 5.7268e-10 - val_f1-score: 5.7268e-10\n",
            "Epoch 79/100\n",
            "15/15 [==============================] - 27s 2s/step - loss: 1.0000 - iou_score: 4.5121e-10 - f1-score: 4.5121e-10 - val_loss: 1.0000 - val_iou_score: 5.7362e-10 - val_f1-score: 5.7362e-10\n",
            "Epoch 80/100\n",
            "15/15 [==============================] - 27s 2s/step - loss: 1.0000 - iou_score: 4.3048e-10 - f1-score: 4.3048e-10 - val_loss: 1.0000 - val_iou_score: 5.7210e-10 - val_f1-score: 5.7210e-10\n",
            "Epoch 81/100\n",
            "15/15 [==============================] - 27s 2s/step - loss: 1.0000 - iou_score: 4.8332e-10 - f1-score: 4.8332e-10 - val_loss: 1.0000 - val_iou_score: 5.7597e-10 - val_f1-score: 5.7597e-10\n",
            "Epoch 82/100\n",
            "15/15 [==============================] - 27s 2s/step - loss: 1.0000 - iou_score: 4.3754e-10 - f1-score: 4.3754e-10 - val_loss: 1.0000 - val_iou_score: 5.7582e-10 - val_f1-score: 5.7582e-10\n",
            "Epoch 83/100\n",
            "15/15 [==============================] - 27s 2s/step - loss: 1.0000 - iou_score: 4.9562e-10 - f1-score: 4.9562e-10 - val_loss: 1.0000 - val_iou_score: 5.8045e-10 - val_f1-score: 5.8045e-10\n",
            "Epoch 84/100\n",
            "15/15 [==============================] - 27s 2s/step - loss: 1.0000 - iou_score: 4.7537e-10 - f1-score: 4.7537e-10 - val_loss: 1.0000 - val_iou_score: 5.8383e-10 - val_f1-score: 5.8383e-10\n",
            "Epoch 85/100\n",
            "15/15 [==============================] - 27s 2s/step - loss: 1.0000 - iou_score: 4.2413e-10 - f1-score: 4.2413e-10 - val_loss: 1.0000 - val_iou_score: 5.8477e-10 - val_f1-score: 5.8477e-10\n",
            "Epoch 86/100\n",
            "15/15 [==============================] - 27s 2s/step - loss: 1.0000 - iou_score: 4.6200e-10 - f1-score: 4.6200e-10 - val_loss: 1.0000 - val_iou_score: 5.8793e-10 - val_f1-score: 5.8793e-10\n",
            "Epoch 87/100\n",
            "15/15 [==============================] - 27s 2s/step - loss: 1.0000 - iou_score: 4.8566e-10 - f1-score: 4.8566e-10 - val_loss: 1.0000 - val_iou_score: 5.8587e-10 - val_f1-score: 5.8587e-10\n",
            "Epoch 88/100\n",
            "15/15 [==============================] - 27s 2s/step - loss: 1.0000 - iou_score: 4.8030e-10 - f1-score: 4.8030e-10 - val_loss: 1.0000 - val_iou_score: 5.8863e-10 - val_f1-score: 5.8863e-10\n",
            "Epoch 89/100\n",
            "15/15 [==============================] - 27s 2s/step - loss: 1.0000 - iou_score: 4.5934e-10 - f1-score: 4.5934e-10 - val_loss: 1.0000 - val_iou_score: 5.8617e-10 - val_f1-score: 5.8617e-10\n",
            "Epoch 90/100\n",
            "15/15 [==============================] - 27s 2s/step - loss: 1.0000 - iou_score: 4.2589e-10 - f1-score: 4.2589e-10 - val_loss: 1.0000 - val_iou_score: 5.8289e-10 - val_f1-score: 5.8289e-10\n",
            "Epoch 91/100\n",
            "15/15 [==============================] - 27s 2s/step - loss: 1.0000 - iou_score: 4.5317e-10 - f1-score: 4.5317e-10 - val_loss: 1.0000 - val_iou_score: 5.7858e-10 - val_f1-score: 5.7858e-10\n",
            "Epoch 92/100\n",
            "15/15 [==============================] - 27s 2s/step - loss: 1.0000 - iou_score: 4.1876e-10 - f1-score: 4.1876e-10 - val_loss: 1.0000 - val_iou_score: 5.7644e-10 - val_f1-score: 5.7644e-10\n",
            "Epoch 93/100\n",
            "15/15 [==============================] - 27s 2s/step - loss: 1.0000 - iou_score: 4.5511e-10 - f1-score: 4.5511e-10 - val_loss: 1.0000 - val_iou_score: 5.8086e-10 - val_f1-score: 5.8086e-10\n",
            "Epoch 94/100\n",
            "15/15 [==============================] - 27s 2s/step - loss: 1.0000 - iou_score: 4.4475e-10 - f1-score: 4.4475e-10 - val_loss: 1.0000 - val_iou_score: 5.7784e-10 - val_f1-score: 5.7784e-10\n",
            "Epoch 95/100\n",
            "15/15 [==============================] - 27s 2s/step - loss: 1.0000 - iou_score: 4.4553e-10 - f1-score: 4.4553e-10 - val_loss: 1.0000 - val_iou_score: 5.7849e-10 - val_f1-score: 5.7849e-10\n",
            "Epoch 96/100\n",
            "15/15 [==============================] - 27s 2s/step - loss: 1.0000 - iou_score: 4.3156e-10 - f1-score: 4.3156e-10 - val_loss: 1.0000 - val_iou_score: 5.7898e-10 - val_f1-score: 5.7898e-10\n",
            "Epoch 97/100\n",
            "15/15 [==============================] - 27s 2s/step - loss: 1.0000 - iou_score: 4.3664e-10 - f1-score: 4.3664e-10 - val_loss: 1.0000 - val_iou_score: 5.7952e-10 - val_f1-score: 5.7952e-10\n",
            "Epoch 98/100\n",
            "15/15 [==============================] - 27s 2s/step - loss: 1.0000 - iou_score: 4.3289e-10 - f1-score: 4.3289e-10 - val_loss: 1.0000 - val_iou_score: 5.7587e-10 - val_f1-score: 5.7587e-10\n",
            "Epoch 99/100\n",
            "15/15 [==============================] - 27s 2s/step - loss: 1.0000 - iou_score: 4.4886e-10 - f1-score: 4.4886e-10 - val_loss: 1.0000 - val_iou_score: 5.7715e-10 - val_f1-score: 5.7715e-10\n",
            "Epoch 100/100\n",
            "15/15 [==============================] - 27s 2s/step - loss: 1.0000 - iou_score: 4.4809e-10 - f1-score: 4.4809e-10 - val_loss: 1.0000 - val_iou_score: 5.7852e-10 - val_f1-score: 5.7852e-10\n"
          ]
        }
      ]
    },
    {
      "cell_type": "markdown",
      "metadata": {
        "id": "whtF9V1npJ8s"
      },
      "source": []
    },
    {
      "cell_type": "markdown",
      "source": [],
      "metadata": {
        "id": "71qzxtK2kjhZ"
      }
    },
    {
      "cell_type": "code",
      "metadata": {
        "id": "LVTe3TrrE6DS"
      },
      "source": [
        "#Save model for future use\n",
        "model.save('/content/drive/MyDrive/Colab Notebooks/data/sandstone_3d/3D_model_vgg16_100epochs.h5')"
      ],
      "execution_count": null,
      "outputs": []
    },
    {
      "cell_type": "code",
      "metadata": {
        "id": "5Nk4OFMzAoLk",
        "colab": {
          "base_uri": "https://localhost:8080/",
          "height": 573
        },
        "outputId": "8a6a4c7e-f6a4-41b1-ddb0-8723f229014a"
      },
      "source": [
        "###\n",
        "#plot the training and validation IoU and loss at each epoch\n",
        "loss = history.history['loss']\n",
        "val_loss = history.history['val_loss']\n",
        "epochs = range(1, len(loss) + 1)\n",
        "plt.plot(epochs, loss, 'y', label='Training loss')\n",
        "plt.plot(epochs, val_loss, 'r', label='Validation loss')\n",
        "plt.title('Training and validation loss')\n",
        "plt.xlabel('Epochs')\n",
        "plt.ylabel('Loss')\n",
        "plt.legend()\n",
        "plt.show()\n",
        "\n",
        "acc = history.history['iou_score']\n",
        "val_acc = history.history['val_iou_score']\n",
        "\n",
        "plt.plot(epochs, acc, 'y', label='Training IOU')\n",
        "plt.plot(epochs, val_acc, 'r', label='Validation IOU')\n",
        "plt.title('Training and validation IOU')\n",
        "plt.xlabel('Epochs')\n",
        "plt.ylabel('IOU')\n",
        "plt.legend()\n",
        "plt.show()"
      ],
      "execution_count": null,
      "outputs": [
        {
          "output_type": "display_data",
          "data": {
            "image/png": "[encoded data removed]",
            "text/plain": [
              "<Figure size 432x288 with 1 Axes>"
            ]
          },
          "metadata": {
            "tags": [],
            "needs_background": "light"
          }
        },
        {
          "output_type": "display_data",
          "data": {
            "image/png": "[encoded data removed]",
            "text/plain": [
              "<Figure size 432x288 with 1 Axes>"
            ]
          },
          "metadata": {
            "tags": [],
            "needs_background": "light"
          }
        }
      ]
    },
    {
      "cell_type": "code",
      "metadata": {
        "id": "lwjlR25nF54w"
      },
      "source": [
        "#Load the pretrained model for testing and predictions. \n",
        "from keras.models import load_model\n",
        "my_model = load_model('/content/drive/MyDrive/Colab Notebooks/data/sandstone_3d/3D_model_vgg16_100epochs.h5', compile=False)\n",
        "#If you load a different model do not forget to preprocess accordingly. "
      ],
      "execution_count": null,
      "outputs": []
    },
    {
      "cell_type": "code",
      "metadata": {
        "id": "kTAQpcUQA7SN"
      },
      "source": [
        "#Predict on the test data\n",
        "y_pred=my_model.predict(X_test)\n",
        "y_pred_argmax=np.argmax(y_pred, axis=4)\n",
        "y_test_argmax = np.argmax(y_test, axis=4)\n"
      ],
      "execution_count": null,
      "outputs": []
    },
    {
      "cell_type": "code",
      "metadata": {
        "id": "FjHYiOqYBifK"
      },
      "source": [
        "print(y_pred_argmax.shape)\n",
        "print(y_test_argmax.shape)\n",
        "print(np.unique(y_pred_argmax))"
      ],
      "execution_count": null,
      "outputs": []
    },
    {
      "cell_type": "code",
      "metadata": {
        "id": "3lv4EhPCHsrz"
      },
      "source": [
        "#Using built in keras function for IoU\n",
        "#Only works on TF > 2.0\n",
        "#from keras.metrics import MeanIoU\n",
        "#from keras.metrics import MeanIoU\n",
        "#n_classes = 4\n",
        "#IOU_keras = MeanIoU(num_classes=n_classes)  \n",
        "#IOU_keras.update_state(y_test_argmax, y_pred_argmax)\n",
        "#print(\"Mean IoU =\", IOU_keras.result().numpy())"
      ],
      "execution_count": null,
      "outputs": []
    },
    {
      "cell_type": "code",
      "metadata": {
        "id": "BPcRSfobCBrE"
      },
      "source": [
        "#Test some random images\n",
        "import random\n",
        "test_img_number = random.randint(0, len(X_test))\n",
        "test_img = X_test[test_img_number]\n",
        "ground_truth=y_test[test_img_number]\n",
        "\n",
        "test_img_input=np.expand_dims(test_img, 0)\n",
        "test_img_input1 = preprocess_input(test_img_input)\n",
        "\n",
        "test_pred1 = my_model.predict(test_img_input1)\n",
        "test_prediction1 = np.argmax(test_pred1, axis=4)[0,:,:,:]\n",
        "print(test_prediction1.shape)\n",
        "\n",
        "\n"
      ],
      "execution_count": null,
      "outputs": []
    },
    {
      "cell_type": "code",
      "metadata": {
        "id": "KGQr-RxdFYuF"
      },
      "source": [
        "ground_truth_argmax = np.argmax(ground_truth, axis=3)\n",
        "print(test_img.shape)"
      ],
      "execution_count": null,
      "outputs": []
    },
    {
      "cell_type": "code",
      "metadata": {
        "id": "7W9XsGK7FMuN",
        "colab": {
          "base_uri": "https://localhost:8080/",
          "height": 261
        },
        "outputId": "549c1b79-1130-4100-db4b-54821b56a8e4"
      },
      "source": [
        "#Plot individual slices from test predictions for verification\n",
        "slice = 14\n",
        "plt.figure(figsize=(12, 8))\n",
        "plt.subplot(231)\n",
        "plt.title('Testing Image')\n",
        "plt.imshow(test_img[slice,:,:,0], cmap='gray')\n",
        "plt.subplot(232)\n",
        "plt.title('Testing Label')\n",
        "plt.imshow(ground_truth_argmax[slice,:,:])\n",
        "plt.subplot(233)\n",
        "plt.title('Prediction on test image')\n",
        "plt.imshow(test_prediction1[slice,:,:])\n",
        "plt.show()"
      ],
      "execution_count": null,
      "outputs": [
        {
          "output_type": "display_data",
          "data": {
            "image/png": "[encoded data removed]",
            "text/plain": [
              "<Figure size 864x576 with 3 Axes>"
            ]
          },
          "metadata": {
            "tags": [],
            "needs_background": "light"
          }
        }
      ]
    },
    {
      "cell_type": "markdown",
      "metadata": {
        "id": "CNi7_zeC7SmG"
      },
      "source": [
        "Now segment the full volume using the trained model."
      ]
    },
    {
      "cell_type": "code",
      "metadata": {
        "id": "C1eYttiN7tH4"
      },
      "source": [
        "#Break the large image (volume) into patches of same size as the training images (patches)\n",
        "large_image = io.imread('/content/drive/MyDrive/Colab Notebooks/data/sandstone_3d/all_images/448_images_512x512.tif')\n",
        "patches = patchify(large_image, (64, 64, 64), step=64)  #Step=256 for 256 patches means no overlap\n",
        "print(large_image.shape)\n",
        "print(patches.shape)"
      ],
      "execution_count": null,
      "outputs": []
    },
    {
      "cell_type": "code",
      "metadata": {
        "id": "G6KXGtea89wi"
      },
      "source": [
        "# Predict each 3D patch   \n",
        "predicted_patches = []\n",
        "for i in range(patches.shape[0]):\n",
        "  for j in range(patches.shape[1]):\n",
        "    for k in range(patches.shape[2]):\n",
        "      #print(i,j,k)\n",
        "      single_patch = patches[i,j,k, :,:,:]\n",
        "      single_patch_3ch = np.stack((single_patch,)*3, axis=-1)\n",
        "      single_patch_3ch_input = preprocess_input(np.expand_dims(single_patch_3ch, axis=0))\n",
        "      single_patch_prediction = my_model.predict(single_patch_3ch_input)\n",
        "      single_patch_prediction_argmax = np.argmax(single_patch_prediction, axis=4)[0,:,:,:]\n",
        "      predicted_patches.append(single_patch_prediction_argmax)\n",
        "      \n"
      ],
      "execution_count": null,
      "outputs": []
    },
    {
      "cell_type": "code",
      "metadata": {
        "id": "yxX9vrPMAvK2"
      },
      "source": [
        "#Convert list to numpy array\n",
        "predicted_patches = np.array(predicted_patches)\n",
        "print(predicted_patches.shape)"
      ],
      "execution_count": null,
      "outputs": []
    },
    {
      "cell_type": "code",
      "metadata": {
        "id": "qYQi_STcA6gw"
      },
      "source": [
        "#Reshape to the shape we had after patchifying\n",
        "predicted_patches_reshaped = np.reshape(predicted_patches, \n",
        "                                        (patches.shape[0], patches.shape[1], patches.shape[2],\n",
        "                                         patches.shape[3], patches.shape[4], patches.shape[5]) )\n",
        "print(predicted_patches_reshaped.shape)"
      ],
      "execution_count": null,
      "outputs": []
    },
    {
      "cell_type": "code",
      "metadata": {
        "id": "SQcYSuaeBP2i"
      },
      "source": [
        "#Repach individual patches into the orginal volume shape\n",
        "reconstructed_image = unpatchify(predicted_patches_reshaped, large_image.shape)\n",
        "print(reconstructed_image.shape)"
      ],
      "execution_count": null,
      "outputs": []
    },
    {
      "cell_type": "code",
      "metadata": {
        "id": "rFF2FwCGDR1A"
      },
      "source": [
        "print(reconstructed_image.dtype)"
      ],
      "execution_count": null,
      "outputs": []
    },
    {
      "cell_type": "code",
      "metadata": {
        "id": "6VF_g8oLDjKp"
      },
      "source": [
        "#Convert to uint8 so we can open image in most image viewing software packages\n",
        "reconstructed_image=reconstructed_image.astype(np.uint8)\n",
        "print(reconstructed_image.dtype)"
      ],
      "execution_count": null,
      "outputs": []
    },
    {
      "cell_type": "code",
      "metadata": {
        "id": "OdjWCDYoKLgM"
      },
      "source": [
        "#Now save it as segmented volume.\n",
        "from tifffile import imsave\n",
        "imsave('/content/drive/MyDrive/Colab Notebooks/data/sandstone_3d/all_images/segmented.tif', reconstructed_image)\n",
        "    "
      ],
      "execution_count": null,
      "outputs": []
    },
    {
      "cell_type": "code",
      "metadata": {
        "id": "SsBu290SNNSD"
      },
      "source": [
        "#If you would like to save the volume as multichannel dataset...."
      ],
      "execution_count": null,
      "outputs": []
    },
    {
      "cell_type": "code",
      "metadata": {
        "id": "EMFGGwT8FpEl"
      },
      "source": [
        "print(np.unique(reconstructed_image))"
      ],
      "execution_count": null,
      "outputs": []
    },
    {
      "cell_type": "code",
      "metadata": {
        "id": "USCSJT4rGBDt"
      },
      "source": [
        "#Seperate each channel/segment to be combined as multiple channels.\n",
        "num_segments=4\n",
        "segm0 = (reconstructed_image == 0)\n",
        "segm1 = (reconstructed_image == 1)\n",
        "segm2 = (reconstructed_image == 2)\n",
        "segm3 = (reconstructed_image == 3)\n",
        "\n",
        "final = np.empty((reconstructed_image.shape[0], reconstructed_image.shape[1], reconstructed_image.shape[2], num_segments))\n",
        "final[:,:,:,0] = segm0\n",
        "final[:,:,:,1] = segm1\n",
        "final[:,:,:,2] = segm2\n",
        "final[:,:,:,3] = segm3"
      ],
      "execution_count": null,
      "outputs": []
    },
    {
      "cell_type": "code",
      "metadata": {
        "id": "F4ZfPm41J4yk"
      },
      "source": [
        "#Use APEER OMETIFF library to read and write multidimensional images\n",
        "!pip install apeer-ometiff-library"
      ],
      "execution_count": null,
      "outputs": []
    },
    {
      "cell_type": "code",
      "metadata": {
        "id": "enE_X9SCJoYA"
      },
      "source": [
        "from apeer_ometiff_library import io"
      ],
      "execution_count": null,
      "outputs": []
    },
    {
      "cell_type": "code",
      "metadata": {
        "id": "bj0QC8OWINAD"
      },
      "source": [
        "# Expand image array to 5D of order (T, Z, C, X, Y)\n",
        "# This is the convention for OMETIFF format as written by APEER library\n",
        "final = np.expand_dims(final, axis=0)\n",
        "final=np.swapaxes(final, 2, 4)\n",
        "\n",
        "final = final.astype(np.int8)\n",
        "\n"
      ],
      "execution_count": null,
      "outputs": []
    },
    {
      "cell_type": "code",
      "metadata": {
        "id": "StgpqkJbIa2F"
      },
      "source": [
        "print(\"Shape of the segmented volume is: T, Z, C, X, Y \", final.shape)\n",
        "print(final.dtype)\n"
      ],
      "execution_count": null,
      "outputs": []
    },
    {
      "cell_type": "code",
      "metadata": {
        "id": "oT2L6880WY1k"
      },
      "source": [
        "# Write dataset as multi-dimensional OMETIFF *image*\n",
        "io.write_ometiff(\"/content/drive/MyDrive/Colab Notebooks/data/sandstone_3d/all_images/segmented_multi_channel.ome.tiff\", final)"
      ],
      "execution_count": null,
      "outputs": []
    }
  ]
}