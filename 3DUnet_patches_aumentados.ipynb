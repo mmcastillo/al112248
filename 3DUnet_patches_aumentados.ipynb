{
  "nbformat": 4,
  "nbformat_minor": 0,
  "metadata": {
    "colab": {
      "provenance": [],
      "authorship_tag": "ABX9TyPWx59dDA4Z+yrm8D6Zrehj",
      "include_colab_link": true
    },
    "kernelspec": {
      "name": "python3",
      "display_name": "Python 3"
    },
    "language_info": {
      "name": "python"
    }
  },
  "cells": [
    {
      "cell_type": "markdown",
      "metadata": {
        "id": "view-in-github",
        "colab_type": "text"
      },
      "source": [
        "<a href=\"https://colab.research.google.com/github/mmcastillo/al112248/blob/main/3DUnet_patches_aumentados.ipynb\" target=\"_parent\"><img src=\"https://colab.research.google.com/assets/colab-badge.svg\" alt=\"Open In Colab\"/></a>"
      ]
    },
    {
      "cell_type": "code",
      "execution_count": 38,
      "metadata": {
        "colab": {
          "base_uri": "https://localhost:8080/"
        },
        "id": "he1raG8TN9jT",
        "outputId": "182b6427-9a23-445a-caae-c1d481f85bde"
      },
      "outputs": [
        {
          "output_type": "stream",
          "name": "stdout",
          "text": [
            "Looking in indexes: https://pypi.org/simple, https://us-python.pkg.dev/colab-wheels/public/simple/\n",
            "Requirement already satisfied: natsort in /usr/local/lib/python3.7/dist-packages (5.5.0)\n"
          ]
        }
      ],
      "source": [
        "pip install natsort"
      ]
    },
    {
      "cell_type": "code",
      "source": [
        "import numpy as np\n",
        "import matplotlib.pyplot as plt\n",
        "import os\n",
        "from google.colab import drive\n",
        "drive.mount('/content/drive/');\n",
        "import tensorflow as tf\n",
        "from tensorflow import keras\n",
        "from keras.models import Model\n",
        "from keras import layers\n",
        "from keras.layers import Input, Conv3D, MaxPooling3D, UpSampling3D, concatenate, Conv3DTranspose, BatchNormalization, Dropout, Lambda\n",
        "from keras.layers import Activation, MaxPool2D, Concatenate\n",
        "from scipy import ndimage\n",
        "import random\n",
        "import natsort\n",
        "import glob"
      ],
      "metadata": {
        "colab": {
          "base_uri": "https://localhost:8080/"
        },
        "id": "VRIWbDUTQFTZ",
        "outputId": "4d6e17ea-c69c-4253-a1e0-3ff509905f6f"
      },
      "execution_count": 39,
      "outputs": [
        {
          "output_type": "stream",
          "name": "stdout",
          "text": [
            "Drive already mounted at /content/drive/; to attempt to forcibly remount, call drive.mount(\"/content/drive/\", force_remount=True).\n"
          ]
        }
      ]
    },
    {
      "cell_type": "code",
      "source": [
        "train_img_dir = '/content/drive/MyDrive/DOCTORADO/python/datos_para_entrenar_modelos/modelo_1.1/train/imgs/';\n",
        "train_mask_dir = '/content/drive/MyDrive/DOCTORADO/python/datos_para_entrenar_modelos/modelo_1.1/train/masks/';\n",
        "train_img_list = os.listdir(train_img_dir)\n",
        "train_img_list = natsort.natsorted(train_img_list)\n",
        "train_mask_list = os.listdir(train_mask_dir)\n",
        "train_mask_list = natsort.natsorted(train_mask_list)\n",
        "\n",
        "val_img_dir = '/content/drive/MyDrive/DOCTORADO/python/datos_para_entrenar_modelos/modelo_1.1/val/imgs/';\n",
        "val_mask_dir = '/content/drive/MyDrive/DOCTORADO/python/datos_para_entrenar_modelos/modelo_1.1/val/masks/';\n",
        "val_img_list = os.listdir(val_img_dir)\n",
        "val_img_list = natsort.natsorted(val_img_list)\n",
        "val_mask_list = os.listdir(val_mask_dir)\n",
        "val_mask_list = natsort.natsorted(val_mask_list)"
      ],
      "metadata": {
        "id": "MruxLoBYQqFh"
      },
      "execution_count": 40,
      "outputs": []
    },
    {
      "cell_type": "code",
      "source": [
        "def load_img(img_dir, img_list):\n",
        "    images=[]\n",
        "    for i, image_name in enumerate(img_list):    \n",
        "        if (image_name.split('.')[1] == 'npy'):\n",
        "            \n",
        "            image = np.load(img_dir+image_name)\n",
        "                      \n",
        "            images.append(image)\n",
        "    images = np.array(images)\n",
        "    \n",
        "    return(images)"
      ],
      "metadata": {
        "id": "bTAaIf_5QPqC"
      },
      "execution_count": 41,
      "outputs": []
    },
    {
      "cell_type": "code",
      "source": [
        "#imageloader con batch variable ya que cada paciente cuenta con un número \n",
        "#distinto de patches negativos. se extraen 50 negativos y 50 positivos generados\n",
        "#con data augmentation \n",
        "\n",
        "def imageLoader(img_dir, img_list, mask_dir, mask_list):\n",
        "\n",
        "    L = len(img_list)\n",
        "\n",
        "    #keras needs the generator infinite, so we will use while true  \n",
        "    while True:\n",
        "\n",
        "        temp=[]\n",
        "        for i in range(len(img_list)):\n",
        "          if img_list[i].split('_')[0]=='2':\n",
        "            temp.append(img_list[i])\n",
        "          batch_size = len(temp)\n",
        "\n",
        "        batch_start = 0\n",
        "        batch_end = batch_size\n",
        "        paciente = 2\n",
        "\n",
        "        while batch_start < L:\n",
        "            limit = min(batch_end, L)\n",
        "            \n",
        "            #se extrae lista de archivos de cada paciente\n",
        "            temp=[]\n",
        "            for i in range(len(img_list)):\n",
        "              if img_list[i].split('_')[0]==str(paciente):\n",
        "                temp.append(img_list[i])\n",
        "                batch_size = len(temp)\n",
        "            \n",
        "            list_temp=[]\n",
        "            for i in range(50):\n",
        "              inx = random.randint(0,len(temp)-1)\n",
        "              list_temp.append(temp[inx])\n",
        "\n",
        "            X = load_img(img_dir, list_temp)\n",
        "            Y = load_img(mask_dir, list_temp)\n",
        "\n",
        "            X = X.astype(np.float32)  \n",
        "            Y = Y.astype(np.float32)\n",
        "\n",
        "            Z = list_temp\n",
        "\n",
        "            yield (X,Y,Z) #a tuple with two numpy arrays with batch_size samples\n",
        "           \n",
        "            paciente += 1\n",
        "            batch_start += batch_size   \n",
        "            batch_end += batch_size"
      ],
      "metadata": {
        "id": "Ohe-WylkQSDG"
      },
      "execution_count": 56,
      "outputs": []
    },
    {
      "cell_type": "code",
      "source": [
        "for paciente in range(2,11):\n",
        "  temp=[]\n",
        "  for i in range(len(train_img_list)):\n",
        "    if train_img_list[i].split('_')[0]==str(paciente):\n",
        "      temp.append(train_img_list[i])\n",
        "  #print(len(temp))\n",
        "\n",
        "  for i in range(5):\n",
        "    inx = random.randint(0,len(temp))\n",
        "    print(temp[inx])"
      ],
      "metadata": {
        "id": "TlijrAWzrCXy"
      },
      "execution_count": null,
      "outputs": []
    },
    {
      "cell_type": "code",
      "source": [
        "\n",
        "train_img_datagen = imageLoader(train_img_dir, train_img_list, \n",
        "                                train_mask_dir, train_mask_list)\n",
        "\n",
        "val_img_datagen = imageLoader(val_img_dir, val_img_list, \n",
        "                                val_mask_dir, val_mask_list)\n"
      ],
      "metadata": {
        "id": "gwccjU68Qr7L"
      },
      "execution_count": 57,
      "outputs": []
    },
    {
      "cell_type": "code",
      "source": [
        "img,mask,Z = train_img_datagen.__next__()\n",
        "print(img.shape)\n",
        "print(mask.shape)\n",
        "print(np.unique(mask))\n",
        "\n",
        "#Encuentra los patches 3D donde las máscaras contienen valores 1 y 0 (donde hay aneurisams)\n",
        "if np.unique(mask).shape[0]  == 2:\n",
        "  for i in range(mask.shape[0]):\n",
        "    if np.unique(mask[i,:,:,:]).shape[0] == 2: \n",
        "      n_patch_aneurisma = i\n",
        "      print(f'En el patch número {n_patch_aneurisma+1} se encuentra el aneurisma')\n",
        "      n_imagenes_aneurismas=[]\n",
        "      for j in range(mask.shape[1]):\n",
        "        if np.unique(mask[n_patch_aneurisma,j,:,:]).shape[0] == 2:\n",
        "          print(f'En las imagenes {j+1}')"
      ],
      "metadata": {
        "colab": {
          "base_uri": "https://localhost:8080/"
        },
        "id": "5KHHIyA0zdAl",
        "outputId": "8faa1af2-b0d6-4ba6-86ea-2890300a3157"
      },
      "execution_count": 86,
      "outputs": [
        {
          "output_type": "stream",
          "name": "stdout",
          "text": [
            "(50, 64, 64, 64, 1)\n",
            "(50, 64, 64, 64, 1)\n",
            "[0.]\n"
          ]
        }
      ]
    },
    {
      "cell_type": "code",
      "source": [
        "print(Z)"
      ],
      "metadata": {
        "colab": {
          "base_uri": "https://localhost:8080/"
        },
        "id": "yfeOCJppqSg1",
        "outputId": "3df00d11-466a-4166-b3dc-8ea806135910"
      },
      "execution_count": 87,
      "outputs": [
        {
          "output_type": "stream",
          "name": "stdout",
          "text": [
            "['2_A_99.npy', '2_A_76.npy', '2_A_95.npy', '2_A_64.npy', '2_A_114.npy', '2_A_17.npy', '2_A_116.npy', '2_A_47.npy', '2_A_49.npy', '2_A_76.npy', '2_A_109.npy', '2_A_19.npy', '2_A_16.npy', '2_A_50.npy', '2_A_117.npy', '2_A_117.npy', '2_A_128.npy', '2_A_110.npy', '2_A_99.npy', '2_A_114.npy', '2_A_106.npy', '2_A_105.npy', '2_A_128.npy', '2_A_100.npy', '2_A_75.npy', '2_A_95.npy', '2_A_53.npy', '2_A_19.npy', '2_A_101.npy', '2_A_29.npy', '2_A_4.npy', '2_A_45.npy', '2_A_32.npy', '2_A_14.npy', '2_A_42.npy', '2_A_74.npy', '2_A_73.npy', '2_A_85.npy', '2_A_36.npy', '2_A_13.npy', '2_A_125.npy', '2_A_74.npy', '2_A_107.npy', '2_A_2.npy', '2_A_91.npy', '2_A_68.npy', '2_A_59.npy', '2_A_22.npy', '2_A_45.npy', '2_A_57.npy']\n"
          ]
        }
      ]
    },
    {
      "cell_type": "code",
      "source": [
        "len(Z)"
      ],
      "metadata": {
        "colab": {
          "base_uri": "https://localhost:8080/"
        },
        "id": "PdERAZmdqTJT",
        "outputId": "3f976fe9-a741-4340-8ed2-168e43d0c6a8"
      },
      "execution_count": 88,
      "outputs": [
        {
          "output_type": "execute_result",
          "data": {
            "text/plain": [
              "50"
            ]
          },
          "metadata": {},
          "execution_count": 88
        }
      ]
    }
  ]
}