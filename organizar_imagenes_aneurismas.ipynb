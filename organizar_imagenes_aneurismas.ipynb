{
  "nbformat": 4,
  "nbformat_minor": 0,
  "metadata": {
    "colab": {
      "provenance": [],
      "collapsed_sections": [],
      "authorship_tag": "ABX9TyO1GYuzB76+UQmTdwsFkr9R",
      "include_colab_link": true
    },
    "kernelspec": {
      "name": "python3",
      "display_name": "Python 3"
    },
    "language_info": {
      "name": "python"
    }
  },
  "cells": [
    {
      "cell_type": "markdown",
      "metadata": {
        "id": "view-in-github",
        "colab_type": "text"
      },
      "source": [
        "<a href=\"https://colab.research.google.com/github/mmcastillo/al112248/blob/main/organizar_imagenes_aneurismas.ipynb\" target=\"_parent\"><img src=\"https://colab.research.google.com/assets/colab-badge.svg\" alt=\"Open In Colab\"/></a>"
      ]
    },
    {
      "cell_type": "code",
      "execution_count": 30,
      "metadata": {
        "id": "XkidcnwpFbJL"
      },
      "outputs": [],
      "source": [
        "#------------------------------------------------------------------------------------------------------\n",
        "#--------------------Código para organizar dataset en carpetas train/val/test--------------------------\n",
        "#------------------------------------------------------------------------------------------------------\n",
        "#Necesario para llamar por lotes el conjunto de entrenamiento \n",
        "#1. Se cargan los volúmenes de los pacientes caso por caso \n",
        "#2. Se reescalan y normalizan para obtener volúmenes de 512x512x128 \n",
        "#(originalmente hay de 560x560x140 y de 512x512x100 o 1024x1024x160)\n",
        "#3. Se cambia el tipo de dato de float64 a float32 para las imágenes y a uint8 para las máscaras\n",
        "#4. Guardo los volúmenes en una carpeta como archivos .npy\n",
        "#5. Se manda llamar la carpeta y se sortean en nuevas carpetas train/val/test "
      ]
    },
    {
      "cell_type": "code",
      "source": [
        "#pip install split-folders"
      ],
      "metadata": {
        "id": "Hs_34XdpYWIz"
      },
      "execution_count": 31,
      "outputs": []
    },
    {
      "cell_type": "code",
      "source": [
        "pip install pypatchify"
      ],
      "metadata": {
        "colab": {
          "base_uri": "https://localhost:8080/"
        },
        "id": "t_cHutdp_mo6",
        "outputId": "92647388-f7c6-4b17-e2f9-e02c9991dd66"
      },
      "execution_count": 32,
      "outputs": [
        {
          "output_type": "stream",
          "name": "stdout",
          "text": [
            "Looking in indexes: https://pypi.org/simple, https://us-python.pkg.dev/colab-wheels/public/simple/\n",
            "Requirement already satisfied: pypatchify in /usr/local/lib/python3.7/dist-packages (0.1.4)\n"
          ]
        }
      ]
    },
    {
      "cell_type": "code",
      "source": [
        "#import splitfolders\n",
        "from google.colab import drive\n",
        "drive.mount('/content/drive/');\n",
        "import nibabel as nib\n",
        "from scipy import ndimage\n",
        "import numpy as np\n",
        "from sklearn.preprocessing import MinMaxScaler\n",
        "import glob\n",
        "import pypatchify"
      ],
      "metadata": {
        "id": "cxkmsHFsGPcD",
        "colab": {
          "base_uri": "https://localhost:8080/"
        },
        "outputId": "8489ac33-c6fa-4ea6-a196-934023457f81"
      },
      "execution_count": 45,
      "outputs": [
        {
          "output_type": "stream",
          "name": "stdout",
          "text": [
            "Drive already mounted at /content/drive/; to attempt to forcibly remount, call drive.mount(\"/content/drive/\", force_remount=True).\n"
          ]
        }
      ]
    },
    {
      "cell_type": "code",
      "source": [
        "def resize_volume(img):\n",
        "    # Set the desired depth\n",
        "    desired_depth = 128\n",
        "    desired_width = 512\n",
        "    desired_height = 512\n",
        "    # Get current depth\n",
        "    current_depth = img.shape[-1]\n",
        "    current_width = img.shape[0]\n",
        "    current_height = img.shape[1]\n",
        "    # Compute depth factor\n",
        "    depth = current_depth / desired_depth\n",
        "    width = current_width / desired_width\n",
        "    height = current_height / desired_height\n",
        "    depth_factor = 1 / depth\n",
        "    width_factor = 1 / width\n",
        "    height_factor = 1 / height\n",
        "    # Resize across z-axis\n",
        "    img = ndimage.zoom(img, (width_factor, height_factor, depth_factor), order=1)\n",
        "    return img"
      ],
      "metadata": {
        "id": "4cHRFF_lZl7H"
      },
      "execution_count": 34,
      "outputs": []
    },
    {
      "cell_type": "code",
      "source": [
        "def normalizar(x):\n",
        "  mn, mx = x.min(), x.max()\n",
        "  x_scaled = (x - mn) / (mx - mn)\n",
        "  return x_scaled"
      ],
      "metadata": {
        "id": "9ja0rBl97--J"
      },
      "execution_count": 35,
      "outputs": []
    },
    {
      "cell_type": "code",
      "source": [
        "#Carga las imágenes y máscaras nifti, las reescala a 512x512x128 y normaliza y las guarda en dos carpetas (imgs, masks) \n",
        "ruta_TOF = '/content/drive/MyDrive/DOCTORADO/python/adam_subset/train_images/';\n",
        "lista_archivos_TOF = sorted(glob.glob(ruta_TOF+'*.nii.gz'))\n",
        "ruta_mascaras = '/content/drive/MyDrive/DOCTORADO/python/adam_subset/train_tags/'; \n",
        "lista_archivos_mascaras = sorted(glob.glob(ruta_mascaras+'*.nii.gz'))\n",
        "\n",
        "#10 aneurismas \n",
        "\n",
        "ruta_destino_imgs = '/content/drive/MyDrive/DOCTORADO/python/ADAM_10A_npy/train/imgs/';\n",
        "ruta_destino_mascs = '/content/drive/MyDrive/DOCTORADO/python/ADAM_10A_npy/train/masks/';\n",
        "\n",
        "ruta_destino_val_imgs = '/content/drive/MyDrive/DOCTORADO/python/ADAM_10A_npy/val/imgs/';\n",
        "ruta_destino_val_mascs = '/content/drive/MyDrive/DOCTORADO/python/ADAM_10A_npy/val/masks/';"
      ],
      "metadata": {
        "id": "mXRsVO-ugTvT"
      },
      "execution_count": 41,
      "outputs": []
    },
    {
      "cell_type": "code",
      "source": [
        "n=0\n",
        "for i in range(len(lista_archivos_TOF)):\n",
        "  if lista_archivos_TOF[i][-8:]=='B.nii.gz':\n",
        "    data = nib.load(lista_archivos_TOF[i])\n",
        "    temp = data.get_fdata()\n",
        "    temp = resize_volume(temp)\n",
        "    #temp = normalizar(temp)\n",
        "    #temp = temp.astype(np.float16)\n",
        "    temp = np.expand_dims(temp, axis=3)\n",
        "    temp = np.expand_dims(temp, axis=0)    \n",
        "    temp = pypatchify.patchify_to_batches(temp, (64 ,64, 64, 1), batch_dim=0)\n",
        "    n = n+1\n",
        "    for j in range(temp.shape[0]):\n",
        "      if n==1:\n",
        "        np.save(ruta_destino_val_imgs + str(n) + 'A'+ str(j+1) + '.npy', temp[j,:,:,:,:])\n",
        "      else:\n",
        "        np.save(ruta_destino_imgs + str(n) + 'A'+ str(j+1) + '.npy', temp[j,:,:,:,:])"
      ],
      "metadata": {
        "id": "NYiR9bGwG0mm"
      },
      "execution_count": 46,
      "outputs": []
    },
    {
      "cell_type": "code",
      "source": [
        "n=0\n",
        "for i in range(len(lista_archivos_mascaras)):\n",
        "  if lista_archivos_mascaras[i][-8:]=='B.nii.gz':\n",
        "    data = nib.load(lista_archivos_mascaras[i])\n",
        "    tempm = data.get_fdata()\n",
        "    tempm = resize_volume(tempm)\n",
        "    tempm = np.where(tempm>0,1,0)\n",
        "    #tempm = tempm.astype(np.float16)\n",
        "    tempm = np.expand_dims(tempm, axis=3)\n",
        "    tempm = np.expand_dims(tempm, axis=0)\n",
        "    tempm = pypatchify.patchify_to_batches(tempm, (64 ,64, 64, 1), batch_dim=0)\n",
        "    n = n+1\n",
        "    for j in range(tempm.shape[0]):\n",
        "      if n==1:\n",
        "        np.save(ruta_destino_val_mascs + str(n) + 'A' + str(j+1) + '.npy', tempm[j,:,:,:,:])\n",
        "      else:\n",
        "        np.save(ruta_destino_mascs + str(n) + 'A' + str(j+1) + '.npy', tempm[j,:,:,:,:])"
      ],
      "metadata": {
        "id": "S1w20s2UgP2W"
      },
      "execution_count": 47,
      "outputs": []
    },
    {
      "cell_type": "code",
      "source": [
        "#Sortea las imágenes y las máscaras en carpetas train/validation/test especificando el porcentaje de cada conjunto\n",
        "#la semilla se usa para hacerlo replicable    \n",
        "#input_folder = '/content/drive/MyDrive/DOCTORADO/python/ADAM_10C_10A_npy/'\n",
        "#splitfolders.ratio(input_folder, output='/content/drive/MyDrive/DOCTORADO/python/ADAM_10C_10A_TVT_npy', seed=1337, ratio=(.8, .1, .1), move=True ,group_prefix=3) \n"
      ],
      "metadata": {
        "id": "Ks18MZoJGXMm"
      },
      "execution_count": null,
      "outputs": []
    }
  ]
}