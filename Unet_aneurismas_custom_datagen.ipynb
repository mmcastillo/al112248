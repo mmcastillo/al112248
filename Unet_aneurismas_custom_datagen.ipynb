{
  "cells": [
    {
      "cell_type": "markdown",
      "metadata": {
        "id": "view-in-github",
        "colab_type": "text"
      },
      "source": [
        "<a href=\"https://colab.research.google.com/github/mmcastillo/al112248/blob/main/Unet_aneurismas_custom_datagen.ipynb\" target=\"_parent\"><img src=\"https://colab.research.google.com/assets/colab-badge.svg\" alt=\"Open In Colab\"/></a>"
      ]
    },
    {
      "cell_type": "code",
      "source": [
        "pip install volumentations-3D"
      ],
      "metadata": {
        "id": "v7jBJ0U2ePSp",
        "colab": {
          "base_uri": "https://localhost:8080/"
        },
        "outputId": "99884fd5-bb0b-4b21-b43a-f31dd7285365"
      },
      "execution_count": 16,
      "outputs": [
        {
          "output_type": "stream",
          "name": "stdout",
          "text": [
            "Looking in indexes: https://pypi.org/simple, https://us-python.pkg.dev/colab-wheels/public/simple/\n",
            "Requirement already satisfied: volumentations-3D in /usr/local/lib/python3.7/dist-packages (1.0.4)\n",
            "Requirement already satisfied: scikit-image in /usr/local/lib/python3.7/dist-packages (from volumentations-3D) (0.18.3)\n",
            "Requirement already satisfied: opencv-python in /usr/local/lib/python3.7/dist-packages (from volumentations-3D) (4.6.0.66)\n",
            "Requirement already satisfied: scipy in /usr/local/lib/python3.7/dist-packages (from volumentations-3D) (1.7.3)\n",
            "Requirement already satisfied: numpy in /usr/local/lib/python3.7/dist-packages (from volumentations-3D) (1.21.6)\n",
            "Requirement already satisfied: matplotlib!=3.0.0,>=2.0.0 in /usr/local/lib/python3.7/dist-packages (from scikit-image->volumentations-3D) (3.2.2)\n",
            "Requirement already satisfied: networkx>=2.0 in /usr/local/lib/python3.7/dist-packages (from scikit-image->volumentations-3D) (2.6.3)\n",
            "Requirement already satisfied: imageio>=2.3.0 in /usr/local/lib/python3.7/dist-packages (from scikit-image->volumentations-3D) (2.9.0)\n",
            "Requirement already satisfied: tifffile>=2019.7.26 in /usr/local/lib/python3.7/dist-packages (from scikit-image->volumentations-3D) (2021.11.2)\n",
            "Requirement already satisfied: pillow!=7.1.0,!=7.1.1,>=4.3.0 in /usr/local/lib/python3.7/dist-packages (from scikit-image->volumentations-3D) (7.1.2)\n",
            "Requirement already satisfied: PyWavelets>=1.1.1 in /usr/local/lib/python3.7/dist-packages (from scikit-image->volumentations-3D) (1.3.0)\n",
            "Requirement already satisfied: kiwisolver>=1.0.1 in /usr/local/lib/python3.7/dist-packages (from matplotlib!=3.0.0,>=2.0.0->scikit-image->volumentations-3D) (1.4.4)\n",
            "Requirement already satisfied: pyparsing!=2.0.4,!=2.1.2,!=2.1.6,>=2.0.1 in /usr/local/lib/python3.7/dist-packages (from matplotlib!=3.0.0,>=2.0.0->scikit-image->volumentations-3D) (3.0.9)\n",
            "Requirement already satisfied: cycler>=0.10 in /usr/local/lib/python3.7/dist-packages (from matplotlib!=3.0.0,>=2.0.0->scikit-image->volumentations-3D) (0.11.0)\n",
            "Requirement already satisfied: python-dateutil>=2.1 in /usr/local/lib/python3.7/dist-packages (from matplotlib!=3.0.0,>=2.0.0->scikit-image->volumentations-3D) (2.8.2)\n",
            "Requirement already satisfied: typing-extensions in /usr/local/lib/python3.7/dist-packages (from kiwisolver>=1.0.1->matplotlib!=3.0.0,>=2.0.0->scikit-image->volumentations-3D) (4.1.1)\n",
            "Requirement already satisfied: six>=1.5 in /usr/local/lib/python3.7/dist-packages (from python-dateutil>=2.1->matplotlib!=3.0.0,>=2.0.0->scikit-image->volumentations-3D) (1.15.0)\n"
          ]
        }
      ]
    },
    {
      "cell_type": "code",
      "source": [
        "pip install natsort"
      ],
      "metadata": {
        "colab": {
          "base_uri": "https://localhost:8080/"
        },
        "id": "CyClyHzLOPdU",
        "outputId": "2f06a3df-3256-48b8-cabd-b4160a564155"
      },
      "execution_count": 17,
      "outputs": [
        {
          "output_type": "stream",
          "name": "stdout",
          "text": [
            "Looking in indexes: https://pypi.org/simple, https://us-python.pkg.dev/colab-wheels/public/simple/\n",
            "Requirement already satisfied: natsort in /usr/local/lib/python3.7/dist-packages (5.5.0)\n"
          ]
        }
      ]
    },
    {
      "cell_type": "code",
      "source": [
        "pip install pypatchify"
      ],
      "metadata": {
        "colab": {
          "base_uri": "https://localhost:8080/"
        },
        "id": "V73bQ809UAjs",
        "outputId": "1a0714cf-419d-4fbf-e0b2-1aa0fee2dd3f"
      },
      "execution_count": 18,
      "outputs": [
        {
          "output_type": "stream",
          "name": "stdout",
          "text": [
            "Looking in indexes: https://pypi.org/simple, https://us-python.pkg.dev/colab-wheels/public/simple/\n",
            "Requirement already satisfied: pypatchify in /usr/local/lib/python3.7/dist-packages (0.1.4)\n"
          ]
        }
      ]
    },
    {
      "cell_type": "code",
      "execution_count": 19,
      "metadata": {
        "colab": {
          "base_uri": "https://localhost:8080/"
        },
        "id": "GieFQU-yp91T",
        "outputId": "2fe9882e-3a2b-4cb3-dc76-831bee1125ad"
      },
      "outputs": [
        {
          "output_type": "stream",
          "name": "stdout",
          "text": [
            "Drive already mounted at /content/drive/; to attempt to forcibly remount, call drive.mount(\"/content/drive/\", force_remount=True).\n"
          ]
        }
      ],
      "source": [
        "import numpy as np\n",
        "import matplotlib.pyplot as plt\n",
        "import os\n",
        "from google.colab import drive\n",
        "drive.mount('/content/drive/');\n",
        "import tensorflow as tf\n",
        "from tensorflow import keras\n",
        "from keras.models import Model\n",
        "from keras import layers\n",
        "from keras.layers import Input, Conv3D, MaxPooling3D, UpSampling3D, concatenate, Conv3DTranspose, BatchNormalization, Dropout, Lambda\n",
        "from keras.layers import Activation, MaxPool2D, Concatenate\n",
        "from scipy import ndimage\n",
        "from sklearn.model_selection import train_test_split\n",
        "from volumentations import *\n",
        "import random\n",
        "import os\n",
        "import natsort\n",
        "import glob\n",
        "import pypatchify"
      ]
    },
    {
      "cell_type": "code",
      "execution_count": 20,
      "metadata": {
        "id": "aRbQnF1MM3M_"
      },
      "outputs": [],
      "source": [
        "def load_img(img_dir, img_list):\n",
        "    images=[]\n",
        "    for i, image_name in enumerate(img_list):    \n",
        "        if (image_name.split('.')[1] == 'npy'):\n",
        "            \n",
        "            image = np.load(img_dir+image_name)\n",
        "                      \n",
        "            images.append(image)\n",
        "    images = np.array(images)\n",
        "    \n",
        "    return(images)"
      ]
    },
    {
      "cell_type": "code",
      "execution_count": 21,
      "metadata": {
        "id": "U8qqs4WJwYwE"
      },
      "outputs": [],
      "source": [
        "def imageLoader(img_dir, img_list, mask_dir, mask_list, batch_size):\n",
        "\n",
        "    L = len(img_list)\n",
        "\n",
        "    #keras needs the generator infinite, so we will use while true  \n",
        "    while True:\n",
        "\n",
        "        batch_start = 0\n",
        "        batch_end = batch_size\n",
        "\n",
        "        while batch_start < L:\n",
        "            limit = min(batch_end, L)\n",
        "                       \n",
        "            X = load_img(img_dir, img_list[batch_start:limit])\n",
        "            Y = load_img(mask_dir, mask_list[batch_start:limit])\n",
        "\n",
        "            X = X.astype(np.float32)  \n",
        "            Y = Y.astype(np.float32)\n",
        "\n",
        "            Z = img_list[batch_start:limit]\n",
        "\n",
        "            yield (X,Y,Z) #a tuple with two numpy arrays with batch_size samples\n",
        "           \n",
        "            batch_start += batch_size   \n",
        "            batch_end += batch_size"
      ]
    },
    {
      "cell_type": "code",
      "execution_count": 22,
      "metadata": {
        "id": "nnJlIDfV5nUH"
      },
      "outputs": [],
      "source": [
        "train_img_dir = '/content/drive/MyDrive/DOCTORADO/python/ADAM_10A_npy/train/imgs/';\n",
        "train_mask_dir = '/content/drive/MyDrive/DOCTORADO/python/ADAM_10A_npy/train/masks/';\n",
        "train_img_list = os.listdir(train_img_dir)\n",
        "train_img_list = natsort.natsorted(train_img_list)\n",
        "train_mask_list = os.listdir(train_mask_dir)\n",
        "train_mask_list = natsort.natsorted(train_mask_list)\n",
        "\n",
        "val_img_dir = '/content/drive/MyDrive/DOCTORADO/python/ADAM_10A_npy/val/imgs/';\n",
        "val_mask_dir = '/content/drive/MyDrive/DOCTORADO/python/ADAM_10A_npy/val/masks/';\n",
        "val_img_list = os.listdir(val_img_dir)\n",
        "val_img_list = natsort.natsorted(val_img_list)\n",
        "val_mask_list = os.listdir(val_mask_dir)\n",
        "val_mask_list = natsort.natsorted(val_mask_list)"
      ]
    },
    {
      "cell_type": "code",
      "execution_count": 23,
      "metadata": {
        "id": "OxMZEJJB6GYX"
      },
      "outputs": [],
      "source": [
        "batch_size = 128\n",
        "\n",
        "train_img_datagen = imageLoader(train_img_dir, train_img_list, \n",
        "                                train_mask_dir, train_mask_list, batch_size)\n",
        "\n",
        "val_img_datagen = imageLoader(val_img_dir, val_img_list, \n",
        "                                val_mask_dir, val_mask_list, batch_size)\n"
      ]
    },
    {
      "cell_type": "code",
      "execution_count": 24,
      "metadata": {
        "colab": {
          "base_uri": "https://localhost:8080/"
        },
        "id": "yLohaBVxz9wt",
        "outputId": "4258634a-96bb-4a93-d335-4e16ae2f6207"
      },
      "outputs": [
        {
          "output_type": "stream",
          "name": "stdout",
          "text": [
            "(128, 64, 64, 64, 1)\n",
            "(128, 64, 64, 64, 1)\n",
            "[0. 1.]\n",
            "En el patch número 71 se encuentra el aneurisma\n",
            "En las imagenes 21\n",
            "En las imagenes 22\n",
            "En las imagenes 23\n",
            "En las imagenes 24\n",
            "En las imagenes 25\n",
            "En las imagenes 26\n",
            "En las imagenes 27\n",
            "En las imagenes 28\n",
            "En las imagenes 29\n",
            "En las imagenes 30\n",
            "En las imagenes 31\n",
            "En las imagenes 32\n",
            "En las imagenes 33\n",
            "En las imagenes 34\n",
            "En las imagenes 35\n",
            "En las imagenes 36\n"
          ]
        }
      ],
      "source": [
        "img,mask,Z = train_img_datagen.__next__()\n",
        "print(img.shape)\n",
        "print(mask.shape)\n",
        "print(np.unique(mask))\n",
        "\n",
        "#Encuentra los patches 3D donde las máscaras contienen valores 1 y 0 (donde hay aneurisams)\n",
        "if np.unique(mask).shape[0]  == 2:\n",
        "  for i in range(mask.shape[0]):\n",
        "    if np.unique(mask[i,:,:,:]).shape[0] == 2: \n",
        "      n_patch_aneurisma = i\n",
        "      print(f'En el patch número {n_patch_aneurisma+1} se encuentra el aneurisma')\n",
        "      n_imagenes_aneurismas=[]\n",
        "      for j in range(mask.shape[1]):\n",
        "        if np.unique(mask[n_patch_aneurisma,j,:,:]).shape[0] == 2:\n",
        "          print(f'En las imagenes {j+1}')"
      ]
    },
    {
      "cell_type": "code",
      "source": [
        "print(Z)"
      ],
      "metadata": {
        "colab": {
          "base_uri": "https://localhost:8080/"
        },
        "id": "57ESvFu5O9O0",
        "outputId": "58704d46-bbef-4cb9-89ae-34571aec76d3"
      },
      "execution_count": 25,
      "outputs": [
        {
          "output_type": "stream",
          "name": "stdout",
          "text": [
            "['2A1.npy', '2A2.npy', '2A3.npy', '2A4.npy', '2A5.npy', '2A6.npy', '2A7.npy', '2A8.npy', '2A9.npy', '2A10.npy', '2A11.npy', '2A12.npy', '2A13.npy', '2A14.npy', '2A15.npy', '2A16.npy', '2A17.npy', '2A18.npy', '2A19.npy', '2A20.npy', '2A21.npy', '2A22.npy', '2A23.npy', '2A24.npy', '2A25.npy', '2A26.npy', '2A27.npy', '2A28.npy', '2A29.npy', '2A30.npy', '2A31.npy', '2A32.npy', '2A33.npy', '2A34.npy', '2A35.npy', '2A36.npy', '2A37.npy', '2A38.npy', '2A39.npy', '2A40.npy', '2A41.npy', '2A42.npy', '2A43.npy', '2A44.npy', '2A45.npy', '2A46.npy', '2A47.npy', '2A48.npy', '2A49.npy', '2A50.npy', '2A51.npy', '2A52.npy', '2A53.npy', '2A54.npy', '2A55.npy', '2A56.npy', '2A57.npy', '2A58.npy', '2A59.npy', '2A60.npy', '2A61.npy', '2A62.npy', '2A63.npy', '2A64.npy', '2A65.npy', '2A66.npy', '2A67.npy', '2A68.npy', '2A69.npy', '2A70.npy', '2A71.npy', '2A72.npy', '2A73.npy', '2A74.npy', '2A75.npy', '2A76.npy', '2A77.npy', '2A78.npy', '2A79.npy', '2A80.npy', '2A81.npy', '2A82.npy', '2A83.npy', '2A84.npy', '2A85.npy', '2A86.npy', '2A87.npy', '2A88.npy', '2A89.npy', '2A90.npy', '2A91.npy', '2A92.npy', '2A93.npy', '2A94.npy', '2A95.npy', '2A96.npy', '2A97.npy', '2A98.npy', '2A99.npy', '2A100.npy', '2A101.npy', '2A102.npy', '2A103.npy', '2A104.npy', '2A105.npy', '2A106.npy', '2A107.npy', '2A108.npy', '2A109.npy', '2A110.npy', '2A111.npy', '2A112.npy', '2A113.npy', '2A114.npy', '2A115.npy', '2A116.npy', '2A117.npy', '2A118.npy', '2A119.npy', '2A120.npy', '2A121.npy', '2A122.npy', '2A123.npy', '2A124.npy', '2A125.npy', '2A126.npy', '2A127.npy', '2A128.npy']\n"
          ]
        }
      ]
    },
    {
      "cell_type": "code",
      "source": [
        "images_path='/content/drive/MyDrive/DOCTORADO/python/aneurismas_seleccionados/imgs/' #path to original images\n",
        "masks_path = '/content/drive/MyDrive/DOCTORADO/python/aneurismas_seleccionados/masks/' #path to original masks\n",
        "img_augmented_path='/content/drive/MyDrive/DOCTORADO/python/aug/imgs/' # path to store augmented images\n",
        "msk_augmented_path='/content/drive/MyDrive/DOCTORADO/python/aug/masks/' # path to store augmented masks\n",
        "images=[] # to store paths of images from folder\n",
        "masks=[]\n",
        "\n",
        "for im in natsort.natsorted(os.listdir(images_path)):  # read image name from folder and append its path into \"images\" array     \n",
        "    images.append(os.path.join(images_path,im))\n",
        "\n",
        "for msk in natsort.natsorted(os.listdir(masks_path)):  # read image name from folder and append its path into \"images\" array     \n",
        "    masks.append(os.path.join(masks_path,msk))\n",
        "\n",
        "def get_augmentation(patch_size):\n",
        "    return Compose([\n",
        "        Rotate((-15, 15), (0, 0), (0, 0), p=0.5),\n",
        "        ElasticTransform((0, 0.25), interpolation=2, p=0.1),\n",
        "        Flip(0, p=0.5),\n",
        "        Flip(1, p=0.5),\n",
        "        Flip(2, p=0.5),\n",
        "        RandomRotate90((1, 2), p=0.5),\n",
        "    ], p=1.0)\n",
        "\n",
        "aug = get_augmentation((64, 64, 64))\n",
        "\n",
        "images_to_generate = 50\n",
        "\n",
        "i=1   # variable to iterate till images_to_generate\n",
        "\n",
        "while i<=images_to_generate: \n",
        "    for j in range(8):\n",
        "      number = j \n",
        "      image = images[number]\n",
        "      mask = masks[number]\n",
        "      #print(image, mask)\n",
        "\n",
        "      original_image = np.load(image)\n",
        "      original_mask = np.load(mask)\n",
        "\n",
        "      data = {'image': original_image, 'mask': original_mask}\n",
        "      aug_data = aug(**data)\n",
        "      transformed_image, transformed_mask = aug_data['image'], aug_data['mask']\n",
        "\n",
        "      new_image_path= \"%saug_img_%sA%s.npy\" %(img_augmented_path, number+2, i)\n",
        "      new_mask_path = \"%saug_mask_%sA%s.npy\" %(msk_augmented_path,number+2 , i)\n",
        "      np.save(new_image_path, transformed_image)\n",
        "      np.save(new_mask_path, transformed_mask)\n",
        "    i =i+1"
      ],
      "metadata": {
        "id": "YWupafWkeWzN"
      },
      "execution_count": null,
      "outputs": []
    },
    {
      "cell_type": "code",
      "source": [
        "I = np.load('/content/drive/MyDrive/DOCTORADO/python/aug/imgs/aug_img_2A1.npy')\n",
        "J = np.load('/content/drive/MyDrive/DOCTORADO/python/aug/masks/aug_mask_2A1.npy')\n",
        "\n",
        "plt.subplot(1,2,1)\n",
        "for i in range(64):\n",
        "  plt.subplot(8,8,i+1)\n",
        "  plt.imshow(J[:,:,i,0],cmap='gray')\n",
        "  plt.axis('off')"
      ],
      "metadata": {
        "colab": {
          "base_uri": "https://localhost:8080/",
          "height": 248
        },
        "id": "M7woCKx6kam6",
        "outputId": "8433fae6-6428-4b02-9355-51b26d438b11"
      },
      "execution_count": 67,
      "outputs": [
        {
          "output_type": "display_data",
          "data": {
            "text/plain": [
              "<Figure size 432x288 with 64 Axes>"
            ],
            "image/png": "[encoded data removed]"
          },
          "metadata": {
            "needs_background": "light"
          }
        }
      ]
    },
    {
      "cell_type": "code",
      "source": [
        "I = np.load('/content/drive/MyDrive/DOCTORADO/python/aug/imgs/aug_img_2A2.npy')\n",
        "J = np.load('/content/drive/MyDrive/DOCTORADO/python/aug/masks/aug_mask_2A2.npy')\n",
        "\n",
        "plt.subplot(1,2,1)\n",
        "for i in range(64):\n",
        "  plt.subplot(8,8,i+1)\n",
        "  plt.imshow(J[:,:,i,0],cmap='gray')\n",
        "  plt.axis('off')"
      ],
      "metadata": {
        "colab": {
          "base_uri": "https://localhost:8080/",
          "height": 248
        },
        "id": "0prERVctn89t",
        "outputId": "6cd76fb9-a322-405a-d643-2fa8811b4000"
      },
      "execution_count": 68,
      "outputs": [
        {
          "output_type": "display_data",
          "data": {
            "text/plain": [
              "<Figure size 432x288 with 64 Axes>"
            ],
            "image/png": "[encoded data removed]"
          },
          "metadata": {
            "needs_background": "light"
          }
        }
      ]
    },
    {
      "cell_type": "code",
      "source": [
        "I = np.load('/content/drive/MyDrive/DOCTORADO/python/aug/imgs/aug_img_2A3.npy')\n",
        "J = np.load('/content/drive/MyDrive/DOCTORADO/python/aug/masks/aug_mask_2A3.npy')\n",
        "\n",
        "plt.subplot(1,2,1)\n",
        "for i in range(64):\n",
        "  plt.subplot(8,8,i+1)\n",
        "  plt.imshow(J[:,:,i,0],cmap='gray')\n",
        "  plt.axis('off')"
      ],
      "metadata": {
        "colab": {
          "base_uri": "https://localhost:8080/",
          "height": 248
        },
        "id": "BElH0UFOn9iq",
        "outputId": "dd7460e5-bb00-443e-d32e-6e777e5004e5"
      },
      "execution_count": 69,
      "outputs": [
        {
          "output_type": "display_data",
          "data": {
            "text/plain": [
              "<Figure size 432x288 with 64 Axes>"
            ],
            "image/png": "[encoded data removed]"
          },
          "metadata": {
            "needs_background": "light"
          }
        }
      ]
    },
    {
      "cell_type": "code",
      "source": [
        "print(type(img[0,0,0,0,0]))\n",
        "print(type(mask[0,0,0,0,0]))"
      ],
      "metadata": {
        "colab": {
          "base_uri": "https://localhost:8080/"
        },
        "id": "Q4QoTonKQuTF",
        "outputId": "fd2032a6-13c2-410b-a6c2-60c92a5502e0"
      },
      "execution_count": null,
      "outputs": [
        {
          "output_type": "stream",
          "name": "stdout",
          "text": [
            "<class 'numpy.float32'>\n",
            "<class 'numpy.float32'>\n"
          ]
        }
      ]
    },
    {
      "cell_type": "code",
      "source": [
        "temp = img[0,0,0,0,0]\n",
        "print(temp) \n",
        "temp32 = temp.astype(np.float32)\n",
        "print(temp32) \n",
        "temp16 = temp.astype(np.float16)\n",
        "print(temp16) "
      ],
      "metadata": {
        "colab": {
          "base_uri": "https://localhost:8080/"
        },
        "id": "hpKkfBJKOw9J",
        "outputId": "fc3fd577-af23-4032-a724-a03b72c1867c"
      },
      "execution_count": null,
      "outputs": [
        {
          "output_type": "stream",
          "name": "stdout",
          "text": [
            "74.11547\n",
            "74.11547\n",
            "74.1\n"
          ]
        }
      ]
    },
    {
      "cell_type": "code",
      "execution_count": null,
      "metadata": {
        "id": "bv3JM39CV_tU"
      },
      "outputs": [],
      "source": [
        "def conv_block(input, num_filters):\n",
        "    x = Conv3D(num_filters, 3, padding=\"same\")(input)\n",
        "    x = BatchNormalization()(x)   #Not in the original network. \n",
        "    x = Activation(\"relu\")(x)\n",
        "\n",
        "    x = Conv3D(num_filters, 3, padding=\"same\")(x)\n",
        "    x = BatchNormalization()(x)  #Not in the original network\n",
        "    x = Activation(\"relu\")(x)\n",
        "\n",
        "    return x\n",
        "\n",
        "#Encoder block: Conv block followed by maxpooling\n",
        "\n",
        "\n",
        "def encoder_block(input, num_filters):\n",
        "    x = conv_block(input, num_filters)\n",
        "    p = MaxPooling3D((2, 2, 2))(x)\n",
        "    return x, p   \n",
        "\n",
        "#Decoder block\n",
        "#skip features gets input from encoder for concatenation\n",
        "\n",
        "def decoder_block(input, skip_features, num_filters):\n",
        "    x = Conv3DTranspose(num_filters, (2, 2, 2), strides=2, padding=\"same\")(input)\n",
        "    x = Concatenate()([x, skip_features])\n",
        "    x = conv_block(x, num_filters)\n",
        "    return x\n",
        "\n",
        "#Build Unet using the blocks\n",
        "def build_unet(input_shape):\n",
        "    inputs = Input(input_shape)\n",
        "\n",
        "    s1, p1 = encoder_block(inputs, 16)\n",
        "    s2, p2 = encoder_block(p1, 32)\n",
        "    s3, p3 = encoder_block(p2, 64)\n",
        "    s4, p4 = encoder_block(p3, 128)\n",
        "\n",
        "    b1 = conv_block(p4, 256) #Bridge\n",
        "\n",
        "    d1 = decoder_block(b1, s4, 128)\n",
        "    d2 = decoder_block(d1, s3, 64)\n",
        "    d3 = decoder_block(d2, s2, 32)\n",
        "    d4 = decoder_block(d3, s1, 16)\n",
        "\n",
        "    activation = 'sigmoid'\n",
        "\n",
        "    outputs = Conv3D(1, 1, padding=\"same\", activation=activation)(d4)  #Change the activation based on n_classes\n",
        "    print(f'activation function: {activation}')\n",
        "\n",
        "    model = Model(inputs, outputs, name=\"U-Net\")\n",
        "    return model"
      ]
    },
    {
      "cell_type": "code",
      "execution_count": null,
      "metadata": {
        "colab": {
          "base_uri": "https://localhost:8080/"
        },
        "id": "u6qkE9MIgBYB",
        "outputId": "0f611cd3-b2ec-4d2c-a19c-763273880187"
      },
      "outputs": [
        {
          "output_type": "stream",
          "name": "stdout",
          "text": [
            "activation function: sigmoid\n",
            "model input shape: (None, 64, 64, 64, 1)\n"
          ]
        }
      ],
      "source": [
        "model = build_unet((64, 64, 64, 1))\n",
        "print(f'model input shape: {model.input_shape}')"
      ]
    },
    {
      "cell_type": "code",
      "execution_count": null,
      "metadata": {
        "colab": {
          "base_uri": "https://localhost:8080/"
        },
        "id": "ant9LozBclBY",
        "outputId": "aa36185f-3c8a-441b-e240-eebaa977090e"
      },
      "outputs": [
        {
          "output_type": "stream",
          "name": "stdout",
          "text": [
            "Looking in indexes: https://pypi.org/simple, https://us-python.pkg.dev/colab-wheels/public/simple/\n",
            "Collecting segmentation-models-3D\n",
            "  Downloading segmentation_models_3D-1.0.4-py3-none-any.whl (33 kB)\n",
            "Collecting classification-models-3D>=1.0.6\n",
            "  Downloading classification_models_3D-1.0.6-py3-none-any.whl (62 kB)\n",
            "\u001b[K     |████████████████████████████████| 62 kB 1.6 MB/s \n",
            "\u001b[?25hCollecting keras-applications>=1.0.8\n",
            "  Downloading Keras_Applications-1.0.8-py3-none-any.whl (50 kB)\n",
            "\u001b[K     |████████████████████████████████| 50 kB 8.1 MB/s \n",
            "\u001b[?25hRequirement already satisfied: tensorflow>=2.8.0 in /usr/local/lib/python3.7/dist-packages (from segmentation-models-3D) (2.9.2)\n",
            "Requirement already satisfied: numpy>=1.9.1 in /usr/local/lib/python3.7/dist-packages (from keras-applications>=1.0.8->segmentation-models-3D) (1.21.6)\n",
            "Requirement already satisfied: h5py in /usr/local/lib/python3.7/dist-packages (from keras-applications>=1.0.8->segmentation-models-3D) (3.1.0)\n",
            "Requirement already satisfied: protobuf<3.20,>=3.9.2 in /usr/local/lib/python3.7/dist-packages (from tensorflow>=2.8.0->segmentation-models-3D) (3.17.3)\n",
            "Requirement already satisfied: tensorflow-io-gcs-filesystem>=0.23.1 in /usr/local/lib/python3.7/dist-packages (from tensorflow>=2.8.0->segmentation-models-3D) (0.27.0)\n",
            "Requirement already satisfied: absl-py>=1.0.0 in /usr/local/lib/python3.7/dist-packages (from tensorflow>=2.8.0->segmentation-models-3D) (1.3.0)\n",
            "Requirement already satisfied: six>=1.12.0 in /usr/local/lib/python3.7/dist-packages (from tensorflow>=2.8.0->segmentation-models-3D) (1.15.0)\n",
            "Requirement already satisfied: grpcio<2.0,>=1.24.3 in /usr/local/lib/python3.7/dist-packages (from tensorflow>=2.8.0->segmentation-models-3D) (1.49.1)\n",
            "Requirement already satisfied: google-pasta>=0.1.1 in /usr/local/lib/python3.7/dist-packages (from tensorflow>=2.8.0->segmentation-models-3D) (0.2.0)\n",
            "Requirement already satisfied: packaging in /usr/local/lib/python3.7/dist-packages (from tensorflow>=2.8.0->segmentation-models-3D) (21.3)\n",
            "Requirement already satisfied: keras-preprocessing>=1.1.1 in /usr/local/lib/python3.7/dist-packages (from tensorflow>=2.8.0->segmentation-models-3D) (1.1.2)\n",
            "Requirement already satisfied: typing-extensions>=3.6.6 in /usr/local/lib/python3.7/dist-packages (from tensorflow>=2.8.0->segmentation-models-3D) (4.1.1)\n",
            "Requirement already satisfied: keras<2.10.0,>=2.9.0rc0 in /usr/local/lib/python3.7/dist-packages (from tensorflow>=2.8.0->segmentation-models-3D) (2.9.0)\n",
            "Requirement already satisfied: flatbuffers<2,>=1.12 in /usr/local/lib/python3.7/dist-packages (from tensorflow>=2.8.0->segmentation-models-3D) (1.12)\n",
            "Requirement already satisfied: tensorflow-estimator<2.10.0,>=2.9.0rc0 in /usr/local/lib/python3.7/dist-packages (from tensorflow>=2.8.0->segmentation-models-3D) (2.9.0)\n",
            "Requirement already satisfied: tensorboard<2.10,>=2.9 in /usr/local/lib/python3.7/dist-packages (from tensorflow>=2.8.0->segmentation-models-3D) (2.9.1)\n",
            "Requirement already satisfied: astunparse>=1.6.0 in /usr/local/lib/python3.7/dist-packages (from tensorflow>=2.8.0->segmentation-models-3D) (1.6.3)\n",
            "Requirement already satisfied: gast<=0.4.0,>=0.2.1 in /usr/local/lib/python3.7/dist-packages (from tensorflow>=2.8.0->segmentation-models-3D) (0.4.0)\n",
            "Requirement already satisfied: wrapt>=1.11.0 in /usr/local/lib/python3.7/dist-packages (from tensorflow>=2.8.0->segmentation-models-3D) (1.14.1)\n",
            "Requirement already satisfied: libclang>=13.0.0 in /usr/local/lib/python3.7/dist-packages (from tensorflow>=2.8.0->segmentation-models-3D) (14.0.6)\n",
            "Requirement already satisfied: termcolor>=1.1.0 in /usr/local/lib/python3.7/dist-packages (from tensorflow>=2.8.0->segmentation-models-3D) (2.0.1)\n",
            "Requirement already satisfied: opt-einsum>=2.3.2 in /usr/local/lib/python3.7/dist-packages (from tensorflow>=2.8.0->segmentation-models-3D) (3.3.0)\n",
            "Requirement already satisfied: setuptools in /usr/local/lib/python3.7/dist-packages (from tensorflow>=2.8.0->segmentation-models-3D) (57.4.0)\n",
            "Requirement already satisfied: wheel<1.0,>=0.23.0 in /usr/local/lib/python3.7/dist-packages (from astunparse>=1.6.0->tensorflow>=2.8.0->segmentation-models-3D) (0.37.1)\n",
            "Requirement already satisfied: cached-property in /usr/local/lib/python3.7/dist-packages (from h5py->keras-applications>=1.0.8->segmentation-models-3D) (1.5.2)\n",
            "Requirement already satisfied: requests<3,>=2.21.0 in /usr/local/lib/python3.7/dist-packages (from tensorboard<2.10,>=2.9->tensorflow>=2.8.0->segmentation-models-3D) (2.23.0)\n",
            "Requirement already satisfied: werkzeug>=1.0.1 in /usr/local/lib/python3.7/dist-packages (from tensorboard<2.10,>=2.9->tensorflow>=2.8.0->segmentation-models-3D) (1.0.1)\n",
            "Requirement already satisfied: tensorboard-data-server<0.7.0,>=0.6.0 in /usr/local/lib/python3.7/dist-packages (from tensorboard<2.10,>=2.9->tensorflow>=2.8.0->segmentation-models-3D) (0.6.1)\n",
            "Requirement already satisfied: markdown>=2.6.8 in /usr/local/lib/python3.7/dist-packages (from tensorboard<2.10,>=2.9->tensorflow>=2.8.0->segmentation-models-3D) (3.4.1)\n",
            "Requirement already satisfied: google-auth<3,>=1.6.3 in /usr/local/lib/python3.7/dist-packages (from tensorboard<2.10,>=2.9->tensorflow>=2.8.0->segmentation-models-3D) (1.35.0)\n",
            "Requirement already satisfied: tensorboard-plugin-wit>=1.6.0 in /usr/local/lib/python3.7/dist-packages (from tensorboard<2.10,>=2.9->tensorflow>=2.8.0->segmentation-models-3D) (1.8.1)\n",
            "Requirement already satisfied: google-auth-oauthlib<0.5,>=0.4.1 in /usr/local/lib/python3.7/dist-packages (from tensorboard<2.10,>=2.9->tensorflow>=2.8.0->segmentation-models-3D) (0.4.6)\n",
            "Requirement already satisfied: rsa<5,>=3.1.4 in /usr/local/lib/python3.7/dist-packages (from google-auth<3,>=1.6.3->tensorboard<2.10,>=2.9->tensorflow>=2.8.0->segmentation-models-3D) (4.9)\n",
            "Requirement already satisfied: cachetools<5.0,>=2.0.0 in /usr/local/lib/python3.7/dist-packages (from google-auth<3,>=1.6.3->tensorboard<2.10,>=2.9->tensorflow>=2.8.0->segmentation-models-3D) (4.2.4)\n",
            "Requirement already satisfied: pyasn1-modules>=0.2.1 in /usr/local/lib/python3.7/dist-packages (from google-auth<3,>=1.6.3->tensorboard<2.10,>=2.9->tensorflow>=2.8.0->segmentation-models-3D) (0.2.8)\n",
            "Requirement already satisfied: requests-oauthlib>=0.7.0 in /usr/local/lib/python3.7/dist-packages (from google-auth-oauthlib<0.5,>=0.4.1->tensorboard<2.10,>=2.9->tensorflow>=2.8.0->segmentation-models-3D) (1.3.1)\n",
            "Requirement already satisfied: importlib-metadata>=4.4 in /usr/local/lib/python3.7/dist-packages (from markdown>=2.6.8->tensorboard<2.10,>=2.9->tensorflow>=2.8.0->segmentation-models-3D) (4.13.0)\n",
            "Requirement already satisfied: zipp>=0.5 in /usr/local/lib/python3.7/dist-packages (from importlib-metadata>=4.4->markdown>=2.6.8->tensorboard<2.10,>=2.9->tensorflow>=2.8.0->segmentation-models-3D) (3.9.0)\n",
            "Requirement already satisfied: pyasn1<0.5.0,>=0.4.6 in /usr/local/lib/python3.7/dist-packages (from pyasn1-modules>=0.2.1->google-auth<3,>=1.6.3->tensorboard<2.10,>=2.9->tensorflow>=2.8.0->segmentation-models-3D) (0.4.8)\n",
            "Requirement already satisfied: urllib3!=1.25.0,!=1.25.1,<1.26,>=1.21.1 in /usr/local/lib/python3.7/dist-packages (from requests<3,>=2.21.0->tensorboard<2.10,>=2.9->tensorflow>=2.8.0->segmentation-models-3D) (1.24.3)\n",
            "Requirement already satisfied: idna<3,>=2.5 in /usr/local/lib/python3.7/dist-packages (from requests<3,>=2.21.0->tensorboard<2.10,>=2.9->tensorflow>=2.8.0->segmentation-models-3D) (2.10)\n",
            "Requirement already satisfied: chardet<4,>=3.0.2 in /usr/local/lib/python3.7/dist-packages (from requests<3,>=2.21.0->tensorboard<2.10,>=2.9->tensorflow>=2.8.0->segmentation-models-3D) (3.0.4)\n",
            "Requirement already satisfied: certifi>=2017.4.17 in /usr/local/lib/python3.7/dist-packages (from requests<3,>=2.21.0->tensorboard<2.10,>=2.9->tensorflow>=2.8.0->segmentation-models-3D) (2022.9.24)\n",
            "Requirement already satisfied: oauthlib>=3.0.0 in /usr/local/lib/python3.7/dist-packages (from requests-oauthlib>=0.7.0->google-auth-oauthlib<0.5,>=0.4.1->tensorboard<2.10,>=2.9->tensorflow>=2.8.0->segmentation-models-3D) (3.2.1)\n",
            "Requirement already satisfied: pyparsing!=3.0.5,>=2.0.2 in /usr/local/lib/python3.7/dist-packages (from packaging->tensorflow>=2.8.0->segmentation-models-3D) (3.0.9)\n",
            "Installing collected packages: keras-applications, classification-models-3D, segmentation-models-3D\n",
            "Successfully installed classification-models-3D-1.0.6 keras-applications-1.0.8 segmentation-models-3D-1.0.4\n"
          ]
        }
      ],
      "source": [
        "!pip install segmentation-models-3D"
      ]
    },
    {
      "cell_type": "code",
      "execution_count": null,
      "metadata": {
        "colab": {
          "base_uri": "https://localhost:8080/"
        },
        "id": "4-ffnnX2lDT3",
        "outputId": "7880b69e-ca86-47f4-e41c-847d5cc55482"
      },
      "outputs": [
        {
          "output_type": "stream",
          "name": "stdout",
          "text": [
            "Segmentation Models: using `tf.keras` framework.\n"
          ]
        }
      ],
      "source": [
        "from segmentation_models_3D.losses import BinaryCELoss\n",
        "import segmentation_models_3D as sm\n",
        "from keras import backend as K\n",
        "\n",
        "'''\n",
        "# Segmentation models losses can be combined together by '+' and scaled by integer or float factor\n",
        "# set class weights for dice_loss (car: 1.; pedestrian: 2.; background: 0.5;)\n",
        "'''\n",
        "#dice_loss = sm.losses.DiceLoss()\n",
        "#focal_loss = sm.losses.BinaryFocalLoss()\n",
        "#total_loss = dice_loss + (1 * focal_loss)\n",
        "\n",
        "# actulally total_loss can be imported directly from library, above example just show you how to manipulate with losses\n",
        "# total_loss = sm.losses.binary_focal_dice_loss # or sm.losses.categorical_focal_dice_loss \n",
        "\n",
        "iou = tf.keras.metrics.MeanIoU(num_classes=2)\n",
        "\n",
        "metrics = [iou, sm.metrics.FScore(), sm.metrics.Precision(), sm.metrics.Recall()]\n",
        "#jaccard_loss = sm.losses.JaccardLoss()\n"
      ]
    },
    {
      "cell_type": "code",
      "execution_count": null,
      "metadata": {
        "colab": {
          "base_uri": "https://localhost:8080/"
        },
        "id": "Cg8cd8WeixXu",
        "outputId": "2729f84b-e38f-4ea0-b377-cb10348adceb"
      },
      "outputs": [
        {
          "output_type": "stream",
          "name": "stdout",
          "text": [
            "Model: \"U-Net\"\n",
            "__________________________________________________________________________________________________\n",
            " Layer (type)                   Output Shape         Param #     Connected to                     \n",
            "==================================================================================================\n",
            " input_2 (InputLayer)           [(None, 64, 64, 64,  0           []                               \n",
            "                                 1)]                                                              \n",
            "                                                                                                  \n",
            " conv3d_19 (Conv3D)             (None, 64, 64, 64,   448         ['input_2[0][0]']                \n",
            "                                16)                                                               \n",
            "                                                                                                  \n",
            " batch_normalization_18 (BatchN  (None, 64, 64, 64,   64         ['conv3d_19[0][0]']              \n",
            " ormalization)                  16)                                                               \n",
            "                                                                                                  \n",
            " activation_18 (Activation)     (None, 64, 64, 64,   0           ['batch_normalization_18[0][0]'] \n",
            "                                16)                                                               \n",
            "                                                                                                  \n",
            " conv3d_20 (Conv3D)             (None, 64, 64, 64,   6928        ['activation_18[0][0]']          \n",
            "                                16)                                                               \n",
            "                                                                                                  \n",
            " batch_normalization_19 (BatchN  (None, 64, 64, 64,   64         ['conv3d_20[0][0]']              \n",
            " ormalization)                  16)                                                               \n",
            "                                                                                                  \n",
            " activation_19 (Activation)     (None, 64, 64, 64,   0           ['batch_normalization_19[0][0]'] \n",
            "                                16)                                                               \n",
            "                                                                                                  \n",
            " max_pooling3d_4 (MaxPooling3D)  (None, 32, 32, 32,   0          ['activation_19[0][0]']          \n",
            "                                16)                                                               \n",
            "                                                                                                  \n",
            " conv3d_21 (Conv3D)             (None, 32, 32, 32,   13856       ['max_pooling3d_4[0][0]']        \n",
            "                                32)                                                               \n",
            "                                                                                                  \n",
            " batch_normalization_20 (BatchN  (None, 32, 32, 32,   128        ['conv3d_21[0][0]']              \n",
            " ormalization)                  32)                                                               \n",
            "                                                                                                  \n",
            " activation_20 (Activation)     (None, 32, 32, 32,   0           ['batch_normalization_20[0][0]'] \n",
            "                                32)                                                               \n",
            "                                                                                                  \n",
            " conv3d_22 (Conv3D)             (None, 32, 32, 32,   27680       ['activation_20[0][0]']          \n",
            "                                32)                                                               \n",
            "                                                                                                  \n",
            " batch_normalization_21 (BatchN  (None, 32, 32, 32,   128        ['conv3d_22[0][0]']              \n",
            " ormalization)                  32)                                                               \n",
            "                                                                                                  \n",
            " activation_21 (Activation)     (None, 32, 32, 32,   0           ['batch_normalization_21[0][0]'] \n",
            "                                32)                                                               \n",
            "                                                                                                  \n",
            " max_pooling3d_5 (MaxPooling3D)  (None, 16, 16, 16,   0          ['activation_21[0][0]']          \n",
            "                                32)                                                               \n",
            "                                                                                                  \n",
            " conv3d_23 (Conv3D)             (None, 16, 16, 16,   55360       ['max_pooling3d_5[0][0]']        \n",
            "                                64)                                                               \n",
            "                                                                                                  \n",
            " batch_normalization_22 (BatchN  (None, 16, 16, 16,   256        ['conv3d_23[0][0]']              \n",
            " ormalization)                  64)                                                               \n",
            "                                                                                                  \n",
            " activation_22 (Activation)     (None, 16, 16, 16,   0           ['batch_normalization_22[0][0]'] \n",
            "                                64)                                                               \n",
            "                                                                                                  \n",
            " conv3d_24 (Conv3D)             (None, 16, 16, 16,   110656      ['activation_22[0][0]']          \n",
            "                                64)                                                               \n",
            "                                                                                                  \n",
            " batch_normalization_23 (BatchN  (None, 16, 16, 16,   256        ['conv3d_24[0][0]']              \n",
            " ormalization)                  64)                                                               \n",
            "                                                                                                  \n",
            " activation_23 (Activation)     (None, 16, 16, 16,   0           ['batch_normalization_23[0][0]'] \n",
            "                                64)                                                               \n",
            "                                                                                                  \n",
            " max_pooling3d_6 (MaxPooling3D)  (None, 8, 8, 8, 64)  0          ['activation_23[0][0]']          \n",
            "                                                                                                  \n",
            " conv3d_25 (Conv3D)             (None, 8, 8, 8, 128  221312      ['max_pooling3d_6[0][0]']        \n",
            "                                )                                                                 \n",
            "                                                                                                  \n",
            " batch_normalization_24 (BatchN  (None, 8, 8, 8, 128  512        ['conv3d_25[0][0]']              \n",
            " ormalization)                  )                                                                 \n",
            "                                                                                                  \n",
            " activation_24 (Activation)     (None, 8, 8, 8, 128  0           ['batch_normalization_24[0][0]'] \n",
            "                                )                                                                 \n",
            "                                                                                                  \n",
            " conv3d_26 (Conv3D)             (None, 8, 8, 8, 128  442496      ['activation_24[0][0]']          \n",
            "                                )                                                                 \n",
            "                                                                                                  \n",
            " batch_normalization_25 (BatchN  (None, 8, 8, 8, 128  512        ['conv3d_26[0][0]']              \n",
            " ormalization)                  )                                                                 \n",
            "                                                                                                  \n",
            " activation_25 (Activation)     (None, 8, 8, 8, 128  0           ['batch_normalization_25[0][0]'] \n",
            "                                )                                                                 \n",
            "                                                                                                  \n",
            " max_pooling3d_7 (MaxPooling3D)  (None, 4, 4, 4, 128  0          ['activation_25[0][0]']          \n",
            "                                )                                                                 \n",
            "                                                                                                  \n",
            " conv3d_27 (Conv3D)             (None, 4, 4, 4, 256  884992      ['max_pooling3d_7[0][0]']        \n",
            "                                )                                                                 \n",
            "                                                                                                  \n",
            " batch_normalization_26 (BatchN  (None, 4, 4, 4, 256  1024       ['conv3d_27[0][0]']              \n",
            " ormalization)                  )                                                                 \n",
            "                                                                                                  \n",
            " activation_26 (Activation)     (None, 4, 4, 4, 256  0           ['batch_normalization_26[0][0]'] \n",
            "                                )                                                                 \n",
            "                                                                                                  \n",
            " conv3d_28 (Conv3D)             (None, 4, 4, 4, 256  1769728     ['activation_26[0][0]']          \n",
            "                                )                                                                 \n",
            "                                                                                                  \n",
            " batch_normalization_27 (BatchN  (None, 4, 4, 4, 256  1024       ['conv3d_28[0][0]']              \n",
            " ormalization)                  )                                                                 \n",
            "                                                                                                  \n",
            " activation_27 (Activation)     (None, 4, 4, 4, 256  0           ['batch_normalization_27[0][0]'] \n",
            "                                )                                                                 \n",
            "                                                                                                  \n",
            " conv3d_transpose_4 (Conv3DTran  (None, 8, 8, 8, 128  262272     ['activation_27[0][0]']          \n",
            " spose)                         )                                                                 \n",
            "                                                                                                  \n",
            " concatenate_4 (Concatenate)    (None, 8, 8, 8, 256  0           ['conv3d_transpose_4[0][0]',     \n",
            "                                )                                 'activation_25[0][0]']          \n",
            "                                                                                                  \n",
            " conv3d_29 (Conv3D)             (None, 8, 8, 8, 128  884864      ['concatenate_4[0][0]']          \n",
            "                                )                                                                 \n",
            "                                                                                                  \n",
            " batch_normalization_28 (BatchN  (None, 8, 8, 8, 128  512        ['conv3d_29[0][0]']              \n",
            " ormalization)                  )                                                                 \n",
            "                                                                                                  \n",
            " activation_28 (Activation)     (None, 8, 8, 8, 128  0           ['batch_normalization_28[0][0]'] \n",
            "                                )                                                                 \n",
            "                                                                                                  \n",
            " conv3d_30 (Conv3D)             (None, 8, 8, 8, 128  442496      ['activation_28[0][0]']          \n",
            "                                )                                                                 \n",
            "                                                                                                  \n",
            " batch_normalization_29 (BatchN  (None, 8, 8, 8, 128  512        ['conv3d_30[0][0]']              \n",
            " ormalization)                  )                                                                 \n",
            "                                                                                                  \n",
            " activation_29 (Activation)     (None, 8, 8, 8, 128  0           ['batch_normalization_29[0][0]'] \n",
            "                                )                                                                 \n",
            "                                                                                                  \n",
            " conv3d_transpose_5 (Conv3DTran  (None, 16, 16, 16,   65600      ['activation_29[0][0]']          \n",
            " spose)                         64)                                                               \n",
            "                                                                                                  \n",
            " concatenate_5 (Concatenate)    (None, 16, 16, 16,   0           ['conv3d_transpose_5[0][0]',     \n",
            "                                128)                              'activation_23[0][0]']          \n",
            "                                                                                                  \n",
            " conv3d_31 (Conv3D)             (None, 16, 16, 16,   221248      ['concatenate_5[0][0]']          \n",
            "                                64)                                                               \n",
            "                                                                                                  \n",
            " batch_normalization_30 (BatchN  (None, 16, 16, 16,   256        ['conv3d_31[0][0]']              \n",
            " ormalization)                  64)                                                               \n",
            "                                                                                                  \n",
            " activation_30 (Activation)     (None, 16, 16, 16,   0           ['batch_normalization_30[0][0]'] \n",
            "                                64)                                                               \n",
            "                                                                                                  \n",
            " conv3d_32 (Conv3D)             (None, 16, 16, 16,   110656      ['activation_30[0][0]']          \n",
            "                                64)                                                               \n",
            "                                                                                                  \n",
            " batch_normalization_31 (BatchN  (None, 16, 16, 16,   256        ['conv3d_32[0][0]']              \n",
            " ormalization)                  64)                                                               \n",
            "                                                                                                  \n",
            " activation_31 (Activation)     (None, 16, 16, 16,   0           ['batch_normalization_31[0][0]'] \n",
            "                                64)                                                               \n",
            "                                                                                                  \n",
            " conv3d_transpose_6 (Conv3DTran  (None, 32, 32, 32,   16416      ['activation_31[0][0]']          \n",
            " spose)                         32)                                                               \n",
            "                                                                                                  \n",
            " concatenate_6 (Concatenate)    (None, 32, 32, 32,   0           ['conv3d_transpose_6[0][0]',     \n",
            "                                64)                               'activation_21[0][0]']          \n",
            "                                                                                                  \n",
            " conv3d_33 (Conv3D)             (None, 32, 32, 32,   55328       ['concatenate_6[0][0]']          \n",
            "                                32)                                                               \n",
            "                                                                                                  \n",
            " batch_normalization_32 (BatchN  (None, 32, 32, 32,   128        ['conv3d_33[0][0]']              \n",
            " ormalization)                  32)                                                               \n",
            "                                                                                                  \n",
            " activation_32 (Activation)     (None, 32, 32, 32,   0           ['batch_normalization_32[0][0]'] \n",
            "                                32)                                                               \n",
            "                                                                                                  \n",
            " conv3d_34 (Conv3D)             (None, 32, 32, 32,   27680       ['activation_32[0][0]']          \n",
            "                                32)                                                               \n",
            "                                                                                                  \n",
            " batch_normalization_33 (BatchN  (None, 32, 32, 32,   128        ['conv3d_34[0][0]']              \n",
            " ormalization)                  32)                                                               \n",
            "                                                                                                  \n",
            " activation_33 (Activation)     (None, 32, 32, 32,   0           ['batch_normalization_33[0][0]'] \n",
            "                                32)                                                               \n",
            "                                                                                                  \n",
            " conv3d_transpose_7 (Conv3DTran  (None, 64, 64, 64,   4112       ['activation_33[0][0]']          \n",
            " spose)                         16)                                                               \n",
            "                                                                                                  \n",
            " concatenate_7 (Concatenate)    (None, 64, 64, 64,   0           ['conv3d_transpose_7[0][0]',     \n",
            "                                32)                               'activation_19[0][0]']          \n",
            "                                                                                                  \n",
            " conv3d_35 (Conv3D)             (None, 64, 64, 64,   13840       ['concatenate_7[0][0]']          \n",
            "                                16)                                                               \n",
            "                                                                                                  \n",
            " batch_normalization_34 (BatchN  (None, 64, 64, 64,   64         ['conv3d_35[0][0]']              \n",
            " ormalization)                  16)                                                               \n",
            "                                                                                                  \n",
            " activation_34 (Activation)     (None, 64, 64, 64,   0           ['batch_normalization_34[0][0]'] \n",
            "                                16)                                                               \n",
            "                                                                                                  \n",
            " conv3d_36 (Conv3D)             (None, 64, 64, 64,   6928        ['activation_34[0][0]']          \n",
            "                                16)                                                               \n",
            "                                                                                                  \n",
            " batch_normalization_35 (BatchN  (None, 64, 64, 64,   64         ['conv3d_36[0][0]']              \n",
            " ormalization)                  16)                                                               \n",
            "                                                                                                  \n",
            " activation_35 (Activation)     (None, 64, 64, 64,   0           ['batch_normalization_35[0][0]'] \n",
            "                                16)                                                               \n",
            "                                                                                                  \n",
            " conv3d_37 (Conv3D)             (None, 64, 64, 64,   17          ['activation_35[0][0]']          \n",
            "                                1)                                                                \n",
            "                                                                                                  \n",
            "==================================================================================================\n",
            "Total params: 5,650,801\n",
            "Trainable params: 5,647,857\n",
            "Non-trainable params: 2,944\n",
            "__________________________________________________________________________________________________\n",
            "None\n",
            "LR = 0.1\n",
            "BinaryCrossentropy\n"
          ]
        }
      ],
      "source": [
        "LR = 0.1\n",
        "optim = keras.optimizers.Adam(LR)\n",
        "\n",
        "loss = 'BinaryCrossentropy'\n",
        "\n",
        "model.compile(optimizer=optim, loss=loss ,metrics = metrics)\n",
        "print(model.summary())\n",
        "print(f'LR = {LR}')\n",
        "print(loss)"
      ]
    },
    {
      "cell_type": "code",
      "execution_count": null,
      "metadata": {
        "colab": {
          "base_uri": "https://localhost:8080/"
        },
        "id": "q5n_rIbVlQ5I",
        "outputId": "6c77ec46-abd3-4dc2-908b-6fa754ece296"
      },
      "outputs": [
        {
          "output_type": "stream",
          "name": "stdout",
          "text": [
            "Epoch 1/40\n",
            "36/36 [==============================] - 79s 2s/step - loss: 5.6096e-04 - mean_io_u: 0.5000 - f1-score: 1.7246e-05 - precision: 4.0867e-05 - recall: 0.6111 - val_loss: 0.0065 - val_mean_io_u: 0.5000 - val_f1-score: 0.1985 - val_precision: 0.4283 - val_recall: 0.5000\n",
            "Epoch 2/40\n",
            "36/36 [==============================] - 73s 2s/step - loss: 4.3644e-04 - mean_io_u: 0.5000 - f1-score: 1.8669e-05 - precision: 3.2299e-05 - recall: 0.6111 - val_loss: 0.0199 - val_mean_io_u: 0.5000 - val_f1-score: 6.5335e-05 - val_precision: 9.8497e-05 - val_recall: 0.5000\n",
            "Epoch 3/40\n",
            "36/36 [==============================] - 74s 2s/step - loss: 3.9345e-04 - mean_io_u: 0.5000 - f1-score: 1.8644e-05 - precision: 4.4635e-05 - recall: 0.6111 - val_loss: 2.2621e-04 - val_mean_io_u: 0.5000 - val_f1-score: 4.1891e-06 - val_precision: 1.1460e-05 - val_recall: 0.5000\n",
            "Epoch 4/40\n",
            "36/36 [==============================] - 72s 2s/step - loss: 3.9417e-04 - mean_io_u: 0.5000 - f1-score: 1.8420e-05 - precision: 4.5661e-05 - recall: 0.6111 - val_loss: 1.2838e-04 - val_mean_io_u: 0.5000 - val_f1-score: 2.1795e-06 - val_precision: 1.0478e-05 - val_recall: 0.5000\n",
            "Epoch 5/40\n",
            "36/36 [==============================] - 72s 2s/step - loss: 3.9198e-04 - mean_io_u: 0.5000 - f1-score: 1.8178e-05 - precision: 4.5270e-05 - recall: 0.6111 - val_loss: 1.3690e-04 - val_mean_io_u: 0.5000 - val_f1-score: 2.3137e-06 - val_precision: 5.8070e-06 - val_recall: 0.5000\n",
            "Epoch 6/40\n",
            "36/36 [==============================] - 72s 2s/step - loss: 3.7792e-04 - mean_io_u: 0.5000 - f1-score: 2.6848e-05 - precision: 5.7388e-05 - recall: 0.6111 - val_loss: 1.2187e-04 - val_mean_io_u: 0.5000 - val_f1-score: 2.9508e-06 - val_precision: 6.7978e-06 - val_recall: 0.5000\n",
            "Epoch 7/40\n",
            "36/36 [==============================] - 72s 2s/step - loss: 3.7213e-04 - mean_io_u: 0.5000 - f1-score: 3.1629e-05 - precision: 6.5895e-05 - recall: 0.6111 - val_loss: 1.1248e-04 - val_mean_io_u: 0.5000 - val_f1-score: 1.1013e-05 - val_precision: 1.4560e-05 - val_recall: 0.5000\n",
            "Epoch 8/40\n",
            "36/36 [==============================] - 72s 2s/step - loss: 3.3729e-04 - mean_io_u: 0.5000 - f1-score: 2.4207e-04 - precision: 5.2004e-04 - recall: 0.6114 - val_loss: 2.4567e-04 - val_mean_io_u: 0.5000 - val_f1-score: 2.3429e-05 - val_precision: 1.3916e-05 - val_recall: 0.5001\n",
            "Epoch 9/40\n",
            "36/36 [==============================] - 74s 2s/step - loss: 2.8702e-04 - mean_io_u: 0.5000 - f1-score: 0.0015 - precision: 0.0039 - recall: 0.6126 - val_loss: 0.0043 - val_mean_io_u: 0.5000 - val_f1-score: 1.1197e-05 - val_precision: 5.6343e-06 - val_recall: 0.5030\n",
            "Epoch 10/40\n",
            "36/36 [==============================] - 74s 2s/step - loss: 2.7400e-04 - mean_io_u: 0.5000 - f1-score: 0.0016 - precision: 0.0042 - recall: 0.6125 - val_loss: 0.0055 - val_mean_io_u: 0.5000 - val_f1-score: 3.3683e-05 - val_precision: 1.6928e-05 - val_recall: 0.5054\n",
            "Epoch 11/40\n",
            "36/36 [==============================] - 74s 2s/step - loss: 2.3670e-04 - mean_io_u: 0.5000 - f1-score: 0.0027 - precision: 0.0058 - recall: 0.6136 - val_loss: 0.0025 - val_mean_io_u: 0.5000 - val_f1-score: 4.4033e-05 - val_precision: 2.2261e-05 - val_recall: 0.5030\n",
            "Epoch 12/40\n",
            "36/36 [==============================] - 72s 2s/step - loss: 2.4360e-04 - mean_io_u: 0.5000 - f1-score: 0.0026 - precision: 0.0052 - recall: 0.6137 - val_loss: 5.3637e-04 - val_mean_io_u: 0.5000 - val_f1-score: 1.2337e-04 - val_precision: 6.5168e-05 - val_recall: 0.5014\n",
            "Epoch 13/40\n",
            "36/36 [==============================] - 72s 2s/step - loss: 2.6279e-04 - mean_io_u: 0.5000 - f1-score: 0.0022 - precision: 0.0045 - recall: 0.6136 - val_loss: 1.5657e-04 - val_mean_io_u: 0.5000 - val_f1-score: 2.8969e-04 - val_precision: 1.8605e-04 - val_recall: 0.5007\n",
            "Epoch 14/40\n",
            "36/36 [==============================] - 74s 2s/step - loss: 2.7877e-04 - mean_io_u: 0.5000 - f1-score: 0.0019 - precision: 0.0043 - recall: 0.6135 - val_loss: 2.1956e-04 - val_mean_io_u: 0.5000 - val_f1-score: 1.0123e-04 - val_precision: 5.9437e-05 - val_recall: 0.5005\n",
            "Epoch 15/40\n",
            "36/36 [==============================] - 74s 2s/step - loss: 2.7422e-04 - mean_io_u: 0.5000 - f1-score: 0.0017 - precision: 0.0047 - recall: 0.6130 - val_loss: 2.7923e-04 - val_mean_io_u: 0.5000 - val_f1-score: 1.4756e-04 - val_precision: 8.2967e-05 - val_recall: 0.5009\n",
            "Epoch 16/40\n",
            "36/36 [==============================] - 72s 2s/step - loss: 2.6331e-04 - mean_io_u: 0.5000 - f1-score: 0.0021 - precision: 0.0046 - recall: 0.6135 - val_loss: 7.1819e-04 - val_mean_io_u: 0.5000 - val_f1-score: 1.8663e-05 - val_precision: 9.7036e-06 - val_recall: 0.5006\n",
            "Epoch 17/40\n",
            "36/36 [==============================] - 74s 2s/step - loss: 2.5976e-04 - mean_io_u: 0.5000 - f1-score: 0.0023 - precision: 0.0051 - recall: 0.6138 - val_loss: 4.0077e-04 - val_mean_io_u: 0.5000 - val_f1-score: 1.2358e-04 - val_precision: 6.6682e-05 - val_recall: 0.5011\n",
            "Epoch 18/40\n",
            "36/36 [==============================] - 74s 2s/step - loss: 2.6439e-04 - mean_io_u: 0.5000 - f1-score: 0.0020 - precision: 0.0047 - recall: 0.6134 - val_loss: 5.6428e-04 - val_mean_io_u: 0.5000 - val_f1-score: 1.0093e-04 - val_precision: 5.3146e-05 - val_recall: 0.5013\n",
            "Epoch 19/40\n",
            "36/36 [==============================] - 72s 2s/step - loss: 2.6139e-04 - mean_io_u: 0.5000 - f1-score: 0.0022 - precision: 0.0049 - recall: 0.6137 - val_loss: 8.1478e-04 - val_mean_io_u: 0.5000 - val_f1-score: 6.4843e-05 - val_precision: 3.3554e-05 - val_recall: 0.5014\n",
            "Epoch 20/40\n",
            "36/36 [==============================] - 74s 2s/step - loss: 2.5526e-04 - mean_io_u: 0.5000 - f1-score: 0.0020 - precision: 0.0047 - recall: 0.6133 - val_loss: 0.0015 - val_mean_io_u: 0.5000 - val_f1-score: 5.8414e-05 - val_precision: 2.9747e-05 - val_recall: 0.5024\n",
            "Epoch 21/40\n",
            "36/36 [==============================] - 74s 2s/step - loss: 2.4704e-04 - mean_io_u: 0.5000 - f1-score: 0.0023 - precision: 0.0048 - recall: 0.6137 - val_loss: 0.0012 - val_mean_io_u: 0.5000 - val_f1-score: 6.6338e-05 - val_precision: 3.3942e-05 - val_recall: 0.5020\n",
            "Epoch 22/40\n",
            "36/36 [==============================] - 74s 2s/step - loss: 2.4919e-04 - mean_io_u: 0.5000 - f1-score: 0.0022 - precision: 0.0048 - recall: 0.6136 - val_loss: 0.0011 - val_mean_io_u: 0.5000 - val_f1-score: 7.0576e-05 - val_precision: 3.6205e-05 - val_recall: 0.5019\n",
            "Epoch 23/40\n",
            "36/36 [==============================] - 74s 2s/step - loss: 2.4592e-04 - mean_io_u: 0.5000 - f1-score: 0.0022 - precision: 0.0048 - recall: 0.6135 - val_loss: 0.0018 - val_mean_io_u: 0.5000 - val_f1-score: 5.2895e-05 - val_precision: 2.6847e-05 - val_recall: 0.5025\n",
            "Epoch 24/40\n",
            "36/36 [==============================] - 74s 2s/step - loss: 2.4968e-04 - mean_io_u: 0.5000 - f1-score: 0.0021 - precision: 0.0045 - recall: 0.6136 - val_loss: 0.0020 - val_mean_io_u: 0.5000 - val_f1-score: 4.0565e-05 - val_precision: 2.0558e-05 - val_recall: 0.5024\n",
            "Epoch 25/40\n",
            "36/36 [==============================] - 72s 2s/step - loss: 2.5090e-04 - mean_io_u: 0.5000 - f1-score: 0.0021 - precision: 0.0047 - recall: 0.6135 - val_loss: 9.6375e-04 - val_mean_io_u: 0.5000 - val_f1-score: 8.9386e-05 - val_precision: 4.6014e-05 - val_recall: 0.5021\n",
            "Epoch 26/40\n",
            "36/36 [==============================] - 74s 2s/step - loss: 2.4305e-04 - mean_io_u: 0.5000 - f1-score: 0.0023 - precision: 0.0048 - recall: 0.6138 - val_loss: 0.0011 - val_mean_io_u: 0.5000 - val_f1-score: 8.1910e-05 - val_precision: 4.2032e-05 - val_recall: 0.5022\n",
            "Epoch 27/40\n",
            "36/36 [==============================] - 72s 2s/step - loss: 2.3742e-04 - mean_io_u: 0.5000 - f1-score: 0.0021 - precision: 0.0046 - recall: 0.6134 - val_loss: 0.0010 - val_mean_io_u: 0.5000 - val_f1-score: 8.4334e-05 - val_precision: 4.3312e-05 - val_recall: 0.5021\n",
            "Epoch 28/40\n",
            "36/36 [==============================] - 71s 2s/step - loss: 2.4183e-04 - mean_io_u: 0.5000 - f1-score: 0.0024 - precision: 0.0047 - recall: 0.6139 - val_loss: 0.0019 - val_mean_io_u: 0.5000 - val_f1-score: 5.2451e-05 - val_precision: 2.6605e-05 - val_recall: 0.5026\n",
            "Epoch 29/40\n",
            "36/36 [==============================] - 74s 2s/step - loss: 2.3692e-04 - mean_io_u: 0.5000 - f1-score: 0.0023 - precision: 0.0048 - recall: 0.6137 - val_loss: 0.0017 - val_mean_io_u: 0.5000 - val_f1-score: 6.3268e-05 - val_precision: 3.2146e-05 - val_recall: 0.5027\n",
            "Epoch 30/40\n",
            "36/36 [==============================] - 72s 2s/step - loss: 2.3394e-04 - mean_io_u: 0.5000 - f1-score: 0.0025 - precision: 0.0048 - recall: 0.6139 - val_loss: 0.0021 - val_mean_io_u: 0.5000 - val_f1-score: 5.1949e-05 - val_precision: 2.6305e-05 - val_recall: 0.5029\n",
            "Epoch 31/40\n",
            "36/36 [==============================] - 72s 2s/step - loss: 2.3788e-04 - mean_io_u: 0.5000 - f1-score: 0.0023 - precision: 0.0048 - recall: 0.6136 - val_loss: 7.5824e-04 - val_mean_io_u: 0.5000 - val_f1-score: 1.1385e-04 - val_precision: 5.9169e-05 - val_recall: 0.5021\n",
            "Epoch 32/40\n",
            "36/36 [==============================] - 72s 2s/step - loss: 2.4500e-04 - mean_io_u: 0.5000 - f1-score: 0.0023 - precision: 0.0047 - recall: 0.6137 - val_loss: 3.7298e-04 - val_mean_io_u: 0.5000 - val_f1-score: 5.9963e-04 - val_precision: 3.3521e-04 - val_recall: 0.5034\n",
            "Epoch 33/40\n",
            "36/36 [==============================] - 74s 2s/step - loss: 2.3784e-04 - mean_io_u: 0.5000 - f1-score: 0.0020 - precision: 0.0045 - recall: 0.6134 - val_loss: 8.4458e-04 - val_mean_io_u: 0.5000 - val_f1-score: 1.1301e-04 - val_precision: 5.8480e-05 - val_recall: 0.5025\n",
            "Epoch 34/40\n",
            "36/36 [==============================] - 74s 2s/step - loss: 2.3294e-04 - mean_io_u: 0.5000 - f1-score: 0.0023 - precision: 0.0047 - recall: 0.6138 - val_loss: 3.0590e-04 - val_mean_io_u: 0.5000 - val_f1-score: 3.6213e-04 - val_precision: 2.0153e-04 - val_recall: 0.5022\n",
            "Epoch 35/40\n",
            "36/36 [==============================] - 72s 2s/step - loss: 2.2709e-04 - mean_io_u: 0.5000 - f1-score: 0.0024 - precision: 0.0050 - recall: 0.6138 - val_loss: 6.5227e-04 - val_mean_io_u: 0.5000 - val_f1-score: 1.6262e-04 - val_precision: 8.5206e-05 - val_recall: 0.5029\n",
            "Epoch 36/40\n",
            "36/36 [==============================] - 72s 2s/step - loss: 2.2842e-04 - mean_io_u: 0.5000 - f1-score: 0.0026 - precision: 0.0055 - recall: 0.6141 - val_loss: 0.0010 - val_mean_io_u: 0.5000 - val_f1-score: 1.1605e-04 - val_precision: 5.9660e-05 - val_recall: 0.5029\n",
            "Epoch 37/40\n",
            "36/36 [==============================] - 74s 2s/step - loss: 2.1904e-04 - mean_io_u: 0.5000 - f1-score: 0.0025 - precision: 0.0057 - recall: 0.6136 - val_loss: 1.0231e-04 - val_mean_io_u: 0.5000 - val_f1-score: 1.2599e-04 - val_precision: 1.2581e-04 - val_recall: 0.5002\n",
            "Epoch 38/40\n",
            "36/36 [==============================] - 72s 2s/step - loss: 2.1412e-04 - mean_io_u: 0.5000 - f1-score: 0.0034 - precision: 0.0072 - recall: 0.6147 - val_loss: 0.2906 - val_mean_io_u: 0.4984 - val_f1-score: 2.2771e-04 - val_precision: 1.1400e-04 - val_recall: 0.5925\n",
            "Epoch 39/40\n",
            "36/36 [==============================] - 74s 2s/step - loss: 2.2085e-04 - mean_io_u: 0.5000 - f1-score: 0.0034 - precision: 0.0058 - recall: 0.6148 - val_loss: 0.0536 - val_mean_io_u: 0.4998 - val_f1-score: 3.8701e-04 - val_precision: 1.9458e-04 - val_recall: 0.5363\n",
            "Epoch 40/40\n",
            "36/36 [==============================] - 74s 2s/step - loss: 2.3767e-04 - mean_io_u: 0.5000 - f1-score: 0.0029 - precision: 0.0055 - recall: 0.6143 - val_loss: 0.0054 - val_mean_io_u: 0.5000 - val_f1-score: 4.6910e-05 - val_precision: 2.3750e-05 - val_recall: 0.5028\n"
          ]
        }
      ],
      "source": [
        "#Si uso el custom datagen\n",
        "steps_per_epoch = len(train_img_list)//batch_size\n",
        "val_steps_per_epoch = len(val_img_list)//batch_size\n",
        "\n",
        "history=model.fit(train_img_datagen,\n",
        "          steps_per_epoch=steps_per_epoch,\n",
        "          epochs=40,\n",
        "          verbose=1,\n",
        "          validation_data=val_img_datagen,\n",
        "          validation_steps=val_steps_per_epoch,\n",
        "          )\n",
        "\n",
        "model.save('UNet_aneurismas_patches.hdf5')"
      ]
    },
    {
      "cell_type": "code",
      "source": [
        "model.save('/content/drive/MyDrive/DOCTORADO/2 Semestre/Pruebas modelos DL/history models/UNet_aneurismas_patches.hdf5')"
      ],
      "metadata": {
        "id": "i8tpBOKm1sIW"
      },
      "execution_count": null,
      "outputs": []
    },
    {
      "cell_type": "code",
      "source": [
        "plt.plot(history.history['loss'])\n",
        "plt.plot(history.history['val_loss'])\n",
        "plt.title('model loss')\n",
        "plt.ylabel('loss')\n",
        "plt.xlabel('epoch')\n",
        "plt.legend(['train', 'validation'], loc='upper right')\n",
        "plt.show()"
      ],
      "metadata": {
        "colab": {
          "base_uri": "https://localhost:8080/",
          "height": 295
        },
        "id": "6n26iqv1fU_z",
        "outputId": "3c3fac61-4b2f-48f0-ca73-96591531582e"
      },
      "execution_count": null,
      "outputs": [
        {
          "output_type": "display_data",
          "data": {
            "text/plain": [
              "<Figure size 432x288 with 1 Axes>"
            ],
            "image/png": "[encoded data removed]"
          },
          "metadata": {
            "needs_background": "light"
          }
        }
      ]
    },
    {
      "cell_type": "code",
      "execution_count": null,
      "metadata": {
        "id": "1lmgaxe9m3YL"
      },
      "outputs": [],
      "source": [
        "y_pred=model.predict(X_test)\n",
        "#y_pred = y_pred >= 0.5 \n",
        "#y_pred = y_pred.astype(int)\n",
        "print(y_pred.shape)\n",
        "print(np.unique(y_pred))"
      ]
    },
    {
      "cell_type": "code",
      "execution_count": null,
      "metadata": {
        "id": "1g5KlvQhFc7U"
      },
      "outputs": [],
      "source": [
        "print(np.unique(y_test[38,:,:,26,:]))"
      ]
    },
    {
      "cell_type": "code",
      "execution_count": null,
      "metadata": {
        "id": "rXKSjagzd7Y8"
      },
      "outputs": [],
      "source": [
        "plt.subplot(1,3,1)\n",
        "plt.imshow(X_test[38,:,:,26,0],cmap='gray');\n",
        "plt.subplot(1,3,2)\n",
        "plt.imshow(y_test[38,:,:,26,0],cmap='gray');\n",
        "plt.subplot(1,3,3)\n",
        "plt.imshow(y_pred[38,:,:,26,0],cmap='gray');"
      ]
    }
  ],
  "metadata": {
    "colab": {
      "collapsed_sections": [],
      "provenance": [],
      "include_colab_link": true
    },
    "gpuClass": "premium",
    "kernelspec": {
      "display_name": "Python 3",
      "name": "python3"
    },
    "language_info": {
      "name": "python"
    }
  },
  "nbformat": 4,
  "nbformat_minor": 0
}