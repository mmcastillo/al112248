{
  "nbformat": 4,
  "nbformat_minor": 0,
  "metadata": {
    "colab": {
      "provenance": [],
      "collapsed_sections": [],
      "authorship_tag": "ABX9TyNi/hhuYQb0JNNZbOzJZ6Cl",
      "include_colab_link": true
    },
    "kernelspec": {
      "name": "python3",
      "display_name": "Python 3"
    },
    "language_info": {
      "name": "python"
    }
  },
  "cells": [
    {
      "cell_type": "markdown",
      "metadata": {
        "id": "view-in-github",
        "colab_type": "text"
      },
      "source": [
        "<a href=\"https://colab.research.google.com/github/mmcastillo/al112248/blob/main/Rand_50n_copiar_aug.ipynb\" target=\"_parent\"><img src=\"https://colab.research.google.com/assets/colab-badge.svg\" alt=\"Open In Colab\"/></a>"
      ]
    },
    {
      "cell_type": "code",
      "source": [
        "import shutil\n",
        "import os\n",
        "import numpy as np\n",
        "import random\n",
        "import natsort\n",
        "from google.colab import drive\n",
        "drive.mount('/content/drive/');"
      ],
      "metadata": {
        "colab": {
          "base_uri": "https://localhost:8080/"
        },
        "id": "v2lyly4NoqQ2",
        "outputId": "0797d302-f710-4ac4-bcd5-231dd3b85f40"
      },
      "execution_count": 31,
      "outputs": [
        {
          "output_type": "stream",
          "name": "stdout",
          "text": [
            "Drive already mounted at /content/drive/; to attempt to forcibly remount, call drive.mount(\"/content/drive/\", force_remount=True).\n"
          ]
        }
      ]
    },
    {
      "cell_type": "markdown",
      "source": [
        "Se crean extraen aleatoriamente 50 patches negativos de cada paciente"
      ],
      "metadata": {
        "id": "DxMXP2WZzJq-"
      }
    },
    {
      "cell_type": "code",
      "execution_count": 32,
      "metadata": {
        "id": "eFJuETHKoJR3"
      },
      "outputs": [],
      "source": [
        "train_img_dir = '/content/drive/MyDrive/DOCTORADO/python/datos_para_entrenar_modelos/modelo_1.X/train/imgs/';\n",
        "train_mask_dir = '/content/drive/MyDrive/DOCTORADO/python/datos_para_entrenar_modelos/modelo_1.X/train/masks/';\n",
        "train_img_list = os.listdir(train_img_dir)\n",
        "train_img_list = natsort.natsorted(train_img_list)\n",
        "train_mask_list = os.listdir(train_mask_dir)\n",
        "train_mask_list = natsort.natsorted(train_mask_list)"
      ]
    },
    {
      "cell_type": "code",
      "source": [
        "len(train_img_list)"
      ],
      "metadata": {
        "colab": {
          "base_uri": "https://localhost:8080/"
        },
        "id": "dKmb86bTMQGC",
        "outputId": "43584d65-3dd4-464b-e78e-cd13624c6ee8"
      },
      "execution_count": 33,
      "outputs": [
        {
          "output_type": "execute_result",
          "data": {
            "text/plain": [
              "1136"
            ]
          },
          "metadata": {},
          "execution_count": 33
        }
      ]
    },
    {
      "cell_type": "code",
      "source": [
        "list_temp=[]\n",
        "for paciente in range(2,11):\n",
        "  temp=[]\n",
        "  for i in range(len(train_img_list)):\n",
        "    if train_img_list[i].split('_')[0]==str(paciente):\n",
        "      temp.append(train_img_list[i])\n",
        "\n",
        "  inx = random.sample(range(0, len(temp)-1), 50)\n",
        "  for i in range(len(inx)):\n",
        "    list_temp.append(temp[inx[i]])    "
      ],
      "metadata": {
        "id": "ux2NLY7eoZ79"
      },
      "execution_count": 34,
      "outputs": []
    },
    {
      "cell_type": "code",
      "source": [
        "list_temp"
      ],
      "metadata": {
        "colab": {
          "base_uri": "https://localhost:8080/"
        },
        "id": "bgdyHrjXwrrL",
        "outputId": "8d638e57-b166-46d8-ec4e-4124ce56d11e"
      },
      "execution_count": 35,
      "outputs": [
        {
          "output_type": "execute_result",
          "data": {
            "text/plain": [
              "['2_A_78.npy',\n",
              " '2_A_3.npy',\n",
              " '2_A_21.npy',\n",
              " '2_A_107.npy',\n",
              " '2_A_117.npy',\n",
              " '2_A_57.npy',\n",
              " '2_A_77.npy',\n",
              " '2_A_88.npy',\n",
              " '2_A_27.npy',\n",
              " '2_A_95.npy',\n",
              " '2_A_124.npy',\n",
              " '2_A_25.npy',\n",
              " '2_A_79.npy',\n",
              " '2_A_85.npy',\n",
              " '2_A_106.npy',\n",
              " '2_A_34.npy',\n",
              " '2_A_50.npy',\n",
              " '2_A_60.npy',\n",
              " '2_A_8.npy',\n",
              " '2_A_23.npy',\n",
              " '2_A_53.npy',\n",
              " '2_A_94.npy',\n",
              " '2_A_38.npy',\n",
              " '2_A_113.npy',\n",
              " '2_A_80.npy',\n",
              " '2_A_58.npy',\n",
              " '2_A_98.npy',\n",
              " '2_A_72.npy',\n",
              " '2_A_66.npy',\n",
              " '2_A_56.npy',\n",
              " '2_A_36.npy',\n",
              " '2_A_26.npy',\n",
              " '2_A_81.npy',\n",
              " '2_A_51.npy',\n",
              " '2_A_110.npy',\n",
              " '2_A_20.npy',\n",
              " '2_A_10.npy',\n",
              " '2_A_4.npy',\n",
              " '2_A_28.npy',\n",
              " '2_A_41.npy',\n",
              " '2_A_64.npy',\n",
              " '2_A_59.npy',\n",
              " '2_A_99.npy',\n",
              " '2_A_31.npy',\n",
              " '2_A_49.npy',\n",
              " '2_A_46.npy',\n",
              " '2_A_33.npy',\n",
              " '2_A_91.npy',\n",
              " '2_A_37.npy',\n",
              " '2_A_48.npy',\n",
              " '3_A_92.npy',\n",
              " '3_A_54.npy',\n",
              " '3_A_99.npy',\n",
              " '3_A_21.npy',\n",
              " '3_A_80.npy',\n",
              " '3_A_4.npy',\n",
              " '3_A_14.npy',\n",
              " '3_A_1.npy',\n",
              " '3_A_67.npy',\n",
              " '3_A_87.npy',\n",
              " '3_A_40.npy',\n",
              " '3_A_77.npy',\n",
              " '3_A_13.npy',\n",
              " '3_A_3.npy',\n",
              " '3_A_12.npy',\n",
              " '3_A_63.npy',\n",
              " '3_A_101.npy',\n",
              " '3_A_34.npy',\n",
              " '3_A_65.npy',\n",
              " '3_A_66.npy',\n",
              " '3_A_102.npy',\n",
              " '3_A_118.npy',\n",
              " '3_A_85.npy',\n",
              " '3_A_37.npy',\n",
              " '3_A_108.npy',\n",
              " '3_A_53.npy',\n",
              " '3_A_95.npy',\n",
              " '3_A_75.npy',\n",
              " '3_A_58.npy',\n",
              " '3_A_89.npy',\n",
              " '3_A_9.npy',\n",
              " '3_A_121.npy',\n",
              " '3_A_42.npy',\n",
              " '3_A_59.npy',\n",
              " '3_A_31.npy',\n",
              " '3_A_70.npy',\n",
              " '3_A_20.npy',\n",
              " '3_A_98.npy',\n",
              " '3_A_115.npy',\n",
              " '3_A_16.npy',\n",
              " '3_A_81.npy',\n",
              " '3_A_72.npy',\n",
              " '3_A_64.npy',\n",
              " '3_A_41.npy',\n",
              " '3_A_103.npy',\n",
              " '3_A_96.npy',\n",
              " '3_A_109.npy',\n",
              " '3_A_93.npy',\n",
              " '3_A_8.npy',\n",
              " '3_A_5.npy',\n",
              " '4_A_19.npy',\n",
              " '4_A_28.npy',\n",
              " '4_A_94.npy',\n",
              " '4_A_79.npy',\n",
              " '4_A_33.npy',\n",
              " '4_A_29.npy',\n",
              " '4_A_87.npy',\n",
              " '4_A_92.npy',\n",
              " '4_A_61.npy',\n",
              " '4_A_85.npy',\n",
              " '4_A_102.npy',\n",
              " '4_A_113.npy',\n",
              " '4_A_18.npy',\n",
              " '4_A_3.npy',\n",
              " '4_A_15.npy',\n",
              " '4_A_119.npy',\n",
              " '4_A_93.npy',\n",
              " '4_A_106.npy',\n",
              " '4_A_99.npy',\n",
              " '4_A_73.npy',\n",
              " '4_A_11.npy',\n",
              " '4_A_83.npy',\n",
              " '4_A_66.npy',\n",
              " '4_A_121.npy',\n",
              " '4_A_100.npy',\n",
              " '4_A_68.npy',\n",
              " '4_A_107.npy',\n",
              " '4_A_36.npy',\n",
              " '4_A_14.npy',\n",
              " '4_A_59.npy',\n",
              " '4_A_104.npy',\n",
              " '4_A_50.npy',\n",
              " '4_A_76.npy',\n",
              " '4_A_49.npy',\n",
              " '4_A_81.npy',\n",
              " '4_A_35.npy',\n",
              " '4_A_20.npy',\n",
              " '4_A_52.npy',\n",
              " '4_A_34.npy',\n",
              " '4_A_16.npy',\n",
              " '4_A_17.npy',\n",
              " '4_A_42.npy',\n",
              " '4_A_105.npy',\n",
              " '4_A_64.npy',\n",
              " '4_A_123.npy',\n",
              " '4_A_95.npy',\n",
              " '4_A_31.npy',\n",
              " '4_A_118.npy',\n",
              " '4_A_27.npy',\n",
              " '4_A_38.npy',\n",
              " '5_A_122.npy',\n",
              " '5_A_53.npy',\n",
              " '5_A_47.npy',\n",
              " '5_A_92.npy',\n",
              " '5_A_105.npy',\n",
              " '5_A_101.npy',\n",
              " '5_A_7.npy',\n",
              " '5_A_72.npy',\n",
              " '5_A_33.npy',\n",
              " '5_A_32.npy',\n",
              " '5_A_27.npy',\n",
              " '5_A_77.npy',\n",
              " '5_A_121.npy',\n",
              " '5_A_74.npy',\n",
              " '5_A_71.npy',\n",
              " '5_A_44.npy',\n",
              " '5_A_59.npy',\n",
              " '5_A_43.npy',\n",
              " '5_A_48.npy',\n",
              " '5_A_109.npy',\n",
              " '5_A_76.npy',\n",
              " '5_A_22.npy',\n",
              " '5_A_57.npy',\n",
              " '5_A_113.npy',\n",
              " '5_A_60.npy',\n",
              " '5_A_112.npy',\n",
              " '5_A_24.npy',\n",
              " '5_A_46.npy',\n",
              " '5_A_20.npy',\n",
              " '5_A_52.npy',\n",
              " '5_A_23.npy',\n",
              " '5_A_114.npy',\n",
              " '5_A_63.npy',\n",
              " '5_A_93.npy',\n",
              " '5_A_29.npy',\n",
              " '5_A_103.npy',\n",
              " '5_A_85.npy',\n",
              " '5_A_49.npy',\n",
              " '5_A_97.npy',\n",
              " '5_A_4.npy',\n",
              " '5_A_116.npy',\n",
              " '5_A_12.npy',\n",
              " '5_A_62.npy',\n",
              " '5_A_39.npy',\n",
              " '5_A_55.npy',\n",
              " '5_A_70.npy',\n",
              " '5_A_117.npy',\n",
              " '5_A_9.npy',\n",
              " '5_A_30.npy',\n",
              " '5_A_96.npy',\n",
              " '6_A_67.npy',\n",
              " '6_A_106.npy',\n",
              " '6_A_51.npy',\n",
              " '6_A_69.npy',\n",
              " '6_A_43.npy',\n",
              " '6_A_126.npy',\n",
              " '6_A_113.npy',\n",
              " '6_A_107.npy',\n",
              " '6_A_52.npy',\n",
              " '6_A_11.npy',\n",
              " '6_A_119.npy',\n",
              " '6_A_20.npy',\n",
              " '6_A_60.npy',\n",
              " '6_A_102.npy',\n",
              " '6_A_62.npy',\n",
              " '6_A_66.npy',\n",
              " '6_A_93.npy',\n",
              " '6_A_82.npy',\n",
              " '6_A_38.npy',\n",
              " '6_A_4.npy',\n",
              " '6_A_56.npy',\n",
              " '6_A_1.npy',\n",
              " '6_A_124.npy',\n",
              " '6_A_14.npy',\n",
              " '6_A_99.npy',\n",
              " '6_A_45.npy',\n",
              " '6_A_64.npy',\n",
              " '6_A_27.npy',\n",
              " '6_A_41.npy',\n",
              " '6_A_127.npy',\n",
              " '6_A_42.npy',\n",
              " '6_A_16.npy',\n",
              " '6_A_40.npy',\n",
              " '6_A_18.npy',\n",
              " '6_A_75.npy',\n",
              " '6_A_84.npy',\n",
              " '6_A_91.npy',\n",
              " '6_A_63.npy',\n",
              " '6_A_81.npy',\n",
              " '6_A_58.npy',\n",
              " '6_A_96.npy',\n",
              " '6_A_79.npy',\n",
              " '6_A_122.npy',\n",
              " '6_A_29.npy',\n",
              " '6_A_48.npy',\n",
              " '6_A_5.npy',\n",
              " '6_A_109.npy',\n",
              " '6_A_88.npy',\n",
              " '6_A_9.npy',\n",
              " '6_A_108.npy',\n",
              " '7_A_38.npy',\n",
              " '7_A_76.npy',\n",
              " '7_A_35.npy',\n",
              " '7_A_70.npy',\n",
              " '7_A_26.npy',\n",
              " '7_A_54.npy',\n",
              " '7_A_6.npy',\n",
              " '7_A_21.npy',\n",
              " '7_A_17.npy',\n",
              " '7_A_91.npy',\n",
              " '7_A_25.npy',\n",
              " '7_A_39.npy',\n",
              " '7_A_120.npy',\n",
              " '7_A_74.npy',\n",
              " '7_A_99.npy',\n",
              " '7_A_9.npy',\n",
              " '7_A_11.npy',\n",
              " '7_A_72.npy',\n",
              " '7_A_100.npy',\n",
              " '7_A_122.npy',\n",
              " '7_A_41.npy',\n",
              " '7_A_96.npy',\n",
              " '7_A_92.npy',\n",
              " '7_A_111.npy',\n",
              " '7_A_78.npy',\n",
              " '7_A_127.npy',\n",
              " '7_A_103.npy',\n",
              " '7_A_3.npy',\n",
              " '7_A_40.npy',\n",
              " '7_A_12.npy',\n",
              " '7_A_8.npy',\n",
              " '7_A_28.npy',\n",
              " '7_A_13.npy',\n",
              " '7_A_49.npy',\n",
              " '7_A_67.npy',\n",
              " '7_A_112.npy',\n",
              " '7_A_82.npy',\n",
              " '7_A_105.npy',\n",
              " '7_A_81.npy',\n",
              " '7_A_61.npy',\n",
              " '7_A_5.npy',\n",
              " '7_A_22.npy',\n",
              " '7_A_114.npy',\n",
              " '7_A_73.npy',\n",
              " '7_A_98.npy',\n",
              " '7_A_23.npy',\n",
              " '7_A_115.npy',\n",
              " '7_A_51.npy',\n",
              " '7_A_60.npy',\n",
              " '7_A_63.npy',\n",
              " '8_A_110.npy',\n",
              " '8_A_34.npy',\n",
              " '8_A_11.npy',\n",
              " '8_A_118.npy',\n",
              " '8_A_95.npy',\n",
              " '8_A_65.npy',\n",
              " '8_A_52.npy',\n",
              " '8_A_96.npy',\n",
              " '8_A_62.npy',\n",
              " '8_A_124.npy',\n",
              " '8_A_103.npy',\n",
              " '8_A_127.npy',\n",
              " '8_A_61.npy',\n",
              " '8_A_18.npy',\n",
              " '8_A_107.npy',\n",
              " '8_A_90.npy',\n",
              " '8_A_97.npy',\n",
              " '8_A_29.npy',\n",
              " '8_A_30.npy',\n",
              " '8_A_67.npy',\n",
              " '8_A_66.npy',\n",
              " '8_A_54.npy',\n",
              " '8_A_35.npy',\n",
              " '8_A_33.npy',\n",
              " '8_A_119.npy',\n",
              " '8_A_70.npy',\n",
              " '8_A_120.npy',\n",
              " '8_A_40.npy',\n",
              " '8_A_112.npy',\n",
              " '8_A_71.npy',\n",
              " '8_A_82.npy',\n",
              " '8_A_43.npy',\n",
              " '8_A_94.npy',\n",
              " '8_A_6.npy',\n",
              " '8_A_58.npy',\n",
              " '8_A_26.npy',\n",
              " '8_A_76.npy',\n",
              " '8_A_28.npy',\n",
              " '8_A_47.npy',\n",
              " '8_A_106.npy',\n",
              " '8_A_4.npy',\n",
              " '8_A_32.npy',\n",
              " '8_A_22.npy',\n",
              " '8_A_113.npy',\n",
              " '8_A_123.npy',\n",
              " '8_A_115.npy',\n",
              " '8_A_19.npy',\n",
              " '8_A_44.npy',\n",
              " '8_A_45.npy',\n",
              " '8_A_68.npy',\n",
              " '9_A_82.npy',\n",
              " '9_A_4.npy',\n",
              " '9_A_51.npy',\n",
              " '9_A_81.npy',\n",
              " '9_A_95.npy',\n",
              " '9_A_119.npy',\n",
              " '9_A_110.npy',\n",
              " '9_A_67.npy',\n",
              " '9_A_122.npy',\n",
              " '9_A_72.npy',\n",
              " '9_A_96.npy',\n",
              " '9_A_70.npy',\n",
              " '9_A_112.npy',\n",
              " '9_A_104.npy',\n",
              " '9_A_86.npy',\n",
              " '9_A_21.npy',\n",
              " '9_A_121.npy',\n",
              " '9_A_109.npy',\n",
              " '9_A_103.npy',\n",
              " '9_A_123.npy',\n",
              " '9_A_53.npy',\n",
              " '9_A_90.npy',\n",
              " '9_A_19.npy',\n",
              " '9_A_46.npy',\n",
              " '9_A_75.npy',\n",
              " '9_A_59.npy',\n",
              " '9_A_5.npy',\n",
              " '9_A_102.npy',\n",
              " '9_A_38.npy',\n",
              " '9_A_116.npy',\n",
              " '9_A_41.npy',\n",
              " '9_A_25.npy',\n",
              " '9_A_88.npy',\n",
              " '9_A_11.npy',\n",
              " '9_A_31.npy',\n",
              " '9_A_3.npy',\n",
              " '9_A_107.npy',\n",
              " '9_A_127.npy',\n",
              " '9_A_89.npy',\n",
              " '9_A_100.npy',\n",
              " '9_A_92.npy',\n",
              " '9_A_12.npy',\n",
              " '9_A_42.npy',\n",
              " '9_A_8.npy',\n",
              " '9_A_85.npy',\n",
              " '9_A_99.npy',\n",
              " '9_A_48.npy',\n",
              " '9_A_23.npy',\n",
              " '9_A_26.npy',\n",
              " '9_A_80.npy',\n",
              " '10_A_127.npy',\n",
              " '10_A_16.npy',\n",
              " '10_A_55.npy',\n",
              " '10_A_41.npy',\n",
              " '10_A_7.npy',\n",
              " '10_A_10.npy',\n",
              " '10_A_44.npy',\n",
              " '10_A_102.npy',\n",
              " '10_A_15.npy',\n",
              " '10_A_5.npy',\n",
              " '10_A_74.npy',\n",
              " '10_A_91.npy',\n",
              " '10_A_81.npy',\n",
              " '10_A_4.npy',\n",
              " '10_A_108.npy',\n",
              " '10_A_42.npy',\n",
              " '10_A_27.npy',\n",
              " '10_A_89.npy',\n",
              " '10_A_68.npy',\n",
              " '10_A_49.npy',\n",
              " '10_A_32.npy',\n",
              " '10_A_79.npy',\n",
              " '10_A_39.npy',\n",
              " '10_A_71.npy',\n",
              " '10_A_126.npy',\n",
              " '10_A_67.npy',\n",
              " '10_A_99.npy',\n",
              " '10_A_85.npy',\n",
              " '10_A_14.npy',\n",
              " '10_A_120.npy',\n",
              " '10_A_64.npy',\n",
              " '10_A_86.npy',\n",
              " '10_A_90.npy',\n",
              " '10_A_9.npy',\n",
              " '10_A_20.npy',\n",
              " '10_A_21.npy',\n",
              " '10_A_80.npy',\n",
              " '10_A_3.npy',\n",
              " '10_A_63.npy',\n",
              " '10_A_52.npy',\n",
              " '10_A_23.npy',\n",
              " '10_A_84.npy',\n",
              " '10_A_77.npy',\n",
              " '10_A_109.npy',\n",
              " '10_A_61.npy',\n",
              " '10_A_122.npy',\n",
              " '10_A_88.npy',\n",
              " '10_A_35.npy',\n",
              " '10_A_30.npy',\n",
              " '10_A_62.npy']"
            ]
          },
          "metadata": {},
          "execution_count": 35
        }
      ]
    },
    {
      "cell_type": "code",
      "source": [
        "len(list_temp)"
      ],
      "metadata": {
        "colab": {
          "base_uri": "https://localhost:8080/"
        },
        "id": "2lhZd3PlvwAq",
        "outputId": "99cf7b1a-5932-4cd4-aa96-abe5811d57fc"
      },
      "execution_count": 36,
      "outputs": [
        {
          "output_type": "execute_result",
          "data": {
            "text/plain": [
              "450"
            ]
          },
          "metadata": {},
          "execution_count": 36
        }
      ]
    },
    {
      "cell_type": "code",
      "source": [
        "dst = '/content/drive/MyDrive/DOCTORADO/python/datos_para_entrenar_modelos/modelo_1.X/train/50p_rand_50n/imgs/'"
      ],
      "metadata": {
        "id": "83XEic0Qz36q"
      },
      "execution_count": 37,
      "outputs": []
    },
    {
      "cell_type": "code",
      "source": [
        "for i in range(len(list_temp)):\n",
        " shutil.copyfile(train_img_dir + list_temp[i], dst + list_temp[i])"
      ],
      "metadata": {
        "id": "pwbjSCf6ovWF"
      },
      "execution_count": 38,
      "outputs": []
    },
    {
      "cell_type": "code",
      "source": [
        "print(len(os.listdir(dst)))"
      ],
      "metadata": {
        "colab": {
          "base_uri": "https://localhost:8080/"
        },
        "id": "wiMJ5En6NYDE",
        "outputId": "60d4b7e0-7b51-4c1a-fd9e-18bd2e688e27"
      },
      "execution_count": 39,
      "outputs": [
        {
          "output_type": "stream",
          "name": "stdout",
          "text": [
            "450\n"
          ]
        }
      ]
    },
    {
      "cell_type": "code",
      "source": [
        "dst_masks = '/content/drive/MyDrive/DOCTORADO/python/datos_para_entrenar_modelos/modelo_1.X/train/50p_rand_50n/masks/'"
      ],
      "metadata": {
        "id": "ODIiGgjysRuh"
      },
      "execution_count": 40,
      "outputs": []
    },
    {
      "cell_type": "code",
      "source": [
        "for i in range(len(list_temp)):\n",
        "  shutil.copyfile(train_mask_dir + list_temp[i], dst_masks + list_temp[i])"
      ],
      "metadata": {
        "id": "1JX5pNlWsHlj"
      },
      "execution_count": 41,
      "outputs": []
    },
    {
      "cell_type": "code",
      "source": [
        "len(os.listdir(dst_masks))"
      ],
      "metadata": {
        "colab": {
          "base_uri": "https://localhost:8080/"
        },
        "id": "8oYqg_EhQgP3",
        "outputId": "1dc7f46c-07db-4f1f-cb44-ae5f19469673"
      },
      "execution_count": 42,
      "outputs": [
        {
          "output_type": "execute_result",
          "data": {
            "text/plain": [
              "450"
            ]
          },
          "metadata": {},
          "execution_count": 42
        }
      ]
    },
    {
      "cell_type": "markdown",
      "source": [
        " Ahora se copian a la misma carpeta, los patches previamente aumentados"
      ],
      "metadata": {
        "id": "vOmkoVApwK2W"
      }
    },
    {
      "cell_type": "code",
      "source": [
        "aug_img_dir = '/content/drive/MyDrive/DOCTORADO/python/datos_para_entrenar_modelos/modelo_1.X/aug/imgs/'\n",
        "list_img_aug = os.listdir(aug_img_dir)\n",
        "list_img_aug = natsort.natsorted(list_img_aug)\n",
        "\n",
        "for i in range(len(list_img_aug)):\n",
        "  shutil.copyfile(aug_img_dir+list_img_aug[i], dst + list_img_aug[i])"
      ],
      "metadata": {
        "id": "xN_-Ksk0adgE"
      },
      "execution_count": 43,
      "outputs": []
    },
    {
      "cell_type": "code",
      "source": [
        "print(len(os.listdir(dst)))"
      ],
      "metadata": {
        "colab": {
          "base_uri": "https://localhost:8080/"
        },
        "id": "glSgbkTPzNd9",
        "outputId": "95409329-adba-422e-a5d2-b2104619af48"
      },
      "execution_count": 46,
      "outputs": [
        {
          "output_type": "stream",
          "name": "stdout",
          "text": [
            "900\n"
          ]
        }
      ]
    },
    {
      "cell_type": "code",
      "source": [
        "aug_mask_dir = '/content/drive/MyDrive/DOCTORADO/python/datos_para_entrenar_modelos/modelo_1.X/aug/masks/'\n",
        "list_mask_aug = os.listdir(aug_mask_dir)\n",
        "list_mask_aug = natsort.natsorted(list_mask_aug)\n",
        "\n",
        "for i in range(len(list_mask_aug)):\n",
        "  shutil.copyfile(aug_mask_dir + list_mask_aug[i], dst_masks + list_mask_aug[i])"
      ],
      "metadata": {
        "id": "cFgU5QpHkTpd"
      },
      "execution_count": 44,
      "outputs": []
    },
    {
      "cell_type": "code",
      "source": [
        "print(len(os.listdir(dst_masks)))"
      ],
      "metadata": {
        "colab": {
          "base_uri": "https://localhost:8080/"
        },
        "id": "6a9blplYxQv-",
        "outputId": "06a8577f-203f-4b2a-8093-2f58ffe314d0"
      },
      "execution_count": 47,
      "outputs": [
        {
          "output_type": "stream",
          "name": "stdout",
          "text": [
            "900\n"
          ]
        }
      ]
    }
  ]
}